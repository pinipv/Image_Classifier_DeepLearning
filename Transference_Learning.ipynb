{
  "nbformat": 4,
  "nbformat_minor": 0,
  "metadata": {
    "colab": {
      "name": "Transference_Learning.ipynb",
      "provenance": [],
      "collapsed_sections": [],
      "authorship_tag": "ABX9TyMxpo8Mj8szBJ0ObcJZWhVl",
      "include_colab_link": true
    },
    "kernelspec": {
      "name": "python3",
      "display_name": "Python 3"
    },
    "language_info": {
      "name": "python"
    }
  },
  "cells": [
    {
      "cell_type": "markdown",
      "metadata": {
        "id": "view-in-github",
        "colab_type": "text"
      },
      "source": [
        "<a href=\"https://colab.research.google.com/github/pinipv/Image_Classifier_DeepLearning/blob/main/Transference_Learning.ipynb\" target=\"_parent\"><img src=\"https://colab.research.google.com/assets/colab-badge.svg\" alt=\"Open In Colab\"/></a>"
      ]
    },
    {
      "cell_type": "code",
      "execution_count": 2,
      "metadata": {
        "id": "hPin9CnLYPyf"
      },
      "outputs": [],
      "source": [
        "import numpy as np # linear algebra\n",
        "import pandas as pd # data processing, CSV file I/O (e.g. pd.read_csv)\n",
        "import seaborn as sns\n",
        "import matplotlib.pyplot as plt\n",
        "\n",
        "from os import listdir\n",
        "from skimage import io\n",
        "\n",
        "\n",
        "\n",
        "from sklearn.model_selection import train_test_split\n",
        "from sklearn.metrics import confusion_matrix\n",
        "\n",
        "\n",
        "\n",
        "import itertools\n",
        "\n",
        "from keras.utils.np_utils import to_categorical # convert to one-hot-encoding\n",
        "from keras.models import Sequential\n",
        "from keras.layers import Dense, Dropout, Flatten, Conv2D, MaxPool2D\n",
        "\n",
        "import tensorflow as tf\n",
        "\n",
        "from keras.preprocessing.image import ImageDataGenerator\n",
        "from keras.callbacks import ReduceLROnPlateau"
      ]
    },
    {
      "cell_type": "code",
      "source": [
        "from tensorflow.keras.preprocessing import image\n",
        "from google.colab import files\n",
        "import cv2\n",
        "\n",
        "\n",
        "def obtener_imagenes(etiqueta):\n",
        "      ### Esta variable contendrá las imagenes de base\n",
        "      imagenes = []\n",
        "      imagenes_base = []\n",
        "\n",
        "      y = []\n",
        "      uploades = files.upload()  #### Este método permite subir archivos a colab(carpeta content)\n",
        "\n",
        "      for fn in uploades.keys():\n",
        "          path = '/content/' + fn\n",
        "          img = image.load_img(path)\n",
        "\n",
        "          imagenes_base.append(img)\n",
        "\n",
        "      for i in range(0,len(imagenes_base)):\n",
        "                \n",
        "                #### obtenemos cada ruta de la imagen y la leemos guardando asi la imagen\n",
        "                ima = np.array(imagenes_base[i])\n",
        "                \n",
        "                #### Añadimos cara imagen al array de imagenes base    \n",
        "                image_resized = cv2.resize(ima, (100,100))  \n",
        "                imagenes.append(image_resized)  #.astype('float32')/255)    ##Las formatearemos mas adelante\n",
        "\n",
        "                #### Añadimos cada label de la imagen a la lista de labels(y) definitiva\n",
        "                y.append(str(etiqueta))\n",
        "                \n",
        "      #imagenes = np.array(imagenes)\n",
        "      #print(np.array(imagenes).shape)\n",
        "      #print(imagenes[0].shape)\n",
        "      return (imagenes, y)"
      ],
      "metadata": {
        "id": "7XsWqImtYTvV"
      },
      "execution_count": 3,
      "outputs": []
    },
    {
      "cell_type": "code",
      "source": [
        "def sacar_test(nparray, labels):\n",
        "  test = nparray[:99]     \n",
        "  train = np.delete(nparray,np.s_[:99],0)\n",
        "  test_labels = labels[:99]\n",
        "  train_labels = np.delete(labels, np.s_[:99],0)\n",
        "  return (train, test, train_labels, test_labels)\n"
      ],
      "metadata": {
        "id": "ZNTSLFWEYWsE"
      },
      "execution_count": 4,
      "outputs": []
    },
    {
      "cell_type": "code",
      "source": [
        "from tensorflow.keras.preprocessing.image import ImageDataGenerator\n",
        "\n",
        "\n",
        "train_datagen = ImageDataGenerator(\n",
        "    rescale = 1./255.,\n",
        "    rotation_range= 40,   ### Maximo valor de rotacion de la imagen\n",
        "    width_shift_range = 0.2,\n",
        "    height_shift_range = 0.2\n",
        ")"
      ],
      "metadata": {
        "id": "vEgYWbgeYbcc"
      },
      "execution_count": 5,
      "outputs": []
    },
    {
      "cell_type": "code",
      "source": [
        "from keras_preprocessing.image.utils import img_to_array\n",
        "import tensorflow as tf\n",
        "from tensorflow.keras import layers\n",
        "\n",
        "def obtener_copias(imagenes_base, etiqueta,copias):\n",
        "      lista_imagenes = []\n",
        "      y = []\n",
        "      generador = train_datagen\n",
        "      generador.fit(imagenes_base)\n",
        "      \n",
        "\n",
        "      for i in imagenes_base:  \n",
        "              imagen = np.array(i).reshape(-1,100,100,3)  \n",
        "              it = generador.flow( imagen , batch_size=1)     \n",
        "              #### Solo se crean las imagenes cuando se hace it.next()\n",
        "              for j in range(int(copias)):   #### Luego este rango determinará cuantas imágenes se crean\n",
        "                batch = it.next()\n",
        "                imag = batch[0]\n",
        "                imagenn= img_to_array(imag)\n",
        "\n",
        "                #### Reescalamos la imagen a un formato de (100 x 100)\n",
        "                IMG_SIZE = 100\n",
        "\n",
        "                resize_and_rescale = tf.keras.Sequential([\n",
        "                  layers.Resizing(IMG_SIZE, IMG_SIZE)\n",
        "                ])\n",
        "\n",
        "                result = resize_and_rescale(imagenn)\n",
        "\n",
        "            #### Añadimos la imagen y el label a las listas definitivas\n",
        "                lista_imagenes.append(result)\n",
        "                y.append(str(etiqueta))\n",
        "          \n",
        "      #### Devolvemos en formato tupla la lista con todas las imagenes y la tupla con todos los labels\n",
        "      return (lista_imagenes, y)"
      ],
      "metadata": {
        "id": "mqKZKYYuYdOF"
      },
      "execution_count": 6,
      "outputs": []
    },
    {
      "cell_type": "code",
      "source": [
        "from sklearn.preprocessing import LabelEncoder\n",
        "\n",
        "def categorizar_labels(train_labs, test_labs):\n",
        "  y_encoded = LabelEncoder().fit_transform(train_labs)\n",
        "  train_categorical = tf.keras.utils.to_categorical(y_encoded)\n",
        "  y_encoded = LabelEncoder().transform(test_labs)\n",
        "  test_categorical = tf.keras.utils.to_categorical(y_encoded)\n",
        "\n",
        "  return (train_categorical, test_categorical)"
      ],
      "metadata": {
        "id": "dNWfPKXzYeu1"
      },
      "execution_count": 7,
      "outputs": []
    },
    {
      "cell_type": "code",
      "source": [
        "from sklearn.utils import shuffle\n",
        "\n",
        "def barajar_train(dataset, labels, seed): \n",
        "\n",
        "    #### 'Barajamos' los array de imagenes y de labels\n",
        "\n",
        "    # ¿¿¿¿¿¿¿Necesario???????\n",
        "    shuffle_dataset = shuffle(dataset, random_state = int(seed))\n",
        "    shuffle_labels  = shuffle(labels, random_state = int(seed))\n",
        "    #\n",
        "    '''\n",
        "    a,b,c,d = np.vsplit(shuffle_dataset, 4)\n",
        "    e,f,g,h = np.vsplit(shuffle_labels, 4)\n",
        "    '''\n",
        "    train_dataset = shuffle_dataset#np.concatenate((a,b,c), axis=0)\n",
        "    #test_dataset  = d\n",
        "    train_labels  = shuffle_labels#np.concatenate((e,f,g), axis= 0)\n",
        "    #test_labels   = h\n",
        "\n",
        "    return (train_dataset, train_labels)"
      ],
      "metadata": {
        "id": "ss7yt35-YgqF"
      },
      "execution_count": 8,
      "outputs": []
    },
    {
      "cell_type": "code",
      "source": [
        "airplanes, y_aviones = obtener_imagenes('airplane')\n",
        "airplanes = np.array(airplanes)"
      ],
      "metadata": {
        "id": "iVuR3n-eYi1H"
      },
      "execution_count": null,
      "outputs": []
    },
    {
      "cell_type": "code",
      "source": [
        "car, y_car = obtener_imagenes('car')\n",
        "car = np.array(car)"
      ],
      "metadata": {
        "id": "XQhRbB1-YkO9"
      },
      "execution_count": null,
      "outputs": []
    },
    {
      "cell_type": "code",
      "source": [
        "cat, y_cat = obtener_imagenes('cat')\n",
        "cat = np.array(cat)"
      ],
      "metadata": {
        "id": "ok_-bVAmYlyO"
      },
      "execution_count": null,
      "outputs": []
    },
    {
      "cell_type": "code",
      "source": [
        "dog, y_dog = obtener_imagenes('dog')\n",
        "dog = np.array(dog)"
      ],
      "metadata": {
        "id": "aPXYAhfMYnFN"
      },
      "execution_count": null,
      "outputs": []
    },
    {
      "cell_type": "code",
      "source": [
        "flower, y_flower = obtener_imagenes('flower')\n",
        "flower = np.array(flower)"
      ],
      "metadata": {
        "id": "zAQ_78cJYoxf"
      },
      "execution_count": null,
      "outputs": []
    },
    {
      "cell_type": "code",
      "source": [
        "fruit, y_fruit = obtener_imagenes('fruit')\n",
        "fruit = np.array(fruit)"
      ],
      "metadata": {
        "id": "cH7l_lurYqLl"
      },
      "execution_count": null,
      "outputs": []
    },
    {
      "cell_type": "markdown",
      "source": [
        ""
      ],
      "metadata": {
        "id": "LXUNP4HAavLA"
      }
    },
    {
      "cell_type": "code",
      "source": [
        "train_air, test_air, train_labels_air, test_labels_air = sacar_test(airplanes,y_aviones)"
      ],
      "metadata": {
        "id": "HljA5yLJaExm"
      },
      "execution_count": 15,
      "outputs": []
    },
    {
      "cell_type": "code",
      "source": [
        "train_car, test_car, train_labels_car, test_labels_car = sacar_test(car,y_car)"
      ],
      "metadata": {
        "id": "3gl6HuaaaExm"
      },
      "execution_count": 16,
      "outputs": []
    },
    {
      "cell_type": "code",
      "source": [
        "train_cat, test_cat, train_labels_cat, test_labels_cat = sacar_test(cat,y_cat)"
      ],
      "metadata": {
        "id": "5i6aw8YUaExm"
      },
      "execution_count": 17,
      "outputs": []
    },
    {
      "cell_type": "code",
      "source": [
        "train_dog, test_dog, train_labels_dog, test_labels_dog = sacar_test(dog,y_dog)"
      ],
      "metadata": {
        "id": "7ywNcpuuaExm"
      },
      "execution_count": 18,
      "outputs": []
    },
    {
      "cell_type": "code",
      "source": [
        "train_flower, test_flower, train_labels_flower, test_labels_flower = sacar_test(flower,y_flower)"
      ],
      "metadata": {
        "id": "zOyzhx2PaExn"
      },
      "execution_count": 19,
      "outputs": []
    },
    {
      "cell_type": "code",
      "source": [
        "train_fruit, test_fruit, train_labels_fruit, test_labels_fruit = sacar_test(fruit,y_fruit)"
      ],
      "metadata": {
        "id": "0z7VJGUxaExn"
      },
      "execution_count": 20,
      "outputs": []
    },
    {
      "cell_type": "markdown",
      "source": [
        ""
      ],
      "metadata": {
        "id": "rUlbT39JauqB"
      }
    },
    {
      "cell_type": "code",
      "source": [
        "generacion_aviones, y_generacion_aviones = obtener_copias(train_air , 'airplane',5)"
      ],
      "metadata": {
        "id": "FTtgcBSAC5l8"
      },
      "execution_count": 21,
      "outputs": []
    },
    {
      "cell_type": "code",
      "source": [
        "generacion_cars, y_generacion_cars = obtener_copias(train_car , 'car',5)"
      ],
      "metadata": {
        "id": "EXqau15gC6_z"
      },
      "execution_count": 22,
      "outputs": []
    },
    {
      "cell_type": "code",
      "source": [
        "generacion_cat, y_generacion_cat = obtener_copias(train_cat , 'cat',5)"
      ],
      "metadata": {
        "id": "tViKtKxEC62O"
      },
      "execution_count": 23,
      "outputs": []
    },
    {
      "cell_type": "code",
      "source": [
        "generacion_dog, y_generacion_dog = obtener_copias(train_dog , 'dog',5)"
      ],
      "metadata": {
        "id": "3_qOqw6SC6sr"
      },
      "execution_count": 24,
      "outputs": []
    },
    {
      "cell_type": "code",
      "source": [
        "generacion_flower, y_generacion_flower = obtener_copias(train_flower , 'flower',5)"
      ],
      "metadata": {
        "id": "XTzeojInC6ik"
      },
      "execution_count": 25,
      "outputs": []
    },
    {
      "cell_type": "code",
      "source": [
        "generacion_fruit, y_generacion_fruit = obtener_copias(train_fruit , 'fruit',5)"
      ],
      "metadata": {
        "id": "O-6dzmVZC6X_"
      },
      "execution_count": 26,
      "outputs": []
    },
    {
      "cell_type": "markdown",
      "source": [
        ""
      ],
      "metadata": {
        "id": "rgcsT7Dhatvx"
      }
    },
    {
      "cell_type": "code",
      "source": [
        "train_airplanef = np.concatenate((train_air, np.array(generacion_aviones)), axis=0)\n",
        "labels_airplanes = np.concatenate((train_labels_air, y_generacion_aviones), axis = 0)\n",
        "\n",
        "train_lbairplane = labels_airplanes.reshape(-1,1)"
      ],
      "metadata": {
        "id": "gsTTqhobEm9C"
      },
      "execution_count": 27,
      "outputs": []
    },
    {
      "cell_type": "code",
      "source": [
        "train_carf = np.concatenate((train_car, np.array(generacion_cars)), axis=0)\n",
        "labels_cars = np.concatenate((train_labels_car, y_generacion_cars), axis = 0)\n",
        "\n",
        "train_lbcar = labels_cars.reshape(-1,1)"
      ],
      "metadata": {
        "id": "9ZLdBXC6Eqtd"
      },
      "execution_count": 28,
      "outputs": []
    },
    {
      "cell_type": "code",
      "source": [
        "train_catf = np.concatenate((train_cat, np.array(generacion_cat)), axis=0)\n",
        "labels_cats = np.concatenate((train_labels_cat, y_generacion_cat), axis = 0)\n",
        "\n",
        "train_lbcat = labels_cats.reshape(-1,1)"
      ],
      "metadata": {
        "id": "yPGctJQ3EqkP"
      },
      "execution_count": 29,
      "outputs": []
    },
    {
      "cell_type": "code",
      "source": [
        "train_dogf = np.concatenate((train_dog, np.array(generacion_dog)), axis=0)\n",
        "labels_dogs = np.concatenate((train_labels_dog, y_generacion_dog), axis = 0)\n",
        "\n",
        "train_lbdog = labels_dogs.reshape(-1,1)"
      ],
      "metadata": {
        "id": "IRdeuiMlEqZ6"
      },
      "execution_count": 30,
      "outputs": []
    },
    {
      "cell_type": "code",
      "source": [
        "train_flowerf = np.concatenate((train_flower, np.array(generacion_flower)), axis=0)\n",
        "labels_flowers = np.concatenate((train_labels_flower, y_generacion_flower), axis = 0)\n",
        "\n",
        "train_lbflower = labels_flowers.reshape(-1,1)"
      ],
      "metadata": {
        "id": "1ljc7NN4EqON"
      },
      "execution_count": 31,
      "outputs": []
    },
    {
      "cell_type": "code",
      "source": [
        "train_fruitf = np.concatenate((train_fruit, np.array(generacion_fruit)), axis=0)\n",
        "labels_fruits = np.concatenate((train_labels_fruit, y_generacion_fruit), axis = 0)\n",
        "\n",
        "train_lbfruit = labels_fruits.reshape(-1,1)"
      ],
      "metadata": {
        "id": "F3LQV8DuEp56"
      },
      "execution_count": 32,
      "outputs": []
    },
    {
      "cell_type": "code",
      "source": [
        "train =  np.concatenate((train_airplanef, train_carf, train_catf, train_dogf, train_flowerf, train_fruitf), axis=0)\n",
        "train_labels = np.concatenate((train_lbairplane, train_lbcar, train_lbcat, train_lbdog, train_lbflower, train_lbfruit))\n",
        "\n",
        "X_train, y_train = barajar_train(train, train_labels, 42)"
      ],
      "metadata": {
        "id": "NIDwcyUXTSHA"
      },
      "execution_count": 33,
      "outputs": []
    },
    {
      "cell_type": "code",
      "source": [
        "test = np.concatenate((test_air, test_car, test_car, test_dog, test_flower, test_fruit))\n",
        "test_labels = np.concatenate((test_labels_air, test_labels_car, test_labels_cat, test_labels_dog, test_labels_flower, test_labels_fruit), axis =0)\n",
        "\n",
        "X_test, y_test = barajar_train(test, test_labels, 42)"
      ],
      "metadata": {
        "id": "-4lRhKxkViAC"
      },
      "execution_count": 34,
      "outputs": []
    },
    {
      "cell_type": "code",
      "source": [
        ""
      ],
      "metadata": {
        "id": "L1aqXCa4aNTt"
      },
      "execution_count": null,
      "outputs": []
    },
    {
      "cell_type": "code",
      "source": [
        "from sklearn.preprocessing import LabelEncoder\n",
        "\n",
        "def categorizar_labels(train_labs, test_labs):\n",
        "  y_encoded = LabelEncoder().fit_transform(train_labs)\n",
        "  train_categorical = tf.keras.utils.to_categorical(y_encoded)\n",
        "  y_encoded = LabelEncoder().fit_transform(test_labs)\n",
        "  test_categorical = tf.keras.utils.to_categorical(y_encoded)\n",
        "\n",
        "  return (train_categorical, test_categorical)"
      ],
      "metadata": {
        "id": "NNkEf7orZcyq"
      },
      "execution_count": 35,
      "outputs": []
    },
    {
      "cell_type": "code",
      "source": [
        "y_train, y_test = categorizar_labels(y_train, y_test)"
      ],
      "metadata": {
        "colab": {
          "base_uri": "https://localhost:8080/"
        },
        "id": "PNJ5dIS2Z7PV",
        "outputId": "96382adf-d2f4-4c1f-8110-9e58b64814ad"
      },
      "execution_count": 36,
      "outputs": [
        {
          "output_type": "stream",
          "name": "stderr",
          "text": [
            "/usr/local/lib/python3.7/dist-packages/sklearn/preprocessing/_label.py:115: DataConversionWarning: A column-vector y was passed when a 1d array was expected. Please change the shape of y to (n_samples, ), for example using ravel().\n",
            "  y = column_or_1d(y, warn=True)\n"
          ]
        }
      ]
    },
    {
      "cell_type": "markdown",
      "source": [
        "# Modelo"
      ],
      "metadata": {
        "id": "CgAphKPXarf4"
      }
    },
    {
      "cell_type": "code",
      "source": [
        "from tensorflow.keras import datasets, layers, models, applications, optimizers"
      ],
      "metadata": {
        "id": "OgTpEfs1cTr1"
      },
      "execution_count": 37,
      "outputs": []
    },
    {
      "cell_type": "code",
      "source": [
        "modelo_pre= tf.keras.models.load_model('sample_data/modelos/modelo.h5')\n",
        "\n",
        "extractor_características = modelo_pre.output"
      ],
      "metadata": {
        "id": "g6EbR_QAa8A7"
      },
      "execution_count": 39,
      "outputs": []
    },
    {
      "cell_type": "code",
      "source": [
        "for layer in modelo_pre.layers: layer.trainable = False\n",
        "\n",
        "\n"
      ],
      "metadata": {
        "id": "_iuCvsXMc1Iv"
      },
      "execution_count": 42,
      "outputs": []
    },
    {
      "cell_type": "code",
      "source": [
        "from tensorflow.keras.applications import ResNet50\n",
        "\n",
        "modelo_pro = ResNet50()\n",
        "\n"
      ],
      "metadata": {
        "id": "gdsT6Kbac1Ba"
      },
      "execution_count": null,
      "outputs": []
    },
    {
      "cell_type": "code",
      "source": [
        "model = Sequential()\n",
        "model.add(modelo_pre)\n",
        "model.add(Dense(64, activation='relu'))\n",
        "\n",
        "\n",
        "'''\n",
        "model.add(Dense(64, activation='relu'))\n",
        "model.add(Dense(128, activation='relu'))\n",
        "model.add(Dense(64, activation='relu'))\n",
        "'''\n",
        "\n",
        "model.add(Dense(6, activation='softmax'))\n",
        "model.layers[0].trainable = False"
      ],
      "metadata": {
        "id": "LYWgL3TxeIRV"
      },
      "execution_count": 43,
      "outputs": []
    },
    {
      "cell_type": "code",
      "source": [
        ""
      ],
      "metadata": {
        "id": "PzlLP2Mq28DB"
      },
      "execution_count": null,
      "outputs": []
    },
    {
      "cell_type": "code",
      "source": [
        "model.summary()"
      ],
      "metadata": {
        "colab": {
          "base_uri": "https://localhost:8080/"
        },
        "id": "hCAUKIuDe2i4",
        "outputId": "984c40f5-5c13-443f-a5a7-0aefd2ae7ef4"
      },
      "execution_count": 44,
      "outputs": [
        {
          "output_type": "stream",
          "name": "stdout",
          "text": [
            "Model: \"sequential_3020\"\n",
            "_________________________________________________________________\n",
            " Layer (type)                Output Shape              Param #   \n",
            "=================================================================\n",
            " sequential_5418 (Sequential  (None, 6)                5025318   \n",
            " )                                                               \n",
            "                                                                 \n",
            " dense_1 (Dense)             (None, 64)                448       \n",
            "                                                                 \n",
            " dense_2 (Dense)             (None, 6)                 390       \n",
            "                                                                 \n",
            "=================================================================\n",
            "Total params: 5,026,156\n",
            "Trainable params: 838\n",
            "Non-trainable params: 5,025,318\n",
            "_________________________________________________________________\n"
          ]
        }
      ]
    },
    {
      "cell_type": "markdown",
      "source": [
        ""
      ],
      "metadata": {
        "id": "nnTzDPGteH0X"
      }
    },
    {
      "cell_type": "code",
      "source": [
        "adam = tf.keras.optimizers.Adam(learning_rate=0.001)"
      ],
      "metadata": {
        "id": "vkGUVXg4blNc"
      },
      "execution_count": 45,
      "outputs": []
    },
    {
      "cell_type": "code",
      "source": [
        "model.compile(loss = 'categorical_crossentropy',\n",
        "              # Cambio aqui #\n",
        "              optimizer = adam , #'adam',\n",
        "              metrics = ['accuracy', tf.keras.metrics.OneHotIoU(num_classes=6, target_class_ids=[1]), tf.keras.metrics.CategoricalAccuracy()])"
      ],
      "metadata": {
        "id": "_g-QFGbE4QIM"
      },
      "execution_count": 46,
      "outputs": []
    },
    {
      "cell_type": "code",
      "source": [
        "from tensorflow.keras.callbacks import EarlyStopping\n",
        "\n",
        "eS = EarlyStopping(monitor = 'loss',\n",
        "                   mode='min',\n",
        "                   patience = 5,\n",
        "                   verbose = 1,\n",
        "                   restore_best_weights = True)"
      ],
      "metadata": {
        "id": "gmeloJrp4T1T"
      },
      "execution_count": 47,
      "outputs": []
    },
    {
      "cell_type": "code",
      "source": [
        "history = model.fit(X_train,y_train, validation_split = 0.2, verbose=1, epochs = 30, callbacks=[eS])"
      ],
      "metadata": {
        "id": "CuZ7nIve4f81",
        "colab": {
          "base_uri": "https://localhost:8080/"
        },
        "outputId": "54db4869-418a-449d-f08e-039b4a51b5d9"
      },
      "execution_count": 48,
      "outputs": [
        {
          "output_type": "stream",
          "name": "stdout",
          "text": [
            "Epoch 1/30\n",
            "91/91 [==============================] - 89s 964ms/step - loss: 1.5993 - accuracy: 0.5723 - one_hot_io_u: 0.4417 - categorical_accuracy: 0.5723 - val_loss: 1.3254 - val_accuracy: 0.7793 - val_one_hot_io_u: 0.6948 - val_categorical_accuracy: 0.7793\n",
            "Epoch 2/30\n",
            "91/91 [==============================] - 87s 955ms/step - loss: 1.1235 - accuracy: 0.7323 - one_hot_io_u: 0.5660 - categorical_accuracy: 0.7323 - val_loss: 0.8548 - val_accuracy: 0.7738 - val_one_hot_io_u: 0.6903 - val_categorical_accuracy: 0.7738\n",
            "Epoch 3/30\n",
            "91/91 [==============================] - 88s 973ms/step - loss: 0.8377 - accuracy: 0.7347 - one_hot_io_u: 0.5764 - categorical_accuracy: 0.7347 - val_loss: 0.7029 - val_accuracy: 0.7710 - val_one_hot_io_u: 0.6883 - val_categorical_accuracy: 0.7710\n",
            "Epoch 4/30\n",
            "91/91 [==============================] - 87s 953ms/step - loss: 0.7725 - accuracy: 0.7347 - one_hot_io_u: 0.5794 - categorical_accuracy: 0.7347 - val_loss: 0.6642 - val_accuracy: 0.7766 - val_one_hot_io_u: 0.6818 - val_categorical_accuracy: 0.7766\n",
            "Epoch 5/30\n",
            "91/91 [==============================] - 86s 949ms/step - loss: 0.7527 - accuracy: 0.7313 - one_hot_io_u: 0.5559 - categorical_accuracy: 0.7313 - val_loss: 0.6538 - val_accuracy: 0.7724 - val_one_hot_io_u: 0.6883 - val_categorical_accuracy: 0.7724\n",
            "Epoch 6/30\n",
            "91/91 [==============================] - 86s 951ms/step - loss: 0.7462 - accuracy: 0.7365 - one_hot_io_u: 0.5695 - categorical_accuracy: 0.7365 - val_loss: 0.6460 - val_accuracy: 0.7752 - val_one_hot_io_u: 0.6883 - val_categorical_accuracy: 0.7752\n",
            "Epoch 7/30\n",
            "91/91 [==============================] - 86s 947ms/step - loss: 0.7612 - accuracy: 0.7320 - one_hot_io_u: 0.5476 - categorical_accuracy: 0.7320 - val_loss: 0.6427 - val_accuracy: 0.7738 - val_one_hot_io_u: 0.6948 - val_categorical_accuracy: 0.7738\n",
            "Epoch 8/30\n",
            "91/91 [==============================] - 86s 948ms/step - loss: 0.7599 - accuracy: 0.7309 - one_hot_io_u: 0.5609 - categorical_accuracy: 0.7309 - val_loss: 0.6428 - val_accuracy: 0.7724 - val_one_hot_io_u: 0.6883 - val_categorical_accuracy: 0.7724\n",
            "Epoch 9/30\n",
            "91/91 [==============================] - 87s 957ms/step - loss: 0.7557 - accuracy: 0.7296 - one_hot_io_u: 0.5724 - categorical_accuracy: 0.7296 - val_loss: 0.6438 - val_accuracy: 0.7724 - val_one_hot_io_u: 0.6818 - val_categorical_accuracy: 0.7724\n",
            "Epoch 10/30\n",
            "91/91 [==============================] - 86s 948ms/step - loss: 0.7437 - accuracy: 0.7344 - one_hot_io_u: 0.5842 - categorical_accuracy: 0.7344 - val_loss: 0.6416 - val_accuracy: 0.7752 - val_one_hot_io_u: 0.6883 - val_categorical_accuracy: 0.7752\n",
            "Epoch 11/30\n",
            "91/91 [==============================] - 86s 952ms/step - loss: 0.7464 - accuracy: 0.7289 - one_hot_io_u: 0.5621 - categorical_accuracy: 0.7289 - val_loss: 0.6405 - val_accuracy: 0.7738 - val_one_hot_io_u: 0.6883 - val_categorical_accuracy: 0.7738\n",
            "Epoch 12/30\n",
            "91/91 [==============================] - 87s 953ms/step - loss: 0.7060 - accuracy: 0.7465 - one_hot_io_u: 0.5959 - categorical_accuracy: 0.7465 - val_loss: 0.6379 - val_accuracy: 0.7710 - val_one_hot_io_u: 0.6883 - val_categorical_accuracy: 0.7710\n",
            "Epoch 13/30\n",
            "91/91 [==============================] - 86s 950ms/step - loss: 0.7515 - accuracy: 0.7382 - one_hot_io_u: 0.5876 - categorical_accuracy: 0.7382 - val_loss: 0.6388 - val_accuracy: 0.7752 - val_one_hot_io_u: 0.6883 - val_categorical_accuracy: 0.7752\n",
            "Epoch 14/30\n",
            "91/91 [==============================] - 86s 950ms/step - loss: 0.7591 - accuracy: 0.7303 - one_hot_io_u: 0.5662 - categorical_accuracy: 0.7303 - val_loss: 0.6389 - val_accuracy: 0.7738 - val_one_hot_io_u: 0.6883 - val_categorical_accuracy: 0.7738\n",
            "Epoch 15/30\n",
            "91/91 [==============================] - 88s 966ms/step - loss: 0.7575 - accuracy: 0.7340 - one_hot_io_u: 0.5724 - categorical_accuracy: 0.7340 - val_loss: 0.6364 - val_accuracy: 0.7766 - val_one_hot_io_u: 0.6948 - val_categorical_accuracy: 0.7766\n",
            "Epoch 16/30\n",
            "91/91 [==============================] - 87s 955ms/step - loss: 0.7570 - accuracy: 0.7265 - one_hot_io_u: 0.5641 - categorical_accuracy: 0.7265 - val_loss: 0.6389 - val_accuracy: 0.7752 - val_one_hot_io_u: 0.6883 - val_categorical_accuracy: 0.7752\n",
            "Epoch 17/30\n",
            "91/91 [==============================] - ETA: 0s - loss: 0.7562 - accuracy: 0.7275 - one_hot_io_u: 0.5686 - categorical_accuracy: 0.7275Restoring model weights from the end of the best epoch: 12.\n",
            "91/91 [==============================] - 86s 952ms/step - loss: 0.7562 - accuracy: 0.7275 - one_hot_io_u: 0.5686 - categorical_accuracy: 0.7275 - val_loss: 0.6397 - val_accuracy: 0.7710 - val_one_hot_io_u: 0.6883 - val_categorical_accuracy: 0.7710\n",
            "Epoch 17: early stopping\n"
          ]
        }
      ]
    },
    {
      "cell_type": "code",
      "source": [
        "history_dict = history.history\n",
        "acc      = history_dict['accuracy']\n",
        "val_acc  = history_dict['val_accuracy']\n",
        "loss     = history_dict['loss']\n",
        "val_loss = history_dict['val_loss']"
      ],
      "metadata": {
        "id": "lnrdxWhk4jnK"
      },
      "execution_count": 49,
      "outputs": []
    },
    {
      "cell_type": "code",
      "source": [
        "epochs = range(1, len(acc)+1, 1)\n",
        "\n",
        "plt.plot  (epochs, acc    , 'r--', label = 'Training acc')\n",
        "plt.plot  (epochs, val_acc, 'b'  , label = 'Validation acc')\n",
        "plt.ylabel('acc')\n",
        "plt.xlabel('epochs')\n",
        "\n",
        "plt.legend()\n",
        "plt.figure()\n",
        "plt.plot (epochs, loss    , 'r--', label = 'Trainig Loss')\n",
        "plt.plot (epochs, val_loss, 'b', label = 'Validation Loss')\n",
        "plt.title('Training and validation loss')\n",
        "plt.ylabel('loss')\n",
        "plt.xlabel('epochs')\n",
        "\n",
        "plt.legend()\n",
        "plt.figure()"
      ],
      "metadata": {
        "id": "qpXcZjkN4jgu",
        "colab": {
          "base_uri": "https://localhost:8080/",
          "height": 592
        },
        "outputId": "9a5272e8-6bf0-4857-c590-7c440850766d"
      },
      "execution_count": 50,
      "outputs": [
        {
          "output_type": "execute_result",
          "data": {
            "text/plain": [
              "<Figure size 432x288 with 0 Axes>"
            ]
          },
          "metadata": {},
          "execution_count": 50
        },
        {
          "output_type": "display_data",
          "data": {
            "text/plain": [
              "<Figure size 432x288 with 1 Axes>"
            ],
            "image/png": "[encoded data removed]"
          },
          "metadata": {
            "needs_background": "light"
          }
        },
        {
          "output_type": "display_data",
          "data": {
            "text/plain": [
              "<Figure size 432x288 with 1 Axes>"
            ],
            "image/png": "[encoded data removed]"
          },
          "metadata": {
            "needs_background": "light"
          }
        },
        {
          "output_type": "display_data",
          "data": {
            "text/plain": [
              "<Figure size 432x288 with 0 Axes>"
            ]
          },
          "metadata": {}
        }
      ]
    },
    {
      "cell_type": "markdown",
      "source": [
        "Mejor 0.6919"
      ],
      "metadata": {
        "id": "JXl82lImrP9g"
      }
    },
    {
      "cell_type": "code",
      "source": [
        "test_loss= model.evaluate(X_test, y_test)\n",
        "#print('Test Accuracy:',test_acc)"
      ],
      "metadata": {
        "id": "MPPWIq4C4t4-",
        "colab": {
          "base_uri": "https://localhost:8080/"
        },
        "outputId": "ef2a97d8-c815-4db7-ee28-966e9e678fbc"
      },
      "execution_count": 51,
      "outputs": [
        {
          "output_type": "stream",
          "name": "stdout",
          "text": [
            "19/19 [==============================] - 14s 725ms/step - loss: 0.9341 - accuracy: 0.6852 - one_hot_io_u: 0.4222 - categorical_accuracy: 0.6852\n"
          ]
        }
      ]
    },
    {
      "cell_type": "code",
      "source": [
        "test_loss"
      ],
      "metadata": {
        "colab": {
          "base_uri": "https://localhost:8080/"
        },
        "id": "a_g5_JMdulOs",
        "outputId": "63860f6d-f401-4411-ac2d-5d2c2ef48051"
      },
      "execution_count": null,
      "outputs": [
        {
          "output_type": "execute_result",
          "data": {
            "text/plain": [
              "[2.315715789794922,\n",
              " 0.6465661525726318,\n",
              " 0.42487046122550964,\n",
              " 0.6465661525726318]"
            ]
          },
          "metadata": {},
          "execution_count": 59
        }
      ]
    },
    {
      "cell_type": "code",
      "source": [
        "model= tf.keras.models.load_model(\"content/modelo.h5\")"
      ],
      "metadata": {
        "id": "-Nnv10Uf0nE1"
      },
      "execution_count": null,
      "outputs": []
    }
  ]
}