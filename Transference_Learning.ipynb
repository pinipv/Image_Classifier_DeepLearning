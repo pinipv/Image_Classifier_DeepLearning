{
  "nbformat": 4,
  "nbformat_minor": 0,
  "metadata": {
    "colab": {
      "name": "Transference_Learning.ipynb",
      "provenance": [],
      "collapsed_sections": [],
      "authorship_tag": "ABX9TyN/tIjztB54LqRFJKjFr3M7",
      "include_colab_link": true
    },
    "kernelspec": {
      "name": "python3",
      "display_name": "Python 3"
    },
    "language_info": {
      "name": "python"
    }
  },
  "cells": [
    {
      "cell_type": "markdown",
      "metadata": {
        "id": "view-in-github",
        "colab_type": "text"
      },
      "source": [
        "<a href=\"https://colab.research.google.com/github/pinipv/Image_Classifier_DeepLearning/blob/main/Transference_Learning.ipynb\" target=\"_parent\"><img src=\"https://colab.research.google.com/assets/colab-badge.svg\" alt=\"Open In Colab\"/></a>"
      ]
    },
    {
      "cell_type": "code",
      "execution_count": 3,
      "metadata": {
        "id": "hPin9CnLYPyf"
      },
      "outputs": [],
      "source": [
        "import numpy as np # linear algebra\n",
        "import pandas as pd # data processing, CSV file I/O (e.g. pd.read_csv)\n",
        "import seaborn as sns\n",
        "import matplotlib.pyplot as plt\n",
        "\n",
        "from os import listdir\n",
        "from skimage import io\n",
        "\n",
        "\n",
        "\n",
        "from sklearn.model_selection import train_test_split\n",
        "from sklearn.metrics import confusion_matrix\n",
        "\n",
        "\n",
        "\n",
        "import itertools\n",
        "\n",
        "from keras.utils.np_utils import to_categorical # convert to one-hot-encoding\n",
        "from keras.models import Sequential\n",
        "from keras.layers import Dense, Dropout, Flatten, Conv2D, MaxPool2D\n",
        "\n",
        "import tensorflow as tf\n",
        "\n",
        "from keras.preprocessing.image import ImageDataGenerator\n",
        "from keras.callbacks import ReduceLROnPlateau"
      ]
    },
    {
      "cell_type": "code",
      "source": [
        "from tensorflow.keras.preprocessing import image\n",
        "from google.colab import files\n",
        "import cv2\n",
        "\n",
        "\n",
        "def obtener_imagenes(etiqueta):\n",
        "      ### Esta variable contendrá las imagenes de base\n",
        "      imagenes = []\n",
        "      imagenes_base = []\n",
        "\n",
        "      y = []\n",
        "      uploades = files.upload()  #### Este método permite subir archivos a colab(carpeta content)\n",
        "\n",
        "      for fn in uploades.keys():\n",
        "          path = '/content/' + fn\n",
        "          img = image.load_img(path)\n",
        "\n",
        "          imagenes_base.append(img)\n",
        "\n",
        "      for i in range(0,len(imagenes_base)):\n",
        "                \n",
        "                #### obtenemos cada ruta de la imagen y la leemos guardando asi la imagen\n",
        "                ima = np.array(imagenes_base[i])\n",
        "                \n",
        "                #### Añadimos cara imagen al array de imagenes base    \n",
        "                image_resized = cv2.resize(ima, (100,100))  \n",
        "                imagenes.append(image_resized)  #.astype('float32')/255)    ##Las formatearemos mas adelante\n",
        "\n",
        "                #### Añadimos cada label de la imagen a la lista de labels(y) definitiva\n",
        "                y.append(str(etiqueta))\n",
        "                \n",
        "      #imagenes = np.array(imagenes)\n",
        "      #print(np.array(imagenes).shape)\n",
        "      #print(imagenes[0].shape)\n",
        "      return (imagenes, y)"
      ],
      "metadata": {
        "id": "7XsWqImtYTvV"
      },
      "execution_count": 2,
      "outputs": []
    },
    {
      "cell_type": "code",
      "source": [
        "def sacar_test(nparray, labels):\n",
        "  test = nparray[:99]     \n",
        "  train = np.delete(nparray,np.s_[:99],0)\n",
        "  test_labels = labels[:99]\n",
        "  train_labels = np.delete(labels, np.s_[:99],0)\n",
        "  return (train, test, train_labels, test_labels)\n"
      ],
      "metadata": {
        "id": "ZNTSLFWEYWsE"
      },
      "execution_count": 50,
      "outputs": []
    },
    {
      "cell_type": "code",
      "source": [
        "from tensorflow.keras.preprocessing.image import ImageDataGenerator\n",
        "\n",
        "\n",
        "train_datagen = ImageDataGenerator(\n",
        "    rescale = 1./255.,\n",
        "    rotation_range= 40,   ### Maximo valor de rotacion de la imagen\n",
        "    width_shift_range = 0.2,\n",
        "    height_shift_range = 0.2\n",
        ")"
      ],
      "metadata": {
        "id": "vEgYWbgeYbcc"
      },
      "execution_count": 14,
      "outputs": []
    },
    {
      "cell_type": "code",
      "source": [
        "from keras_preprocessing.image.utils import img_to_array\n",
        "import tensorflow as tf\n",
        "from tensorflow.keras import layers\n",
        "\n",
        "def obtener_copias(imagenes_base, etiqueta,copias):\n",
        "      lista_imagenes = []\n",
        "      y = []\n",
        "      generador = train_datagen\n",
        "      generador.fit(imagenes_base)\n",
        "      \n",
        "\n",
        "      for i in imagenes_base:  \n",
        "              imagen = np.array(i).reshape(-1,100,100,3)  \n",
        "              it = generador.flow( imagen , batch_size=1)     \n",
        "              #### Solo se crean las imagenes cuando se hace it.next()\n",
        "              for j in range(int(copias)):   #### Luego este rango determinará cuantas imágenes se crean\n",
        "                batch = it.next()\n",
        "                imag = batch[0]\n",
        "                imagenn= img_to_array(imag)\n",
        "\n",
        "                #### Reescalamos la imagen a un formato de (100 x 100)\n",
        "                IMG_SIZE = 100\n",
        "\n",
        "                resize_and_rescale = tf.keras.Sequential([\n",
        "                  layers.Resizing(IMG_SIZE, IMG_SIZE)\n",
        "                ])\n",
        "\n",
        "                result = resize_and_rescale(imagenn)\n",
        "\n",
        "            #### Añadimos la imagen y el label a las listas definitivas\n",
        "                lista_imagenes.append(result)\n",
        "                y.append(str(etiqueta))\n",
        "          \n",
        "      #### Devolvemos en formato tupla la lista con todas las imagenes y la tupla con todos los labels\n",
        "      return (lista_imagenes, y)"
      ],
      "metadata": {
        "id": "mqKZKYYuYdOF"
      },
      "execution_count": 15,
      "outputs": []
    },
    {
      "cell_type": "code",
      "source": [
        "from sklearn.preprocessing import LabelEncoder\n",
        "\n",
        "def categorizar_labels(train_labs, test_labs):\n",
        "  y_encoded = LabelEncoder().fit_transform(train_labs)\n",
        "  train_categorical = tf.keras.utils.to_categorical(y_encoded)\n",
        "  y_encoded = LabelEncoder().transform(test_labs)\n",
        "  test_categorical = tf.keras.utils.to_categorical(y_encoded)\n",
        "\n",
        "  return (train_categorical, test_categorical)"
      ],
      "metadata": {
        "id": "dNWfPKXzYeu1"
      },
      "execution_count": 16,
      "outputs": []
    },
    {
      "cell_type": "code",
      "source": [
        "from sklearn.utils import shuffle\n",
        "\n",
        "def barajar_train(dataset, labels, seed): \n",
        "\n",
        "    #### 'Barajamos' los array de imagenes y de labels\n",
        "\n",
        "    # ¿¿¿¿¿¿¿Necesario???????\n",
        "    shuffle_dataset = shuffle(dataset, random_state = int(seed))\n",
        "    shuffle_labels  = shuffle(labels, random_state = int(seed))\n",
        "    #\n",
        "    '''\n",
        "    a,b,c,d = np.vsplit(shuffle_dataset, 4)\n",
        "    e,f,g,h = np.vsplit(shuffle_labels, 4)\n",
        "    '''\n",
        "    train_dataset = shuffle_dataset#np.concatenate((a,b,c), axis=0)\n",
        "    #test_dataset  = d\n",
        "    train_labels  = shuffle_labels#np.concatenate((e,f,g), axis= 0)\n",
        "    #test_labels   = h\n",
        "\n",
        "    return (train_dataset, train_labels)"
      ],
      "metadata": {
        "id": "ss7yt35-YgqF"
      },
      "execution_count": 17,
      "outputs": []
    },
    {
      "cell_type": "code",
      "source": [
        "airplanes, y_aviones = obtener_imagenes('airplane')\n",
        "airplanes = np.array(airplanes)"
      ],
      "metadata": {
        "id": "iVuR3n-eYi1H"
      },
      "execution_count": null,
      "outputs": []
    },
    {
      "cell_type": "code",
      "source": [
        "car, y_car = obtener_imagenes('car')\n",
        "car = np.array(car)"
      ],
      "metadata": {
        "id": "XQhRbB1-YkO9"
      },
      "execution_count": null,
      "outputs": []
    },
    {
      "cell_type": "code",
      "source": [
        "cat, y_cat = obtener_imagenes('cat')\n",
        "cat = np.array(cat)"
      ],
      "metadata": {
        "id": "ok_-bVAmYlyO"
      },
      "execution_count": null,
      "outputs": []
    },
    {
      "cell_type": "code",
      "source": [
        "dog, y_dog = obtener_imagenes('dog')\n",
        "dog = np.array(dog)"
      ],
      "metadata": {
        "id": "aPXYAhfMYnFN"
      },
      "execution_count": null,
      "outputs": []
    },
    {
      "cell_type": "code",
      "source": [
        "flower, y_flower = obtener_imagenes('flower')\n",
        "flower = np.array(flower)"
      ],
      "metadata": {
        "id": "zAQ_78cJYoxf"
      },
      "execution_count": null,
      "outputs": []
    },
    {
      "cell_type": "code",
      "source": [
        "fruit, y_fruit = obtener_imagenes('fruit')\n",
        "fruit = np.array(fruit)"
      ],
      "metadata": {
        "id": "cH7l_lurYqLl"
      },
      "execution_count": null,
      "outputs": []
    },
    {
      "cell_type": "markdown",
      "source": [
        ""
      ],
      "metadata": {
        "id": "LXUNP4HAavLA"
      }
    },
    {
      "cell_type": "code",
      "source": [
        "train_air, test_air, train_labels_air, test_labels_air = sacar_test(airplanes,y_aviones)"
      ],
      "metadata": {
        "id": "HljA5yLJaExm"
      },
      "execution_count": 51,
      "outputs": []
    },
    {
      "cell_type": "code",
      "source": [
        "train_car, test_car, train_labels_car, test_labels_car = sacar_test(car,y_car)"
      ],
      "metadata": {
        "id": "3gl6HuaaaExm"
      },
      "execution_count": 52,
      "outputs": []
    },
    {
      "cell_type": "code",
      "source": [
        "train_cat, test_cat, train_labels_cat, test_labels_cat = sacar_test(cat,y_cat)"
      ],
      "metadata": {
        "id": "5i6aw8YUaExm"
      },
      "execution_count": 53,
      "outputs": []
    },
    {
      "cell_type": "code",
      "source": [
        "train_dog, test_dog, train_labels_dog, test_labels_dog = sacar_test(dog,y_dog)"
      ],
      "metadata": {
        "id": "7ywNcpuuaExm"
      },
      "execution_count": 54,
      "outputs": []
    },
    {
      "cell_type": "code",
      "source": [
        "train_flower, test_flower, train_labels_flower, test_labels_flower = sacar_test(flower,y_flower)"
      ],
      "metadata": {
        "id": "zOyzhx2PaExn"
      },
      "execution_count": 55,
      "outputs": []
    },
    {
      "cell_type": "code",
      "source": [
        "train_fruit, test_fruit, train_labels_fruit, test_labels_fruit = sacar_test(fruit,y_fruit)"
      ],
      "metadata": {
        "id": "0z7VJGUxaExn"
      },
      "execution_count": 56,
      "outputs": []
    },
    {
      "cell_type": "markdown",
      "source": [
        ""
      ],
      "metadata": {
        "id": "rUlbT39JauqB"
      }
    },
    {
      "cell_type": "code",
      "source": [
        "generacion_aviones, y_generacion_aviones = obtener_copias(train_air , 'airplane',5)"
      ],
      "metadata": {
        "id": "FTtgcBSAC5l8"
      },
      "execution_count": 59,
      "outputs": []
    },
    {
      "cell_type": "code",
      "source": [
        "generacion_cars, y_generacion_cars = obtener_copias(train_car , 'car',5)"
      ],
      "metadata": {
        "id": "EXqau15gC6_z"
      },
      "execution_count": 60,
      "outputs": []
    },
    {
      "cell_type": "code",
      "source": [
        "generacion_cat, y_generacion_cat = obtener_copias(train_cat , 'cat',5)"
      ],
      "metadata": {
        "id": "tViKtKxEC62O"
      },
      "execution_count": 61,
      "outputs": []
    },
    {
      "cell_type": "code",
      "source": [
        "generacion_dog, y_generacion_dog = obtener_copias(train_dog , 'dog',5)"
      ],
      "metadata": {
        "id": "3_qOqw6SC6sr"
      },
      "execution_count": 62,
      "outputs": []
    },
    {
      "cell_type": "code",
      "source": [
        "generacion_flower, y_generacion_flower = obtener_copias(train_flower , 'flower',5)"
      ],
      "metadata": {
        "id": "XTzeojInC6ik"
      },
      "execution_count": 63,
      "outputs": []
    },
    {
      "cell_type": "code",
      "source": [
        "generacion_fruit, y_generacion_fruit = obtener_copias(train_fruit , 'fruit',5)"
      ],
      "metadata": {
        "id": "O-6dzmVZC6X_"
      },
      "execution_count": 64,
      "outputs": []
    },
    {
      "cell_type": "markdown",
      "source": [
        ""
      ],
      "metadata": {
        "id": "rgcsT7Dhatvx"
      }
    },
    {
      "cell_type": "code",
      "source": [
        "train_airplanef = np.concatenate((train_air, np.array(generacion_aviones)), axis=0)\n",
        "labels_airplanes = np.concatenate((train_labels_air, y_generacion_aviones), axis = 0)\n",
        "\n",
        "train_lbairplane = labels_airplanes.reshape(-1,1)"
      ],
      "metadata": {
        "id": "gsTTqhobEm9C"
      },
      "execution_count": 65,
      "outputs": []
    },
    {
      "cell_type": "code",
      "source": [
        "train_carf = np.concatenate((train_car, np.array(generacion_cars)), axis=0)\n",
        "labels_cars = np.concatenate((train_labels_car, y_generacion_cars), axis = 0)\n",
        "\n",
        "train_lbcar = labels_cars.reshape(-1,1)"
      ],
      "metadata": {
        "id": "9ZLdBXC6Eqtd"
      },
      "execution_count": 66,
      "outputs": []
    },
    {
      "cell_type": "code",
      "source": [
        "train_catf = np.concatenate((train_cat, np.array(generacion_cat)), axis=0)\n",
        "labels_cats = np.concatenate((train_labels_cat, y_generacion_cat), axis = 0)\n",
        "\n",
        "train_lbcat = labels_cats.reshape(-1,1)"
      ],
      "metadata": {
        "id": "yPGctJQ3EqkP"
      },
      "execution_count": 67,
      "outputs": []
    },
    {
      "cell_type": "code",
      "source": [
        "train_dogf = np.concatenate((train_dog, np.array(generacion_dog)), axis=0)\n",
        "labels_dogs = np.concatenate((train_labels_dog, y_generacion_dog), axis = 0)\n",
        "\n",
        "train_lbdog = labels_dogs.reshape(-1,1)"
      ],
      "metadata": {
        "id": "IRdeuiMlEqZ6"
      },
      "execution_count": 70,
      "outputs": []
    },
    {
      "cell_type": "code",
      "source": [
        "train_flowerf = np.concatenate((train_flower, np.array(generacion_flower)), axis=0)\n",
        "labels_flowers = np.concatenate((train_labels_flower, y_generacion_flower), axis = 0)\n",
        "\n",
        "train_lbflower = labels_flowers.reshape(-1,1)"
      ],
      "metadata": {
        "id": "1ljc7NN4EqON"
      },
      "execution_count": 71,
      "outputs": []
    },
    {
      "cell_type": "code",
      "source": [
        "train_fruitf = np.concatenate((train_fruit, np.array(generacion_fruit)), axis=0)\n",
        "labels_fruits = np.concatenate((train_labels_fruit, y_generacion_fruit), axis = 0)\n",
        "\n",
        "train_lbfruit = labels_fruits.reshape(-1,1)"
      ],
      "metadata": {
        "id": "F3LQV8DuEp56"
      },
      "execution_count": 72,
      "outputs": []
    },
    {
      "cell_type": "code",
      "source": [
        "train =  np.concatenate((train_airplanef, train_carf, train_catf, train_dogf, train_flowerf, train_fruitf), axis=0)\n",
        "train_labels = np.concatenate((train_lbairplane, train_lbcar, train_lbcat, train_lbdog, train_lbflower, train_lbfruit))\n",
        "\n",
        "X_train, y_train = barajar_train(train, train_labels, 42)"
      ],
      "metadata": {
        "id": "NIDwcyUXTSHA"
      },
      "execution_count": 73,
      "outputs": []
    },
    {
      "cell_type": "code",
      "source": [
        "test = np.concatenate((test_air, test_car, test_car, test_dog, test_flower, test_fruit))\n",
        "test_labels = np.concatenate((test_labels_air, test_labels_car, test_labels_cat, test_labels_dog, test_labels_flower, test_labels_fruit), axis =0)\n",
        "\n",
        "X_test, y_test = barajar_train(test, test_labels, 42)"
      ],
      "metadata": {
        "id": "-4lRhKxkViAC"
      },
      "execution_count": 74,
      "outputs": []
    },
    {
      "cell_type": "code",
      "source": [
        ""
      ],
      "metadata": {
        "id": "L1aqXCa4aNTt"
      },
      "execution_count": null,
      "outputs": []
    },
    {
      "cell_type": "code",
      "source": [
        "from sklearn.preprocessing import LabelEncoder\n",
        "\n",
        "def categorizar_labels(train_labs, test_labs):\n",
        "  y_encoded = LabelEncoder().fit_transform(train_labs)\n",
        "  train_categorical = tf.keras.utils.to_categorical(y_encoded)\n",
        "  y_encoded = LabelEncoder().fit_transform(test_labs)\n",
        "  test_categorical = tf.keras.utils.to_categorical(y_encoded)\n",
        "\n",
        "  return (train_categorical, test_categorical)"
      ],
      "metadata": {
        "id": "NNkEf7orZcyq"
      },
      "execution_count": 75,
      "outputs": []
    },
    {
      "cell_type": "code",
      "source": [
        "y_train, y_test = categorizar_labels(y_train, y_test)"
      ],
      "metadata": {
        "colab": {
          "base_uri": "https://localhost:8080/"
        },
        "id": "PNJ5dIS2Z7PV",
        "outputId": "66435bf9-67b3-4e89-dc77-b73016646dcf"
      },
      "execution_count": 76,
      "outputs": [
        {
          "output_type": "stream",
          "name": "stderr",
          "text": [
            "/usr/local/lib/python3.7/dist-packages/sklearn/preprocessing/_label.py:115: DataConversionWarning: A column-vector y was passed when a 1d array was expected. Please change the shape of y to (n_samples, ), for example using ravel().\n",
            "  y = column_or_1d(y, warn=True)\n"
          ]
        }
      ]
    },
    {
      "cell_type": "markdown",
      "source": [
        "# Modelo"
      ],
      "metadata": {
        "id": "CgAphKPXarf4"
      }
    },
    {
      "cell_type": "code",
      "source": [
        "from tensorflow.keras import datasets, layers, models, applications, optimizers"
      ],
      "metadata": {
        "id": "OgTpEfs1cTr1"
      },
      "execution_count": 78,
      "outputs": []
    },
    {
      "cell_type": "code",
      "source": [
        "modelo_pre= tf.keras.models.load_model('modelos/modelo.h5')\n",
        "\n",
        "extractor_características = modelo_pre.output"
      ],
      "metadata": {
        "id": "g6EbR_QAa8A7"
      },
      "execution_count": 121,
      "outputs": []
    },
    {
      "cell_type": "code",
      "source": [
        "for layer in model.layers: layer.trainable = False\n",
        "\n",
        "\n",
        "\n",
        "maxpool = layers.GlobalMaxPooling2D()\n",
        "ultima_capa = layers.Dense(6, activation=\"softmax\")(maxpool)\n",
        "\n",
        "modelo_tl = models.Model(inputs=inputs, outputs=ultima_capa)\n",
        "opt = optimizers.Adam(lr=LR)\n",
        "modelo_tl.compile(optimizer=opt, loss=\"sparse_categorical_crossentropy\", metrics=[\"sparse_categorical_accuracy\"])\n",
        "\n"
      ],
      "metadata": {
        "id": "_iuCvsXMc1Iv"
      },
      "execution_count": null,
      "outputs": []
    },
    {
      "cell_type": "code",
      "source": [
        "from tensorflow.keras.applications import ResNet50\n",
        "\n",
        "modelo_pro = ResNet50()\n",
        "\n"
      ],
      "metadata": {
        "id": "gdsT6Kbac1Ba"
      },
      "execution_count": 94,
      "outputs": []
    },
    {
      "cell_type": "code",
      "source": [
        "model = Sequential()\n",
        "model.add(modelo_pre)\n",
        "model.add(Dense(64, activation='relu'))\n",
        "\n",
        "\n",
        "'''\n",
        "model.add(Dense(64, activation='relu'))\n",
        "model.add(Dense(128, activation='relu'))\n",
        "model.add(Dense(64, activation='relu'))\n",
        "'''\n",
        "\n",
        "model.add(Dense(6, activation='softmax'))\n",
        "model.layers[0].trainable = False"
      ],
      "metadata": {
        "id": "LYWgL3TxeIRV"
      },
      "execution_count": 115,
      "outputs": []
    },
    {
      "cell_type": "code",
      "source": [
        ""
      ],
      "metadata": {
        "id": "PzlLP2Mq28DB"
      },
      "execution_count": 131,
      "outputs": []
    },
    {
      "cell_type": "code",
      "source": [
        "model.summary()"
      ],
      "metadata": {
        "colab": {
          "base_uri": "https://localhost:8080/"
        },
        "id": "hCAUKIuDe2i4",
        "outputId": "4c8e097b-ca5c-46a4-8663-b4aa5c19fba2"
      },
      "execution_count": 130,
      "outputs": [
        {
          "output_type": "stream",
          "name": "stdout",
          "text": [
            "Model: \"sequential_3052\"\n",
            "_________________________________________________________________\n",
            " Layer (type)                Output Shape              Param #   \n",
            "=================================================================\n",
            " sequential_5418 (Sequential  (None, 6)                5025318   \n",
            " )                                                               \n",
            "                                                                 \n",
            " dense_33 (Dense)            (None, 64)                448       \n",
            "                                                                 \n",
            " dense_34 (Dense)            (None, 64)                4160      \n",
            "                                                                 \n",
            " dense_35 (Dense)            (None, 128)               8320      \n",
            "                                                                 \n",
            " dense_36 (Dense)            (None, 64)                8256      \n",
            "                                                                 \n",
            " dropout (Dropout)           (None, 64)                0         \n",
            "                                                                 \n",
            " flatten_1 (Flatten)         (None, 64)                0         \n",
            "                                                                 \n",
            "=================================================================\n",
            "Total params: 5,046,502\n",
            "Trainable params: 21,184\n",
            "Non-trainable params: 5,025,318\n",
            "_________________________________________________________________\n"
          ]
        }
      ]
    },
    {
      "cell_type": "markdown",
      "source": [
        ""
      ],
      "metadata": {
        "id": "nnTzDPGteH0X"
      }
    },
    {
      "cell_type": "code",
      "source": [
        "adam = tf.keras.optimizers.Adam(learning_rate=0.001)"
      ],
      "metadata": {
        "id": "vkGUVXg4blNc"
      },
      "execution_count": 106,
      "outputs": []
    },
    {
      "cell_type": "code",
      "source": [
        "model.compile(loss = 'categorical_crossentropy',\n",
        "              # Cambio aqui #\n",
        "              optimizer = adam , #'adam',\n",
        "              metrics = ['accuracy', tf.keras.metrics.OneHotIoU(num_classes=6, target_class_ids=[1]), tf.keras.metrics.CategoricalAccuracy()])"
      ],
      "metadata": {
        "id": "_g-QFGbE4QIM"
      },
      "execution_count": 132,
      "outputs": []
    },
    {
      "cell_type": "code",
      "source": [
        "from tensorflow.keras.callbacks import EarlyStopping\n",
        "\n",
        "eS = EarlyStopping(monitor = 'loss',\n",
        "                   mode='min',\n",
        "                   patience = 5,\n",
        "                   verbose = 1,\n",
        "                   restore_best_weights = True)"
      ],
      "metadata": {
        "id": "gmeloJrp4T1T"
      },
      "execution_count": 128,
      "outputs": []
    },
    {
      "cell_type": "code",
      "source": [
        "history = model.fit(X_train,y_train, validation_split = 0.2, verbose=1, epochs = 15, callbacks=[eS])"
      ],
      "metadata": {
        "id": "CuZ7nIve4f81",
        "colab": {
          "base_uri": "https://localhost:8080/"
        },
        "outputId": "3db5d741-91c7-46a1-f29c-cd42de7a1b2e"
      },
      "execution_count": 133,
      "outputs": [
        {
          "output_type": "stream",
          "name": "stdout",
          "text": [
            "Epoch 1/15\n",
            "91/91 [==============================] - 89s 963ms/step - loss: 0.9580 - accuracy: 0.6758 - one_hot_io_u_5: 0.5360 - categorical_accuracy: 0.6758 - val_loss: 0.7014 - val_accuracy: 0.7738 - val_one_hot_io_u_5: 0.6585 - val_categorical_accuracy: 0.7738\n",
            "Epoch 2/15\n",
            "91/91 [==============================] - 86s 942ms/step - loss: 0.8167 - accuracy: 0.7168 - one_hot_io_u_5: 0.5930 - categorical_accuracy: 0.7168 - val_loss: 0.6781 - val_accuracy: 0.7710 - val_one_hot_io_u_5: 0.6503 - val_categorical_accuracy: 0.7710\n",
            "Epoch 3/15\n",
            "91/91 [==============================] - 86s 944ms/step - loss: 0.7914 - accuracy: 0.7185 - one_hot_io_u_5: 0.5931 - categorical_accuracy: 0.7185 - val_loss: 0.6777 - val_accuracy: 0.7697 - val_one_hot_io_u_5: 0.6358 - val_categorical_accuracy: 0.7697\n",
            "Epoch 4/15\n",
            "91/91 [==============================] - 86s 942ms/step - loss: 0.8016 - accuracy: 0.7151 - one_hot_io_u_5: 0.5786 - categorical_accuracy: 0.7151 - val_loss: 0.6924 - val_accuracy: 0.7697 - val_one_hot_io_u_5: 0.6375 - val_categorical_accuracy: 0.7697\n",
            "Epoch 5/15\n",
            "91/91 [==============================] - 86s 943ms/step - loss: 0.7949 - accuracy: 0.7268 - one_hot_io_u_5: 0.5774 - categorical_accuracy: 0.7268 - val_loss: 0.6744 - val_accuracy: 0.7655 - val_one_hot_io_u_5: 0.6420 - val_categorical_accuracy: 0.7655\n",
            "Epoch 6/15\n",
            "91/91 [==============================] - 86s 943ms/step - loss: 0.7850 - accuracy: 0.7278 - one_hot_io_u_5: 0.5861 - categorical_accuracy: 0.7278 - val_loss: 0.6692 - val_accuracy: 0.7724 - val_one_hot_io_u_5: 0.6562 - val_categorical_accuracy: 0.7724\n",
            "Epoch 7/15\n",
            "91/91 [==============================] - 87s 957ms/step - loss: 0.7820 - accuracy: 0.7234 - one_hot_io_u_5: 0.5889 - categorical_accuracy: 0.7234 - val_loss: 0.6593 - val_accuracy: 0.7752 - val_one_hot_io_u_5: 0.6605 - val_categorical_accuracy: 0.7752\n",
            "Epoch 8/15\n",
            "91/91 [==============================] - 86s 944ms/step - loss: 0.7684 - accuracy: 0.7282 - one_hot_io_u_5: 0.5810 - categorical_accuracy: 0.7282 - val_loss: 0.6686 - val_accuracy: 0.7697 - val_one_hot_io_u_5: 0.6481 - val_categorical_accuracy: 0.7697\n",
            "Epoch 9/15\n",
            "91/91 [==============================] - 86s 945ms/step - loss: 0.7933 - accuracy: 0.7258 - one_hot_io_u_5: 0.5980 - categorical_accuracy: 0.7258 - val_loss: 0.6554 - val_accuracy: 0.7738 - val_one_hot_io_u_5: 0.6605 - val_categorical_accuracy: 0.7738\n",
            "Epoch 10/15\n",
            "91/91 [==============================] - 86s 943ms/step - loss: 0.7554 - accuracy: 0.7268 - one_hot_io_u_5: 0.6034 - categorical_accuracy: 0.7268 - val_loss: 0.6728 - val_accuracy: 0.7738 - val_one_hot_io_u_5: 0.6585 - val_categorical_accuracy: 0.7738\n",
            "Epoch 11/15\n",
            "91/91 [==============================] - 85s 941ms/step - loss: 0.7630 - accuracy: 0.7330 - one_hot_io_u_5: 0.5738 - categorical_accuracy: 0.7330 - val_loss: 0.6504 - val_accuracy: 0.7752 - val_one_hot_io_u_5: 0.6485 - val_categorical_accuracy: 0.7752\n",
            "Epoch 12/15\n",
            "91/91 [==============================] - 86s 944ms/step - loss: 0.7626 - accuracy: 0.7296 - one_hot_io_u_5: 0.5843 - categorical_accuracy: 0.7296 - val_loss: 0.6622 - val_accuracy: 0.7614 - val_one_hot_io_u_5: 0.6424 - val_categorical_accuracy: 0.7614\n",
            "Epoch 13/15\n",
            "91/91 [==============================] - 87s 957ms/step - loss: 0.7565 - accuracy: 0.7196 - one_hot_io_u_5: 0.5721 - categorical_accuracy: 0.7196 - val_loss: 0.6525 - val_accuracy: 0.7752 - val_one_hot_io_u_5: 0.6442 - val_categorical_accuracy: 0.7752\n",
            "Epoch 14/15\n",
            "91/91 [==============================] - 86s 942ms/step - loss: 0.7738 - accuracy: 0.7261 - one_hot_io_u_5: 0.5957 - categorical_accuracy: 0.7261 - val_loss: 0.6762 - val_accuracy: 0.7683 - val_one_hot_io_u_5: 0.6420 - val_categorical_accuracy: 0.7683\n",
            "Epoch 15/15\n",
            "91/91 [==============================] - 86s 944ms/step - loss: 0.7404 - accuracy: 0.7340 - one_hot_io_u_5: 0.6134 - categorical_accuracy: 0.7340 - val_loss: 0.6590 - val_accuracy: 0.7766 - val_one_hot_io_u_5: 0.6433 - val_categorical_accuracy: 0.7766\n"
          ]
        }
      ]
    },
    {
      "cell_type": "code",
      "source": [
        "history_dict = history.history\n",
        "acc      = history_dict['accuracy']\n",
        "val_acc  = history_dict['val_accuracy']\n",
        "loss     = history_dict['loss']\n",
        "val_loss = history_dict['val_loss']"
      ],
      "metadata": {
        "id": "lnrdxWhk4jnK"
      },
      "execution_count": 134,
      "outputs": []
    },
    {
      "cell_type": "code",
      "source": [
        "epochs = range(1, len(acc)+1, 1)\n",
        "\n",
        "plt.plot  (epochs, acc    , 'r--', label = 'Training acc')\n",
        "plt.plot  (epochs, val_acc, 'b'  , label = 'Validation acc')\n",
        "plt.ylabel('acc')\n",
        "plt.xlabel('epochs')\n",
        "\n",
        "plt.legend()\n",
        "plt.figure()\n",
        "plt.plot (epochs, loss    , 'r--', label = 'Trainig Loss')\n",
        "plt.plot (epochs, val_loss, 'b', label = 'Validation Loss')\n",
        "plt.title('Training and validation loss')\n",
        "plt.ylabel('loss')\n",
        "plt.xlabel('epochs')\n",
        "\n",
        "plt.legend()\n",
        "plt.figure()"
      ],
      "metadata": {
        "id": "qpXcZjkN4jgu",
        "colab": {
          "base_uri": "https://localhost:8080/",
          "height": 593
        },
        "outputId": "d6819972-97f6-4449-a015-ede9723c9a9a"
      },
      "execution_count": 135,
      "outputs": [
        {
          "output_type": "execute_result",
          "data": {
            "text/plain": [
              "<Figure size 432x288 with 0 Axes>"
            ]
          },
          "metadata": {},
          "execution_count": 135
        },
        {
          "output_type": "display_data",
          "data": {
            "text/plain": [
              "<Figure size 432x288 with 1 Axes>"
            ],
            "image/png": "[encoded data removed]"
          },
          "metadata": {
            "needs_background": "light"
          }
        },
        {
          "output_type": "display_data",
          "data": {
            "text/plain": [
              "<Figure size 432x288 with 1 Axes>"
            ],
            "image/png": "[encoded data removed]"
          },
          "metadata": {
            "needs_background": "light"
          }
        },
        {
          "output_type": "display_data",
          "data": {
            "text/plain": [
              "<Figure size 432x288 with 0 Axes>"
            ]
          },
          "metadata": {}
        }
      ]
    },
    {
      "cell_type": "markdown",
      "source": [
        "Mejor 0.6919"
      ],
      "metadata": {
        "id": "JXl82lImrP9g"
      }
    },
    {
      "cell_type": "code",
      "source": [
        "test_loss= model.evaluate(X_test, y_test)\n",
        "#print('Test Accuracy:',test_acc)"
      ],
      "metadata": {
        "id": "MPPWIq4C4t4-",
        "colab": {
          "base_uri": "https://localhost:8080/"
        },
        "outputId": "3471f2e9-0797-45bb-a4cb-d5b3743545c0"
      },
      "execution_count": 136,
      "outputs": [
        {
          "output_type": "stream",
          "name": "stdout",
          "text": [
            "19/19 [==============================] - 14s 718ms/step - loss: 0.8769 - accuracy: 0.6852 - one_hot_io_u_5: 0.4094 - categorical_accuracy: 0.6852\n"
          ]
        }
      ]
    },
    {
      "cell_type": "code",
      "source": [
        "test_loss"
      ],
      "metadata": {
        "colab": {
          "base_uri": "https://localhost:8080/"
        },
        "id": "a_g5_JMdulOs",
        "outputId": "63860f6d-f401-4411-ac2d-5d2c2ef48051"
      },
      "execution_count": null,
      "outputs": [
        {
          "output_type": "execute_result",
          "data": {
            "text/plain": [
              "[2.315715789794922,\n",
              " 0.6465661525726318,\n",
              " 0.42487046122550964,\n",
              " 0.6465661525726318]"
            ]
          },
          "metadata": {},
          "execution_count": 59
        }
      ]
    },
    {
      "cell_type": "code",
      "source": [
        "model= tf.keras.models.load_model(\"content/modelo.h5\")"
      ],
      "metadata": {
        "id": "-Nnv10Uf0nE1"
      },
      "execution_count": null,
      "outputs": []
    }
  ]
}