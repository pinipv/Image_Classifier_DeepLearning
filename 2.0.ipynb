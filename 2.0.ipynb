{
  "nbformat": 4,
  "nbformat_minor": 0,
  "metadata": {
    "colab": {
      "name": "Copia de clasificacion_imagenes.ipynb",
      "provenance": [],
      "collapsed_sections": [
        "nQs1a5t40k9P",
        "vai1MOUb0ppP",
        "5iz4Z8EM6MW9",
        "Fgyja2M82CvZ",
        "pw-Owwxq6eCf"
      ],
      "authorship_tag": "ABX9TyOg+kZ4QqnRej6C9rSieBa0",
      "include_colab_link": true
    },
    "kernelspec": {
      "name": "python3",
      "display_name": "Python 3"
    },
    "language_info": {
      "name": "python"
    }
  },
  "cells": [
    {
      "cell_type": "markdown",
      "metadata": {
        "id": "view-in-github",
        "colab_type": "text"
      },
      "source": [
        "<a href=\"https://colab.research.google.com/github/pinipv/DeepLearning-LearningPropio/blob/main/Copia_de_clasificacion_imagenes.ipynb\" target=\"_parent\"><img src=\"https://colab.research.google.com/assets/colab-badge.svg\" alt=\"Open In Colab\"/></a>"
      ]
    },
    {
      "cell_type": "code",
      "execution_count": 1,
      "metadata": {
        "id": "Sk8WUqaWMCUM"
      },
      "outputs": [],
      "source": [
        "import numpy as np # linear algebra\n",
        "import pandas as pd # data processing, CSV file I/O (e.g. pd.read_csv)\n",
        "import seaborn as sns\n",
        "import matplotlib.pyplot as plt\n",
        "\n",
        "from os import listdir\n",
        "from skimage import io\n",
        "\n",
        "\n",
        "\n",
        "from sklearn.model_selection import train_test_split\n",
        "from sklearn.metrics import confusion_matrix\n",
        "\n",
        "\n",
        "\n",
        "import itertools\n",
        "\n",
        "from keras.utils.np_utils import to_categorical # convert to one-hot-encoding\n",
        "from keras.models import Sequential\n",
        "from keras.layers import Dense, Dropout, Flatten, Conv2D, MaxPool2D\n",
        "\n",
        "import tensorflow as tf\n",
        "\n",
        "from keras.preprocessing.image import ImageDataGenerator\n",
        "from keras.callbacks import ReduceLROnPlateau\n"
      ]
    },
    {
      "cell_type": "code",
      "source": [
        "!unrar x -Y \"/content/data.rar\" \"/content/imageness\""
      ],
      "metadata": {
        "id": "kav3VvV09wPG"
      },
      "execution_count": null,
      "outputs": []
    },
    {
      "cell_type": "code",
      "source": [
        "import cv2\n",
        "path = '/content/imageness/data/'\n",
        "directories = listdir(path)\n",
        "\n",
        "imagenes = []\n",
        "labels= []\n",
        "\n",
        "#### para cada directorio dentro de data listamos su interior(imagenes)\n",
        "for directori in directories:\n",
        "\n",
        "#### listamos cada imagen\n",
        "    for i in range(0,len(listdir(path + directori))):\n",
        "        \n",
        "#### obtenemos cada ruta de la imagen y la leemos guardando asi la imagen\n",
        "        image = cv2.imread(path + directori + '/' + listdir(path + directori)[i])\n",
        "        \n",
        "#### Añadimos cara imagen al array junto con su etiqueta en formato tupla    \n",
        "        image_resized = cv2.resize(image, (32,32))  \n",
        "        imagenes.append(np.array(image_resized)) \n",
        "        labels.append(str(directori))\n",
        "        \n",
        "        ####plt.imshow(image,vmin=0,vmax=1)\n",
        "    \n",
        "\n"
      ],
      "metadata": {
        "id": "yBcyZdTd_Lie"
      },
      "execution_count": null,
      "outputs": []
    },
    {
      "cell_type": "code",
      "source": [
        "X = np.array(imagenes)\n",
        "y = np.array(labels)"
      ],
      "metadata": {
        "id": "FV9C0165oJSd"
      },
      "execution_count": null,
      "outputs": []
    },
    {
      "cell_type": "code",
      "source": [
        "print(X.shape)\n",
        "print(y.shape)"
      ],
      "metadata": {
        "colab": {
          "base_uri": "https://localhost:8080/"
        },
        "id": "MWBnquJuoUnu",
        "outputId": "40dae18a-5c96-4b72-af86-8668c2f513e6"
      },
      "execution_count": null,
      "outputs": [
        {
          "output_type": "stream",
          "name": "stdout",
          "text": [
            "(6899, 32, 32, 3)\n",
            "(6899,)\n"
          ]
        }
      ]
    },
    {
      "cell_type": "code",
      "source": [
        "g = sns.countplot(y)"
      ],
      "metadata": {
        "colab": {
          "base_uri": "https://localhost:8080/",
          "height": 320
        },
        "id": "bzskojJeEBpf",
        "outputId": "73593275-c933-44de-f9f3-252f13213090"
      },
      "execution_count": null,
      "outputs": [
        {
          "output_type": "stream",
          "name": "stderr",
          "text": [
            "/usr/local/lib/python3.7/dist-packages/seaborn/_decorators.py:43: FutureWarning: Pass the following variable as a keyword arg: x. From version 0.12, the only valid positional argument will be `data`, and passing other arguments without an explicit keyword will result in an error or misinterpretation.\n",
            "  FutureWarning\n"
          ]
        },
        {
          "output_type": "display_data",
          "data": {
            "text/plain": [
              "<Figure size 432x288 with 1 Axes>"
            ],
            "image/png": "[encoded data removed]"
          },
          "metadata": {
            "needs_background": "light"
          }
        }
      ]
    },
    {
      "cell_type": "code",
      "source": [
        "X_standarized = X.astype('float32')/255\n",
        "\n",
        "from sklearn.preprocessing import LabelEncoder\n",
        "\n",
        "\n",
        "y_encoded = LabelEncoder().fit_transform(y)\n",
        "y_categorical = tf.keras.utils.to_categorical(y_encoded)"
      ],
      "metadata": {
        "id": "YLNq6kxuoeuu"
      },
      "execution_count": null,
      "outputs": []
    },
    {
      "cell_type": "code",
      "source": [
        "print(X_standarized.shape)\n",
        "print(y_categorical.shape)"
      ],
      "metadata": {
        "colab": {
          "base_uri": "https://localhost:8080/"
        },
        "id": "zGZEmKw6pOpY",
        "outputId": "eb68dc62-843c-4ed4-ca4a-0c436e16f39c"
      },
      "execution_count": null,
      "outputs": [
        {
          "output_type": "stream",
          "name": "stdout",
          "text": [
            "(6899, 32, 32, 3)\n",
            "(6899, 8)\n"
          ]
        }
      ]
    },
    {
      "cell_type": "code",
      "source": [
        "X_train, X_test, y_train, y_test = train_test_split(X_standarized, y_categorical, test_size=0.2, random_state=42)"
      ],
      "metadata": {
        "id": "xNl3fHVGFKah"
      },
      "execution_count": null,
      "outputs": []
    },
    {
      "cell_type": "code",
      "source": [
        "classes = y_train.unique()\n",
        "coding= {}\n",
        "j=0\n",
        "for i in classes:\n",
        "  coding[i]=j\n",
        "  j+=1\n",
        "coding"
      ],
      "metadata": {
        "colab": {
          "base_uri": "https://localhost:8080/"
        },
        "id": "eFXvWDu7G32n",
        "outputId": "5e990d58-9434-49e5-edf9-e84636e1c9b5"
      },
      "execution_count": null,
      "outputs": [
        {
          "output_type": "execute_result",
          "data": {
            "text/plain": [
              "{'airplane': 2,\n",
              " 'car': 3,\n",
              " 'cat': 4,\n",
              " 'dog': 0,\n",
              " 'flower': 5,\n",
              " 'fruit': 1,\n",
              " 'motorbike': 7,\n",
              " 'person': 6}"
            ]
          },
          "metadata": {},
          "execution_count": 8
        }
      ]
    },
    {
      "cell_type": "code",
      "source": [
        "print(X_train.shape)\n",
        "print(X_test.shape)\n",
        "print(y_train.shape)\n",
        "print(y_test.shape)"
      ],
      "metadata": {
        "colab": {
          "base_uri": "https://localhost:8080/"
        },
        "id": "tvqFZmo6Ob7E",
        "outputId": "3db071c8-8e15-4ff8-c7d5-463e058ac21f"
      },
      "execution_count": null,
      "outputs": [
        {
          "output_type": "stream",
          "name": "stdout",
          "text": [
            "(5519, 32, 32, 3)\n",
            "(1380, 32, 32, 3)\n",
            "(5519, 8)\n",
            "(1380, 8)\n"
          ]
        }
      ]
    },
    {
      "cell_type": "code",
      "source": [
        "# Set the CNN model \n",
        "# my CNN architechture is In -> [[Conv2D->relu]*2 -> MaxPool2D -> Dropout]*2 -> Flatten -> Dense -> Dropout -> Out\n",
        "\n",
        "model = Sequential()\n",
        "\n",
        "model.add(Conv2D(filters = 32, kernel_size = (5,5),padding = 'Same', \n",
        "                 activation ='relu', input_shape = (32,32,3)))\n",
        "model.add(Conv2D(filters = 32, kernel_size = (5,5),padding = 'Same', \n",
        "                 activation ='relu'))\n",
        "model.add(MaxPool2D(pool_size=(2,2)))\n",
        "model.add(Dropout(0.25))\n",
        "\n",
        "\n",
        "model.add(Conv2D(filters = 64, kernel_size = (3,3),padding = 'Same', \n",
        "                 activation ='relu'))\n",
        "model.add(Conv2D(filters = 64, kernel_size = (3,3),padding = 'Same', \n",
        "                 activation ='relu'))\n",
        "model.add(MaxPool2D(pool_size=(2,2), strides=(2,2)))\n",
        "model.add(Dropout(0.25))\n",
        "\n",
        "\n",
        "model.add(Flatten())\n",
        "model.add(Dense(256, activation = \"relu\"))\n",
        "model.add(Dropout(0.5))\n",
        "model.add(Dense(8, activation = \"softmax\"))"
      ],
      "metadata": {
        "id": "HMfsTpQIPPGp"
      },
      "execution_count": null,
      "outputs": []
    },
    {
      "cell_type": "code",
      "source": [
        "model.compile(loss = 'categorical_crossentropy',\n",
        "              optimizer = 'adam',\n",
        "              metrics = ['accuracy'])"
      ],
      "metadata": {
        "id": "vReONRI4pheo"
      },
      "execution_count": null,
      "outputs": []
    },
    {
      "cell_type": "code",
      "source": [
        "from tensorflow.keras.callbacks import EarlyStopping\n",
        "\n",
        "eS = EarlyStopping(monitor = 'loss',\n",
        "                   mode='min',\n",
        "                   patience = 5,\n",
        "                   verbose = 1,\n",
        "                   restore_best_weights = True)"
      ],
      "metadata": {
        "id": "PhJanJJnyJP4"
      },
      "execution_count": null,
      "outputs": []
    },
    {
      "cell_type": "code",
      "source": [
        "history = model.fit(X_train,y_train, validation_split = 0.2, verbose=1, epochs = 25, callbacks=[eS])"
      ],
      "metadata": {
        "colab": {
          "base_uri": "https://localhost:8080/"
        },
        "id": "JM1JVBxnSEmX",
        "outputId": "83ee7766-e938-4aad-d0e8-1b0944fc4d5d"
      },
      "execution_count": null,
      "outputs": [
        {
          "output_type": "stream",
          "name": "stdout",
          "text": [
            "Epoch 1/25\n",
            "138/138 [==============================] - 48s 344ms/step - loss: 1.2403 - accuracy: 0.5472 - val_loss: 0.6647 - val_accuracy: 0.7681\n",
            "Epoch 2/25\n",
            "138/138 [==============================] - 45s 326ms/step - loss: 0.6027 - accuracy: 0.7875 - val_loss: 0.4284 - val_accuracy: 0.8379\n",
            "Epoch 3/25\n",
            "138/138 [==============================] - 44s 320ms/step - loss: 0.4525 - accuracy: 0.8378 - val_loss: 0.4639 - val_accuracy: 0.8333\n",
            "Epoch 4/25\n",
            "138/138 [==============================] - 44s 316ms/step - loss: 0.3795 - accuracy: 0.8593 - val_loss: 0.3115 - val_accuracy: 0.8696\n",
            "Epoch 5/25\n",
            "138/138 [==============================] - 43s 314ms/step - loss: 0.3252 - accuracy: 0.8786 - val_loss: 0.3044 - val_accuracy: 0.8813\n",
            "Epoch 6/25\n",
            "138/138 [==============================] - 43s 314ms/step - loss: 0.2685 - accuracy: 0.9046 - val_loss: 0.3018 - val_accuracy: 0.8832\n",
            "Epoch 7/25\n",
            "138/138 [==============================] - 45s 325ms/step - loss: 0.2469 - accuracy: 0.9051 - val_loss: 0.2827 - val_accuracy: 0.8949\n",
            "Epoch 8/25\n",
            "138/138 [==============================] - 43s 315ms/step - loss: 0.1915 - accuracy: 0.9246 - val_loss: 0.2621 - val_accuracy: 0.8940\n",
            "Epoch 9/25\n",
            "138/138 [==============================] - 43s 314ms/step - loss: 0.1783 - accuracy: 0.9307 - val_loss: 0.3109 - val_accuracy: 0.8832\n",
            "Epoch 10/25\n",
            "138/138 [==============================] - 43s 311ms/step - loss: 0.1803 - accuracy: 0.9354 - val_loss: 0.2582 - val_accuracy: 0.8976\n",
            "Epoch 11/25\n",
            "138/138 [==============================] - 43s 313ms/step - loss: 0.1397 - accuracy: 0.9497 - val_loss: 0.3163 - val_accuracy: 0.8913\n",
            "Epoch 12/25\n",
            "138/138 [==============================] - 43s 312ms/step - loss: 0.1509 - accuracy: 0.9456 - val_loss: 0.3592 - val_accuracy: 0.8768\n",
            "Epoch 13/25\n",
            "138/138 [==============================] - 44s 322ms/step - loss: 0.1355 - accuracy: 0.9522 - val_loss: 0.2857 - val_accuracy: 0.9121\n",
            "Epoch 14/25\n",
            "138/138 [==============================] - 44s 317ms/step - loss: 0.1031 - accuracy: 0.9601 - val_loss: 0.3264 - val_accuracy: 0.9004\n",
            "Epoch 15/25\n",
            "138/138 [==============================] - 44s 319ms/step - loss: 0.1058 - accuracy: 0.9619 - val_loss: 0.3082 - val_accuracy: 0.9058\n",
            "Epoch 16/25\n",
            "138/138 [==============================] - 43s 314ms/step - loss: 0.1147 - accuracy: 0.9567 - val_loss: 0.3123 - val_accuracy: 0.9094\n",
            "Epoch 17/25\n",
            "138/138 [==============================] - 43s 312ms/step - loss: 0.0919 - accuracy: 0.9681 - val_loss: 0.3444 - val_accuracy: 0.9013\n",
            "Epoch 18/25\n",
            "138/138 [==============================] - 43s 311ms/step - loss: 0.0832 - accuracy: 0.9721 - val_loss: 0.4656 - val_accuracy: 0.8768\n",
            "Epoch 19/25\n",
            "138/138 [==============================] - 44s 320ms/step - loss: 0.0941 - accuracy: 0.9683 - val_loss: 0.3742 - val_accuracy: 0.8986\n",
            "Epoch 20/25\n",
            "138/138 [==============================] - 43s 315ms/step - loss: 0.0984 - accuracy: 0.9649 - val_loss: 0.3276 - val_accuracy: 0.9067\n",
            "Epoch 21/25\n",
            "138/138 [==============================] - 43s 312ms/step - loss: 0.0688 - accuracy: 0.9780 - val_loss: 0.3425 - val_accuracy: 0.9049\n",
            "Epoch 22/25\n",
            "138/138 [==============================] - 43s 314ms/step - loss: 0.0824 - accuracy: 0.9728 - val_loss: 0.3656 - val_accuracy: 0.9022\n",
            "Epoch 23/25\n",
            "138/138 [==============================] - 44s 317ms/step - loss: 0.0520 - accuracy: 0.9817 - val_loss: 0.3662 - val_accuracy: 0.9040\n",
            "Epoch 24/25\n",
            "138/138 [==============================] - 44s 320ms/step - loss: 0.0615 - accuracy: 0.9794 - val_loss: 0.4290 - val_accuracy: 0.8922\n",
            "Epoch 25/25\n",
            "138/138 [==============================] - 44s 319ms/step - loss: 0.0781 - accuracy: 0.9758 - val_loss: 0.3806 - val_accuracy: 0.9121\n"
          ]
        }
      ]
    },
    {
      "cell_type": "code",
      "source": [
        "fig, ax = plt.subplots(figsize=(20,8))\n",
        "sns.lineplot(x = history.epoch, y = history.history['loss'])\n",
        "sns.lineplot(x = history.epoch, y = history.history['val_loss'])\n",
        "ax.set_title('Learning Curve (Loss)')\n",
        "ax.set_ylabel('Loss')\n",
        "ax.set_xlabel('Epoch')\n",
        "ax.set_ylim(0,0.5)\n",
        "ax.legend(['train','val'], loc = ' best')\n",
        "plt.show()"
      ],
      "metadata": {
        "colab": {
          "base_uri": "https://localhost:8080/",
          "height": 753
        },
        "id": "JHBhOHx5VkbM",
        "outputId": "3285bf3f-669b-4870-ff62-d8948b9c27a0"
      },
      "execution_count": null,
      "outputs": [
        {
          "output_type": "stream",
          "name": "stderr",
          "text": [
            "/usr/local/lib/python3.7/dist-packages/ipykernel_launcher.py:8: MatplotlibDeprecationWarning: Unrecognized location ' best'. Falling back on 'best'; valid locations are\n",
            "\tbest\n",
            "\tupper right\n",
            "\tupper left\n",
            "\tlower left\n",
            "\tlower right\n",
            "\tright\n",
            "\tcenter left\n",
            "\tcenter right\n",
            "\tlower center\n",
            "\tupper center\n",
            "\tcenter\n",
            "This will raise an exception in 3.3.\n",
            "  \n"
          ]
        },
        {
          "output_type": "display_data",
          "data": {
            "text/plain": [
              "<Figure size 1440x576 with 1 Axes>"
            ],
            "image/png": "[encoded data removed]"
          },
          "metadata": {
            "needs_background": "light"
          }
        }
      ]
    },
    {
      "cell_type": "code",
      "source": [
        "prediccion = model.evaluate(X_test, y_test)"
      ],
      "metadata": {
        "colab": {
          "base_uri": "https://localhost:8080/"
        },
        "id": "BH92A8rouDdY",
        "outputId": "a9008534-6206-4c52-df43-2e744e04e0c0"
      },
      "execution_count": null,
      "outputs": [
        {
          "output_type": "stream",
          "name": "stdout",
          "text": [
            "44/44 [==============================] - 3s 71ms/step - loss: 0.4405 - accuracy: 0.8884\n"
          ]
        }
      ]
    },
    {
      "cell_type": "markdown",
      "source": [
        "0.88 con sigmoid igual con softmax"
      ],
      "metadata": {
        "id": "CSl5dKSLbIB6"
      }
    },
    {
      "cell_type": "code",
      "source": [
        "prediccion[1]*100"
      ],
      "metadata": {
        "colab": {
          "base_uri": "https://localhost:8080/"
        },
        "id": "qRZr72WIuTWs",
        "outputId": "9058dc69-1b8a-4a93-c88a-2e1928d4106d"
      },
      "execution_count": null,
      "outputs": [
        {
          "output_type": "execute_result",
          "data": {
            "text/plain": [
              "88.84057998657227"
            ]
          },
          "metadata": {},
          "execution_count": 22
        }
      ]
    },
    {
      "cell_type": "markdown",
      "source": [
        "# Hasta este punto queda un módelo simple, rudo y poco optimizado. Que además presenta overfitting"
      ],
      "metadata": {
        "id": "kwagOY2q0Rwp"
      }
    },
    {
      "cell_type": "markdown",
      "source": [
        "### Recogemos de nuevo la lectura de imagenes y labels"
      ],
      "metadata": {
        "id": "nQs1a5t40k9P"
      }
    },
    {
      "cell_type": "code",
      "source": [
        "X = np.array(imagenes)\n",
        "y = np.array(labels)"
      ],
      "metadata": {
        "id": "ISC0XXdF0a8h"
      },
      "execution_count": null,
      "outputs": []
    },
    {
      "cell_type": "code",
      "source": [
        "#### Generar imágenes desde el directorio\n",
        "\n",
        "'''\n",
        "from tensorflow.keras.preprocessing.image import ImageDataGenerator\n",
        "\n",
        "imag = ImageDataGenerator( rescale = 1.0/255.)\n",
        "imagens = imag.flow_from_directory(imagen_dir, batch_size = 20, class_mode = 'binary'¿? , target_size = (100,100))\n",
        "'''\n"
      ],
      "metadata": {
        "id": "UmAfx4YE4EFM"
      },
      "execution_count": null,
      "outputs": []
    },
    {
      "cell_type": "code",
      "source": [
        ""
      ],
      "metadata": {
        "colab": {
          "base_uri": "https://localhost:8080/"
        },
        "id": "bvgOHDYB4T6b",
        "outputId": "c08ca9dd-ec10-4bcf-80f3-2a5e0c44f334"
      },
      "execution_count": null,
      "outputs": [
        {
          "output_type": "execute_result",
          "data": {
            "text/plain": [
              "<keras.preprocessing.image.ImageDataGenerator at 0x7f18b58f9ed0>"
            ]
          },
          "metadata": {},
          "execution_count": 7
        }
      ]
    },
    {
      "cell_type": "markdown",
      "source": [
        "### Estandarizamos los 'pixeles' de las imágenes y categorizamos las 'labels'"
      ],
      "metadata": {
        "id": "vai1MOUb0ppP"
      }
    },
    {
      "cell_type": "code",
      "source": [
        "X_standarized = X.astype('float32')/255\n",
        "\n",
        "from sklearn.preprocessing import LabelEncoder\n",
        "\n",
        "### Esto tendremos que hacerlo despues del data_augmentin\n",
        "y_encoded = LabelEncoder().fit_transform(y)\n",
        "y_categorical = tf.keras.utils.to_categorical(y_encoded)"
      ],
      "metadata": {
        "id": "Kw9A1j860jZI"
      },
      "execution_count": null,
      "outputs": []
    },
    {
      "cell_type": "markdown",
      "source": [
        "### Separamos datos de alguna forma\n"
      ],
      "metadata": {
        "id": "5iz4Z8EM6MW9"
      }
    },
    {
      "cell_type": "code",
      "source": [
        ""
      ],
      "metadata": {
        "id": "uJ24YcBd6PPC"
      },
      "execution_count": null,
      "outputs": []
    },
    {
      "cell_type": "code",
      "source": [
        ""
      ],
      "metadata": {
        "id": "5VweulbH6P0B"
      },
      "execution_count": null,
      "outputs": []
    },
    {
      "cell_type": "markdown",
      "source": [
        "### Modelo"
      ],
      "metadata": {
        "id": "Fgyja2M82CvZ"
      }
    },
    {
      "cell_type": "code",
      "source": [
        "from keras.layers.pooling import MaxPooling2D\n",
        "model = Sequential()\n",
        "model.add(Conv2D(32, (3,3), activation = 'relu', input_shape = (100,100,3)))\n",
        "model.add(MaxPooling2D(2,2))\n",
        "model.add(Conv2D(64, (3,3), activaction = 'relu'))\n",
        "model.add(MaxPooling2D(2,2))\n",
        "model.add(Conv2D(128, (3,3), activation = 'relu'))\n",
        "model.add(MaxPooling2D(2,2))\n",
        "model.add(Conv2D(128, (3,3), activation = 'relu'))\n",
        "model.add(MaxPooling2D(2,2))\n",
        "model.add(Flatten())\n",
        "model.add(Dense(512, activacion = 'relu'))\n",
        "model.add(Dense(1, activation = 'sigmoid'))"
      ],
      "metadata": {
        "id": "LIrqesW62CX3"
      },
      "execution_count": null,
      "outputs": []
    },
    {
      "cell_type": "code",
      "source": [
        "model.summary()"
      ],
      "metadata": {
        "id": "qc1p5yVY3Lms"
      },
      "execution_count": null,
      "outputs": []
    },
    {
      "cell_type": "code",
      "source": [
        "from tensorflow.kera.optimizers import RMSprop\n",
        "\n",
        "\n",
        "model.compile(optimizer = RMSprop(lr = 0.001),\n",
        "              loss = 'binary_crossentropy',\n",
        "              metrics = ['acc'])"
      ],
      "metadata": {
        "id": "AvSy_rGS3NKE"
      },
      "execution_count": null,
      "outputs": []
    },
    {
      "cell_type": "code",
      "source": [
        "### Agrupación de paquetes de imágenes\n",
        "'''batch_size = 20  \n",
        "\n",
        "steps_per_epoch = imagenes_train.n // batch_size  ### .n dará, supongo el numero de imágenes\n",
        "validation_steps = imagenes_validation.n // batch_size \n",
        "\n",
        "history= model.fit(\n",
        "    imagenes_train,\n",
        "    steps_per_epoch= steps_per_epoch,\n",
        "    epochs = 100,\n",
        "    validation_data = imagenes_validation,\n",
        "    validation_steps = validation_steps,\n",
        "    verbose = 2\n",
        ")\n",
        "'''"
      ],
      "metadata": {
        "id": "J0qIdWGe45wn"
      },
      "execution_count": null,
      "outputs": []
    },
    {
      "cell_type": "code",
      "source": [
        "history = model.fit(...)    ### los '...' son porque está sin rellenar"
      ],
      "metadata": {
        "id": "5aQ0nRsh6H2g"
      },
      "execution_count": null,
      "outputs": []
    },
    {
      "cell_type": "markdown",
      "source": [
        "## Visualizar comportamiento del entrenamiento"
      ],
      "metadata": {
        "id": "pw-Owwxq6eCf"
      }
    },
    {
      "cell_type": "code",
      "source": [
        "access,\n",
        "history_dict = history.history\n",
        "acc      = history_dict['acc']\n",
        "val_acc  = history_dict['val_acc']\n",
        "loss     = history_dict['loss']\n",
        "val_loss = history_dict['val_loss']"
      ],
      "metadata": {
        "id": "lNlRmL4N6hmc"
      },
      "execution_count": null,
      "outputs": []
    },
    {
      "cell_type": "code",
      "source": [
        "epochs = range(1, len(acc)+1, 1)\n",
        "\n",
        "plt.plot  (epochs, acc    , 'r--', label = 'Training acc')\n",
        "plt.plot  (epochs, val_acc, 'b'  , label = 'Validation acc')\n",
        "plt.ylabel('acc')\n",
        "plt.xlabel('epochs')\n",
        "\n",
        "plt.legend()\n",
        "plt.figure()\n",
        "plt.plot (epochs, loss    , 'r--')\n",
        "plt.plot (epochs, val_loss, 'b')\n",
        "plt.title('Training and validation loss')\n",
        "plt.ylabel('loss')\n",
        "plt.xlabel('epochs')\n",
        "\n",
        "plt.legend()\n",
        "plt.figure()"
      ],
      "metadata": {
        "id": "gdsHsgeZ6b68"
      },
      "execution_count": null,
      "outputs": []
    },
    {
      "cell_type": "code",
      "source": [
        "test_loss, test_acc = model.evaluate(imag_test, y_test)\n",
        "print('Test Accuracy:',test_acc)"
      ],
      "metadata": {
        "id": "VLcGdLiI7xlF"
      },
      "execution_count": null,
      "outputs": []
    },
    {
      "cell_type": "markdown",
      "source": [
        "## Mejores formas de prevenir el overfitting\n",
        "\n",
        "- #### Dropout(obviar aleatoriamente ciertas neuronas en cada época)\n",
        "- #### Regularización de pesos L1 o L2(se añaden a nivel de capa con kerne_regularizer con keras.regularizers.l1(r) o keras.regularizers.l2(r), siendo r es un float que controla la regularización aplicada\n",
        "- #### Data Augmentation(Expuesta abajo)\n",
        "- #### Transfer Learning(Utilizar modelos ya entrenados previamente con otros datos"
      ],
      "metadata": {
        "id": "G_wO3RS_8Dk8"
      }
    },
    {
      "cell_type": "markdown",
      "source": [
        "#### Data Augmentation\n",
        "##### Aumentar 'artificialmente' la cantidad de datos generando mas imágenes a partir de las que están en posesion(rotandolas, girándolas, moviendo el eje horizontal o vertical de la imagen, etc)\n",
        "\n",
        "\n",
        "##### Esto solo se hará en los datos de entrenamiento, no en test ni en validacion"
      ],
      "metadata": {
        "id": "Raap3oFt85mm"
      }
    },
    {
      "cell_type": "code",
      "source": [
        "from tensorflow.keras.preprocessing.image import ImageDataGenerator\n",
        "\n",
        "\n",
        "train_datagen = ImageDataGenerator(\n",
        "    rescale = 1./255.,\n",
        "    rotation_range= 40,   ### Maximo valor de rotacion de la imagen\n",
        "    width_shift_range = 0.2,\n",
        "    height_shift_range = 0.2\n",
        ")\n",
        "\n"
      ],
      "metadata": {
        "id": "KuOKefYx8DGh"
      },
      "execution_count": 2,
      "outputs": []
    },
    {
      "cell_type": "markdown",
      "source": [
        "## Aqui generamos imagenes adicionales a partir de cada imagen"
      ],
      "metadata": {
        "id": "AVg9dIWvabyn"
      }
    },
    {
      "cell_type": "markdown",
      "source": [
        "##### Este codigo da como resultado final imagenes en formato tensor 3D de (100, 100, 3)"
      ],
      "metadata": {
        "id": "fB2lZY78dibq"
      }
    },
    {
      "cell_type": "code",
      "source": [
        "from keras_preprocessing.image.utils import img_to_array\n",
        "from numpy.lib.shape_base import expand_dims\n",
        "from google.colab import files\n",
        "from tensorflow.keras.preprocessing import image\n",
        "\n",
        "from tensorflow.keras import layers\n",
        "\n",
        "\n",
        "def Augmentation():\n",
        "\n",
        "  uploades = files.upload()  #### Este método permite subir archivos a colab(carpeta content)\n",
        "  lista_imagenes=[]\n",
        "\n",
        "  for fn in uploades.keys():\n",
        "    path = '/content/' + fn\n",
        "    img = image.load_img(path)\n",
        "    data = image.img_to_array(img)\n",
        "    samples = expand_dims(data, 0)\n",
        "\n",
        "    generador = train_datagen\n",
        "\n",
        "    #### .flow devuelve una tupla con(x,y) siendo x la imagen e y la label o etiqueta((En caso de pasar tambien un argumento y con las labels))\n",
        "    it = generador.flow(samples, batch_size=1, save_to_dir='/content/g/')\n",
        "    #### Solo se crean las imagenes cuando se hace it.next()\n",
        "    for i in range(3):   #### Luego este rango determinará cuantas imágenes se crean\n",
        "      batch = it.next()\n",
        "      imag = batch[0]\n",
        "      imagenn= img_to_array(imag)\n",
        "\n",
        "      #### Reescalamos la imagen a un formato de (100 x 100)\n",
        "      IMG_SIZE = 100\n",
        "\n",
        "      resize_and_rescale = tf.keras.Sequential([\n",
        "        layers.Resizing(IMG_SIZE, IMG_SIZE)\n",
        "      ])\n",
        "\n",
        "      result = resize_and_rescale(imagenn)\n",
        "      lista_imagenes.append(result)\n",
        "  return lista_imagenes\n",
        "  \n",
        "  \n"
      ],
      "metadata": {
        "id": "3wkWQstrMVOf"
      },
      "execution_count": null,
      "outputs": []
    },
    {
      "cell_type": "code",
      "source": [
        "from keras_preprocessing.image.utils import img_to_array\n",
        "from numpy.lib.shape_base import expand_dims\n",
        "from google.colab import files\n",
        "from tensorflow.keras.preprocessing import image\n",
        "\n",
        "from tensorflow.keras import layers\n",
        "import cv2\n",
        "\n",
        "path = '/content/imageness/data/'\n",
        "#directories = listdir(path)\n",
        "\n",
        "def Augmentation(path,directories,copias):\n",
        "\n",
        "  ### Esta variable contendra mis imagenes\n",
        "  lista_imagenes = []\n",
        "  ### Esta contendra las labels equivalente\n",
        "  y = []\n",
        "\n",
        " \n",
        "\n",
        "  #### para cada directorio dentro de data listamos su interior(imagenes)\n",
        "  for directori in directories:\n",
        "      ### Esta variable contendrá las imagenes de base\n",
        "      imagenes = []\n",
        "      #### listamos cada imagen\n",
        "      for i in range(0,len(listdir(path + directori))):\n",
        "          \n",
        "          #### obtenemos cada ruta de la imagen y la leemos guardando asi la imagen\n",
        "          image = cv2.imread(path + directori + '/' + listdir(path + directori)[i])\n",
        "          \n",
        "          #### Añadimos cara imagen al array de imagenes base    \n",
        "          image_resized = cv2.resize(image, (100,100))  \n",
        "          imagenes.append(np.array(image_resized)) \n",
        "\n",
        "          #### Añadimos cada label de la imagen a la lista de labels(y) definitiva\n",
        "          y.append(str(directori))\n",
        "          \n",
        "      imagenes = np.array(imagenes)\n",
        "\n",
        "      ### Agregamos a la lista definitiva las imagenes base estandarizadas de un directorio\n",
        "      lista_imagenes.append((np.array(imagenes).astype('float32')/255))\n",
        "        \n",
        "      for i in imagenes:\n",
        "        \n",
        "          generador = train_datagen\n",
        "          generador.fit(imagenes)\n",
        "          it = generador.flow(imagenes, batch_size=1, save_to_dir='/content/'+str(directori)+'/')\n",
        "          #### Solo se crean las imagenes cuando se hace it.next()\n",
        "          for i in range(int(copias)):   #### Luego este rango determinará cuantas imágenes se crean\n",
        "            batch = it.next()\n",
        "            imag = batch[0]\n",
        "            imagenn= img_to_array(imag)\n",
        "\n",
        "            #### Reescalamos la imagen a un formato de (100 x 100)\n",
        "            IMG_SIZE = 100\n",
        "\n",
        "            resize_and_rescale = tf.keras.Sequential([\n",
        "              layers.Resizing(IMG_SIZE, IMG_SIZE)\n",
        "            ])\n",
        "\n",
        "            result = resize_and_rescale(imagenn)\n",
        "\n",
        "        #### Añadimos la imagen y el label a las listas definitivas\n",
        "            lista_imagenes.append(result)\n",
        "            y.append(str(directori))\n",
        "      \n",
        "  #### Devolvemos en formato tupla la lista con todas las imagenes y la tupla con todos los labels\n",
        "  \n",
        "  return (lista_imagenes,y)\n",
        "    \n",
        "  "
      ],
      "metadata": {
        "id": "oRY6NEOBuR2j"
      },
      "execution_count": 3,
      "outputs": []
    },
    {
      "cell_type": "code",
      "source": [
        "(X_augmentate, y_augmentate) = Augmentation(path, directories, 3)"
      ],
      "metadata": {
        "id": "CZ8IlIb7kdP3"
      },
      "execution_count": null,
      "outputs": []
    },
    {
      "cell_type": "markdown",
      "source": [
        "# Vamos a hacerlo separado por directorios"
      ],
      "metadata": {
        "id": "uG32VQQBkOis"
      }
    },
    {
      "cell_type": "code",
      "source": [
        "from tensorflow.keras.preprocessing import image\n",
        "\n",
        "### Esta variable contendrá las imagenes de base\n",
        "imagenes = []\n",
        "lista_imagenes= []\n",
        "y = []\n",
        "uploades = files.upload()  #### Este método permite subir archivos a colab(carpeta content)\n",
        "\n",
        "\n",
        "for fn in uploades.keys():\n",
        "    path = '/content/' + fn\n",
        "    img = image.load_img(path)\n",
        "\n",
        "    imagenes.append(img)\n",
        "\n",
        "for i in range(0,len(imagenes)):\n",
        "          \n",
        "          #### obtenemos cada ruta de la imagen y la leemos guardando asi la imagen\n",
        "          ima = np.array(imagenes[i])\n",
        "          \n",
        "          #### Añadimos cara imagen al array de imagenes base    \n",
        "          image_resized = cv2.resize(ima, (100,100))  \n",
        "          imagenes.append(np.array(image_resized)) \n",
        "\n",
        "          #### Añadimos cada label de la imagen a la lista de labels(y) definitiva\n",
        "          y.append(str('airplane'))\n",
        "          \n",
        "imagenes = np.array(imagenes)\n",
        "print(imagenes)\n",
        "\n",
        "      ### Agregamos a la lista definitiva las imagenes base estandarizadas de un directorio\n",
        "lista_imagenes.append(imagenes.astype('float32')/255)\n",
        "       \n",
        "for i in imagenes:\n",
        "        \n",
        "          generador = train_datagen\n",
        "          generador.fit(imagenes)\n",
        "          it = generador.flow(imagenes, batch_size=1, save_to_dir='/content/'+str('airplan')+'/')\n",
        "          #### Solo se crean las imagenes cuando se hace it.next()\n",
        "          for i in range(int(3)):   #### Luego este rango determinará cuantas imágenes se crean\n",
        "            batch = it.next()\n",
        "            imag = batch[0]\n",
        "            imagenn= img_to_array(imag)\n",
        "\n",
        "            #### Reescalamos la imagen a un formato de (100 x 100)\n",
        "            IMG_SIZE = 100\n",
        "\n",
        "            resize_and_rescale = tf.keras.Sequential([\n",
        "              layers.Resizing(IMG_SIZE, IMG_SIZE)\n",
        "            ])\n",
        "\n",
        "            result = resize_and_rescale(imagenn)\n",
        "\n",
        "        #### Añadimos la imagen y el label a las listas definitivas\n",
        "            lista_imagenes.append(result)\n",
        "            y.append(str('airplane'))\n",
        "      \n",
        "  #### Devolvemos en formato tupla la lista con todas las imagenes y la tupla con todos los labels\n",
        "  \n",
        "\n",
        "    "
      ],
      "metadata": {
        "id": "Q0bHuK91kOKq"
      },
      "execution_count": null,
      "outputs": []
    },
    {
      "cell_type": "code",
      "source": [
        "from tensorflow.keras.preprocessing import image\n",
        "from google.colab import files\n",
        "import numpy as np\n",
        "import cv2\n",
        "\n",
        "\n",
        "def obtener_imagenes(etiqueta):\n",
        "      ### Esta variable contendrá las imagenes de base\n",
        "      imagenes = []\n",
        "      imagenes_base = []\n",
        "\n",
        "      y = []\n",
        "      uploades = files.upload()  #### Este método permite subir archivos a colab(carpeta content)\n",
        "\n",
        "\n",
        "      for fn in uploades.keys():\n",
        "          path = '/content/' + fn\n",
        "          img = image.load_img(path)\n",
        "\n",
        "          imagenes_base.append(img)\n",
        "\n",
        "      for i in range(0,len(imagenes_base)):\n",
        "                \n",
        "                #### obtenemos cada ruta de la imagen y la leemos guardando asi la imagen\n",
        "                ima = np.array(imagenes_base[i])\n",
        "                \n",
        "                #### Añadimos cara imagen al array de imagenes base    \n",
        "                image_resized = cv2.resize(ima, (100,100))  \n",
        "                imagenes.append(image_resized)  #.astype('float32')/255)    ##Las formatearemos mas adelante\n",
        "\n",
        "                #### Añadimos cada label de la imagen a la lista de labels(y) definitiva\n",
        "                y.append(str(etiqueta))\n",
        "                \n",
        "      #imagenes = np.array(imagenes)\n",
        "      #print(np.array(imagenes).shape)\n",
        "      #print(imagenes[0].shape)\n",
        "      return imagenes\n",
        "\n",
        "      \n",
        "       "
      ],
      "metadata": {
        "id": "iRbMWTqCrBAF"
      },
      "execution_count": 15,
      "outputs": []
    },
    {
      "cell_type": "code",
      "source": [
        "airplanes = obtener_imagenes('airplane')"
      ],
      "metadata": {
        "colab": {
          "resources": {
            "http://localhost:8080/nbextensions/google.colab/files.js": {
              "data": "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",
              "ok": true,
              "headers": [
                [
                  "content-type",
                  "application/javascript"
                ]
              ],
              "status": 200,
              "status_text": ""
            }
          },
          "base_uri": "https://localhost:8080/",
          "height": 1000
        },
        "id": "_zET-FI_2Pz-",
        "outputId": "b6eaf491-2d71-4d57-b5ba-b485300a6ead"
      },
      "execution_count": null,
      "outputs": [
        {
          "output_type": "display_data",
          "data": {
            "text/plain": [
              "<IPython.core.display.HTML object>"
            ],
            "text/html": [
              "\n",
              "     <input type=\"file\" id=\"files-ae97da17-ffbf-4140-8358-4972f0c82815\" name=\"files[]\" multiple disabled\n",
              "        style=\"border:none\" />\n",
              "     <output id=\"result-ae97da17-ffbf-4140-8358-4972f0c82815\">\n",
              "      Upload widget is only available when the cell has been executed in the\n",
              "      current browser session. Please rerun this cell to enable.\n",
              "      </output>\n",
              "      <script src=\"/nbextensions/google.colab/files.js\"></script> "
            ]
          },
          "metadata": {}
        }
      ]
    },
    {
      "cell_type": "code",
      "source": [
        "\n"
      ],
      "metadata": {
        "colab": {
          "base_uri": "https://localhost:8080/",
          "height": 285
        },
        "id": "MbgdfxCo3ADT",
        "outputId": "d164e6e9-0ef7-4584-fabb-bb66cc389f26"
      },
      "execution_count": 20,
      "outputs": [
        {
          "output_type": "execute_result",
          "data": {
            "text/plain": [
              "<matplotlib.image.AxesImage at 0x7f6f1c6c6790>"
            ]
          },
          "metadata": {},
          "execution_count": 20
        },
        {
          "output_type": "display_data",
          "data": {
            "text/plain": [
              "<Figure size 432x288 with 1 Axes>"
            ],
            "image/png": "[encoded data removed]"
          },
          "metadata": {
            "needs_background": "light"
          }
        }
      ]
    }
  ]
}