{
  "nbformat": 4,
  "nbformat_minor": 0,
  "metadata": {
    "colab": {
      "name": "final.ipynb",
      "provenance": [],
      "collapsed_sections": [],
      "include_colab_link": true
    },
    "kernelspec": {
      "name": "python3",
      "display_name": "Python 3"
    },
    "language_info": {
      "name": "python"
    }
  },
  "cells": [
    {
      "cell_type": "markdown",
      "metadata": {
        "id": "view-in-github",
        "colab_type": "text"
      },
      "source": [
        "<a href=\"https://colab.research.google.com/github/pinipv/DeepLearning-LearningPropio/blob/main/final.ipynb\" target=\"_parent\"><img src=\"https://colab.research.google.com/assets/colab-badge.svg\" alt=\"Open In Colab\"/></a>"
      ]
    },
    {
      "cell_type": "code",
      "execution_count": 4,
      "metadata": {
        "id": "yXvoWWAA2ezz"
      },
      "outputs": [],
      "source": [
        "import numpy as np # linear algebra\n",
        "import pandas as pd # data processing, CSV file I/O (e.g. pd.read_csv)\n",
        "import seaborn as sns\n",
        "import matplotlib.pyplot as plt\n",
        "\n",
        "from os import listdir\n",
        "from skimage import io\n",
        "\n",
        "\n",
        "\n",
        "from sklearn.model_selection import train_test_split\n",
        "from sklearn.metrics import confusion_matrix\n",
        "\n",
        "\n",
        "\n",
        "import itertools\n",
        "\n",
        "from keras.utils.np_utils import to_categorical # convert to one-hot-encoding\n",
        "from keras.models import Sequential\n",
        "from keras.layers import Dense, Dropout, Flatten, Conv2D, MaxPool2D\n",
        "\n",
        "import tensorflow as tf\n",
        "\n",
        "from keras.preprocessing.image import ImageDataGenerator\n",
        "from keras.callbacks import ReduceLROnPlateau"
      ]
    },
    {
      "cell_type": "markdown",
      "source": [
        "## Recojo las imagenes de los archivos(aprox. 500 de cada categoria)"
      ],
      "metadata": {
        "id": "kWP2eX7R6ceU"
      }
    },
    {
      "cell_type": "code",
      "source": [
        "from tensorflow.keras.preprocessing import image\n",
        "from google.colab import files\n",
        "import cv2\n",
        "\n",
        "\n",
        "def obtener_imagenes(etiqueta):\n",
        "      ### Esta variable contendrá las imagenes de base\n",
        "      imagenes = []\n",
        "      imagenes_base = []\n",
        "\n",
        "      y = []\n",
        "      uploades = files.upload()  #### Este método permite subir archivos a colab(carpeta content)\n",
        "\n",
        "      for fn in uploades.keys():\n",
        "          path = '/content/' + fn\n",
        "          img = image.load_img(path)\n",
        "\n",
        "          imagenes_base.append(img)\n",
        "\n",
        "      for i in range(0,len(imagenes_base)):\n",
        "                \n",
        "                #### obtenemos cada ruta de la imagen y la leemos guardando asi la imagen\n",
        "                ima = np.array(imagenes_base[i])\n",
        "                \n",
        "                #### Añadimos cara imagen al array de imagenes base    \n",
        "                image_resized = cv2.resize(ima, (100,100))  \n",
        "                imagenes.append(image_resized)  #.astype('float32')/255)    ##Las formatearemos mas adelante\n",
        "\n",
        "                #### Añadimos cada label de la imagen a la lista de labels(y) definitiva\n",
        "                y.append(str(etiqueta))\n",
        "                \n",
        "      #imagenes = np.array(imagenes)\n",
        "      #print(np.array(imagenes).shape)\n",
        "      #print(imagenes[0].shape)\n",
        "      return (imagenes, y)"
      ],
      "metadata": {
        "id": "QajS7AqJ3KUL"
      },
      "execution_count": 5,
      "outputs": []
    },
    {
      "cell_type": "markdown",
      "source": [
        "### De cada set subido retiro 200 imagenes para usar como test, dejando 300 para hacer DataAugmenting "
      ],
      "metadata": {
        "id": "gGp0ekL36gnd"
      }
    },
    {
      "cell_type": "code",
      "source": [
        "def sacar_test(nparray, labels):\n",
        "  test = nparray[:199]     \n",
        "  train = np.delete(nparray,np.s_[:199],0)\n",
        "  test_labels = labels[:199]\n",
        "  train_labels = np.delete(labels, np.s_[:199],0)\n",
        "  return (train, test, train_labels, test_labels)\n"
      ],
      "metadata": {
        "id": "lv0jQ7126xiB"
      },
      "execution_count": 6,
      "outputs": []
    },
    {
      "cell_type": "markdown",
      "source": [
        "## Data Augmenting"
      ],
      "metadata": {
        "id": "T8whzgK_90D4"
      }
    },
    {
      "cell_type": "code",
      "source": [
        "from tensorflow.keras.preprocessing.image import ImageDataGenerator\n",
        "\n",
        "\n",
        "train_datagen = ImageDataGenerator(\n",
        "    rescale = 1./255.,\n",
        "    rotation_range= 40,   ### Maximo valor de rotacion de la imagen\n",
        "    width_shift_range = 0.2,\n",
        "    height_shift_range = 0.2\n",
        ")"
      ],
      "metadata": {
        "id": "sqO0VVed3dqq"
      },
      "execution_count": 7,
      "outputs": []
    },
    {
      "cell_type": "code",
      "source": [
        "from keras_preprocessing.image.utils import img_to_array\n",
        "import tensorflow as tf\n",
        "from tensorflow.keras import layers\n",
        "\n",
        "def obtener_copias(imagenes_base, etiqueta,copias):\n",
        "      lista_imagenes = []\n",
        "      y = []\n",
        "      generador = train_datagen\n",
        "      generador.fit(imagenes_base)\n",
        "      \n",
        "\n",
        "      for i in imagenes_base:  \n",
        "              imagen = np.array(i).reshape(-1,100,100,3)  \n",
        "              it = generador.flow( imagen , batch_size=1)     \n",
        "              #### Solo se crean las imagenes cuando se hace it.next()\n",
        "              for j in range(int(copias)):   #### Luego este rango determinará cuantas imágenes se crean\n",
        "                batch = it.next()\n",
        "                imag = batch[0]\n",
        "                imagenn= img_to_array(imag)\n",
        "\n",
        "                #### Reescalamos la imagen a un formato de (100 x 100)\n",
        "                IMG_SIZE = 100\n",
        "\n",
        "                resize_and_rescale = tf.keras.Sequential([\n",
        "                  layers.Resizing(IMG_SIZE, IMG_SIZE)\n",
        "                ])\n",
        "\n",
        "                result = resize_and_rescale(imagenn)\n",
        "\n",
        "            #### Añadimos la imagen y el label a las listas definitivas\n",
        "                lista_imagenes.append(result)\n",
        "                y.append(str(etiqueta))\n",
        "          \n",
        "      #### Devolvemos en formato tupla la lista con todas las imagenes y la tupla con todos los labels\n",
        "      return (lista_imagenes, y)"
      ],
      "metadata": {
        "id": "PKkLKOxK3WY8"
      },
      "execution_count": 8,
      "outputs": []
    },
    {
      "cell_type": "code",
      "source": [
        "from sklearn.preprocessing import LabelEncoder\n",
        "\n",
        "def categorizar_labels(train_labs, test_labs):\n",
        "  y_encoded = LabelEncoder().fit_transform(train_labs)\n",
        "  train_categorical = tf.keras.utils.to_categorical(y_encoded)\n",
        "  y_encoded = LabelEncoder().transform(test_labs)\n",
        "  test_categorical = tf.keras.utils.to_categorical(y_encoded)\n",
        "\n",
        "  return (train_categorical, test_categorical)"
      ],
      "metadata": {
        "id": "_SrZy6CbA8BD"
      },
      "execution_count": 9,
      "outputs": []
    },
    {
      "cell_type": "code",
      "source": [
        "from sklearn.utils import shuffle\n",
        "\n",
        "def barajar_train(dataset, labels, seed): \n",
        "\n",
        "    #### 'Barajamos' los array de imagenes y de labels\n",
        "\n",
        "    # ¿¿¿¿¿¿¿Necesario???????\n",
        "    shuffle_dataset = shuffle(dataset, random_state = int(seed))\n",
        "    shuffle_labels  = shuffle(labels, random_state = int(seed))\n",
        "    #\n",
        "    '''\n",
        "    a,b,c,d = np.vsplit(shuffle_dataset, 4)\n",
        "    e,f,g,h = np.vsplit(shuffle_labels, 4)\n",
        "    '''\n",
        "    train_dataset = shuffle_dataset#np.concatenate((a,b,c), axis=0)\n",
        "    #test_dataset  = d\n",
        "    train_labels  = shuffle_labels#np.concatenate((e,f,g), axis= 0)\n",
        "    #test_labels   = h\n",
        "\n",
        "    return (train_dataset, train_labels)"
      ],
      "metadata": {
        "id": "RcYCak-Q3pou"
      },
      "execution_count": 10,
      "outputs": []
    },
    {
      "cell_type": "markdown",
      "source": [
        "### Esta en principio no seria necesaria"
      ],
      "metadata": {
        "id": "0o6Bx9VcAYRK"
      }
    },
    {
      "cell_type": "code",
      "source": [
        "from sklearn.preprocessing import LabelEncoder\n",
        "from sklearn.utils import shuffle\n",
        "\n",
        "def train_test_split(datasets_train, datasets_test, train_labels, test_labels):   #### Dataset y labels serian listas con todos los dataset y todos los labels\n",
        "  train = datasets_train[0]\n",
        "  test  = datasets_test[0]\n",
        "  train_lab = train_labels[0]\n",
        "  test_lab  = test_labels[0]\n",
        "\n",
        "  for i in range(1, len(datasets_train)):\n",
        "    train = np.concatenate((train, datasets_train[i]), axis = 0)\n",
        "  for i in range(1, len(datasets_test)):\n",
        "    test  = np.concatenate((test, datasets_test[i]),  axis = 0)\n",
        "  for i in range(1, len(train_labels)):\n",
        "    train_lab = np.concatenate((train_lab, train_labels[i]), axis = 0)\n",
        "  for i in range(1, len(test_labels)):\n",
        "    test_lab  = np.concatenate((test_lab, test_labels[i]),  axis = 0)\n",
        "\n",
        "\n",
        "  train_lab_encoded = LabelEncoder().fit_transform(train_lab)\n",
        "  train_lab_categorical = tf.keras.utils.to_categorical(train_lab_encoded)\n",
        "\n",
        "  test_lab_encoded = LabelEncoder().fit_transform(test_lab)\n",
        "  test_lab_categorical = tf.keras.utils.to_categorical(test_lab_encoded)\n",
        "\n",
        "\n",
        "  shuffle_train = shuffle(train, random_state = 42)\n",
        "  shuffle_train_lab = shuffle(train_lab_categorical, random_state = 42)\n",
        "  return (shuffle_train,shuffle_train_lab, test, test_lab_categorical)"
      ],
      "metadata": {
        "id": "eYMa3xkc4AYX"
      },
      "execution_count": null,
      "outputs": []
    },
    {
      "cell_type": "markdown",
      "source": [
        "# Preprocesado"
      ],
      "metadata": {
        "id": "g5Zn7hLSBdA_"
      }
    },
    {
      "cell_type": "markdown",
      "source": [
        "## Obtencion de imagenes"
      ],
      "metadata": {
        "id": "6lohrA2CB0R5"
      }
    },
    {
      "cell_type": "code",
      "source": [
        "airplanes, y_aviones = obtener_imagenes('airplane')\n",
        "airplanes = np.array(airplanes)"
      ],
      "metadata": {
        "id": "Gi02rVISBgVl"
      },
      "execution_count": null,
      "outputs": []
    },
    {
      "cell_type": "code",
      "source": [
        "car, y_car = obtener_imagenes('car')\n",
        "car = np.array(car)"
      ],
      "metadata": {
        "id": "FyCDiFDBBtdd"
      },
      "execution_count": null,
      "outputs": []
    },
    {
      "cell_type": "code",
      "source": [
        "cat, y_cat = obtener_imagenes('cat')\n",
        "cat = np.array(cat)"
      ],
      "metadata": {
        "id": "0Pb-4qt3Buvt"
      },
      "execution_count": null,
      "outputs": []
    },
    {
      "cell_type": "code",
      "source": [
        "dog, y_dog = obtener_imagenes('dog')\n",
        "dog = np.array(dog)"
      ],
      "metadata": {
        "id": "2loIAudVBv2J"
      },
      "execution_count": null,
      "outputs": []
    },
    {
      "cell_type": "code",
      "source": [
        "flower, y_flower = obtener_imagenes('flower')\n",
        "flower = np.array(flower)"
      ],
      "metadata": {
        "id": "qiJpTUviBxSe"
      },
      "execution_count": null,
      "outputs": []
    },
    {
      "cell_type": "code",
      "source": [
        "fruit, y_fruit = obtener_imagenes('fruit')\n",
        "fruit = np.array(fruit)"
      ],
      "metadata": {
        "id": "oaT5SF2BBxu2"
      },
      "execution_count": null,
      "outputs": []
    },
    {
      "cell_type": "markdown",
      "source": [
        "## Separar test de cada una"
      ],
      "metadata": {
        "id": "IadBdlKRB3hv"
      }
    },
    {
      "cell_type": "code",
      "source": [
        "train_air, test_air, train_labels_air, test_labels_air = sacar_test(airplanes,y_aviones)"
      ],
      "metadata": {
        "id": "UVPUONAuB3Ln"
      },
      "execution_count": 12,
      "outputs": []
    },
    {
      "cell_type": "code",
      "source": [
        "train_car, test_car, train_labels_car, test_labels_car = sacar_test(car,y_car)"
      ],
      "metadata": {
        "id": "ovyd1LiBCK-Y"
      },
      "execution_count": 21,
      "outputs": []
    },
    {
      "cell_type": "code",
      "source": [
        "train_cat, test_cat, train_labels_cat, test_labels_cat = sacar_test(cat,y_cat)"
      ],
      "metadata": {
        "id": "uGTqfZiECK0X"
      },
      "execution_count": 22,
      "outputs": []
    },
    {
      "cell_type": "code",
      "source": [
        "train_dog, test_dog, train_labels_dog, test_labels_dog = sacar_test(dog,y_dog)"
      ],
      "metadata": {
        "id": "g5WTBrmlCKpY"
      },
      "execution_count": 23,
      "outputs": []
    },
    {
      "cell_type": "code",
      "source": [
        "train_flower, test_flower, train_labels_flower, test_labels_flower = sacar_test(flower,y_flower)"
      ],
      "metadata": {
        "id": "9X9AWwyiCKZ5"
      },
      "execution_count": 24,
      "outputs": []
    },
    {
      "cell_type": "code",
      "source": [
        "train_fruit, test_fruit, train_labels_fruit, test_labels_fruit = sacar_test(fruit,y_fruit)"
      ],
      "metadata": {
        "id": "h-1REY6_CKKI"
      },
      "execution_count": 25,
      "outputs": []
    },
    {
      "cell_type": "markdown",
      "source": [
        "## Obtenemos las copias de cada una con Data Augmenting"
      ],
      "metadata": {
        "id": "HQyVASYLC1a6"
      }
    },
    {
      "cell_type": "code",
      "source": [
        "generacion_aviones, y_generacion_aviones = obtener_copias(train_air , 'airplane',3)"
      ],
      "metadata": {
        "id": "FTtgcBSAC5l8"
      },
      "execution_count": 13,
      "outputs": []
    },
    {
      "cell_type": "code",
      "source": [
        "generacion_cars, y_generacion_cars = obtener_copias(train_car , 'car',3)"
      ],
      "metadata": {
        "id": "EXqau15gC6_z"
      },
      "execution_count": 26,
      "outputs": []
    },
    {
      "cell_type": "code",
      "source": [
        "generacion_cat, y_generacion_cat = obtener_copias(train_cat , 'cat',3)"
      ],
      "metadata": {
        "id": "tViKtKxEC62O"
      },
      "execution_count": 27,
      "outputs": []
    },
    {
      "cell_type": "code",
      "source": [
        "generacion_dog, y_generacion_dog = obtener_copias(train_dog , 'dog',3)"
      ],
      "metadata": {
        "id": "3_qOqw6SC6sr"
      },
      "execution_count": 28,
      "outputs": []
    },
    {
      "cell_type": "code",
      "source": [
        "generacion_flower, y_generacion_flower = obtener_copias(train_flower , 'flower',3)"
      ],
      "metadata": {
        "id": "XTzeojInC6ik"
      },
      "execution_count": 29,
      "outputs": []
    },
    {
      "cell_type": "code",
      "source": [
        "generacion_fruit, y_generacion_fruit = obtener_copias(train_fruit , 'fruit',3)"
      ],
      "metadata": {
        "id": "O-6dzmVZC6X_"
      },
      "execution_count": 30,
      "outputs": []
    },
    {
      "cell_type": "markdown",
      "source": [
        "## Unimos los datos finales para train"
      ],
      "metadata": {
        "id": "CVsXng3vDd6m"
      }
    },
    {
      "cell_type": "code",
      "source": [
        "train_airplanef = np.concatenate((train_air, np.array(generacion_aviones)), axis=0)\n",
        "labels_airplanes = np.concatenate((train_labels_air, y_generacion_aviones), axis = 0)\n",
        "\n",
        "train_lbairplane = labels_airplanes.reshape(-1,1)"
      ],
      "metadata": {
        "id": "gsTTqhobEm9C"
      },
      "execution_count": 14,
      "outputs": []
    },
    {
      "cell_type": "code",
      "source": [
        "train_carf = np.concatenate((train_car, np.array(generacion_cars)), axis=0)\n",
        "labels_cars = np.concatenate((train_labels_car, y_generacion_cars), axis = 0)\n",
        "\n",
        "train_lbcar = labels_cars.reshape(-1,1)"
      ],
      "metadata": {
        "id": "9ZLdBXC6Eqtd"
      },
      "execution_count": 31,
      "outputs": []
    },
    {
      "cell_type": "code",
      "source": [
        "train_catf = np.concatenate((train_cat, np.array(generacion_cat)), axis=0)\n",
        "labels_cats = np.concatenate((train_labels_cat, y_generacion_cat), axis = 0)\n",
        "\n",
        "train_lbcat = labels_cats.reshape(-1,1)"
      ],
      "metadata": {
        "id": "yPGctJQ3EqkP"
      },
      "execution_count": 32,
      "outputs": []
    },
    {
      "cell_type": "code",
      "source": [
        "train_dogf = np.concatenate((train_dog, np.array(generacion_dog)), axis=0)\n",
        "labels_dogs = np.concatenate((train_labels_dog, y_generacion_dog), axis = 0)\n",
        "\n",
        "train_lbdog = labels_dogs.reshape(-1,1)"
      ],
      "metadata": {
        "id": "IRdeuiMlEqZ6"
      },
      "execution_count": 33,
      "outputs": []
    },
    {
      "cell_type": "code",
      "source": [
        "train_flowerf = np.concatenate((train_flower, np.array(generacion_flower)), axis=0)\n",
        "labels_flowers = np.concatenate((train_labels_flower, y_generacion_flower), axis = 0)\n",
        "\n",
        "train_lbflower = labels_flowers.reshape(-1,1)"
      ],
      "metadata": {
        "id": "1ljc7NN4EqON"
      },
      "execution_count": 34,
      "outputs": []
    },
    {
      "cell_type": "code",
      "source": [
        "train_fruitf = np.concatenate((train_fruit, np.array(generacion_fruit)), axis=0)\n",
        "labels_fruits = np.concatenate((train_labels_fruit, y_generacion_fruit), axis = 0)\n",
        "\n",
        "train_lbfruit = labels_fruits.reshape(-1,1)"
      ],
      "metadata": {
        "id": "F3LQV8DuEp56"
      },
      "execution_count": 35,
      "outputs": []
    },
    {
      "cell_type": "markdown",
      "source": [
        "### train , test, train_labels, test_labels"
      ],
      "metadata": {
        "id": "VK1ipf91GkQ1"
      }
    },
    {
      "cell_type": "markdown",
      "source": [
        "## Concatenamos todos los train  los test y sus labels y los shuffleamos"
      ],
      "metadata": {
        "id": "xisTWhVWTMvZ"
      }
    },
    {
      "cell_type": "code",
      "source": [
        "train =  np.concatenate((train_airplanef, train_carf, train_catf, train_dogf, train_flowerf, train_fruitf), axis=0)\n",
        "train_labels = np.concatenate((train_lbairplane, train_lbcar, train_lbcat, train_lbdog, train_lbflower, train_lbfruit))\n",
        "\n",
        "X_train, y_train = barajar_train(train, train_labels, 42)"
      ],
      "metadata": {
        "id": "NIDwcyUXTSHA"
      },
      "execution_count": 36,
      "outputs": []
    },
    {
      "cell_type": "code",
      "source": [
        "test = np.concatenate((test_air, test_car, test_car, test_dog, test_flower, test_fruit))\n",
        "test_labels = np.concatenate((test_labels_air, test_labels_car, test_labels_cat, test_labels_dog, test_labels_flower, test_labels_fruit), axis =0)\n",
        "\n",
        "X_test, y_test = barajar_train(test, test_labels, 42)"
      ],
      "metadata": {
        "id": "-4lRhKxkViAC"
      },
      "execution_count": 38,
      "outputs": []
    },
    {
      "cell_type": "markdown",
      "source": [
        "## En este punto tenemos las imagenes para train, para test(todo ya separado), y sus respectivos labels(sin categorizar)"
      ],
      "metadata": {
        "id": "VWUMTfZaGJF_"
      }
    },
    {
      "cell_type": "code",
      "source": [
        "from sklearn.preprocessing import LabelEncoder\n",
        "\n",
        "def categorizar_labels(train_labs, test_labs):\n",
        "  y_encoded = LabelEncoder().fit_transform(train_labs)\n",
        "  train_categorical = tf.keras.utils.to_categorical(y_encoded)\n",
        "  y_encoded = LabelEncoder().fit_transform(test_labs)\n",
        "  test_categorical = tf.keras.utils.to_categorical(y_encoded)\n",
        "\n",
        "  return (train_categorical, test_categorical)"
      ],
      "metadata": {
        "id": "NNkEf7orZcyq"
      },
      "execution_count": 40,
      "outputs": []
    },
    {
      "cell_type": "code",
      "source": [
        "y_train, y_test = categorizar_labels(y_train, y_test)"
      ],
      "metadata": {
        "colab": {
          "base_uri": "https://localhost:8080/"
        },
        "id": "PNJ5dIS2Z7PV",
        "outputId": "e18dffd4-84c1-469e-b1cf-163f22b2755b"
      },
      "execution_count": 41,
      "outputs": [
        {
          "output_type": "stream",
          "name": "stderr",
          "text": [
            "/usr/local/lib/python3.7/dist-packages/sklearn/preprocessing/_label.py:115: DataConversionWarning: A column-vector y was passed when a 1d array was expected. Please change the shape of y to (n_samples, ), for example using ravel().\n",
            "  y = column_or_1d(y, warn=True)\n"
          ]
        }
      ]
    },
    {
      "cell_type": "code",
      "source": [
        "print(X_train.shape)\n",
        "print(y_train.shape)\n",
        "print(X_test.shape)\n",
        "print(y_test.shape)"
      ],
      "metadata": {
        "colab": {
          "base_uri": "https://localhost:8080/"
        },
        "id": "O9imLao2VCzn",
        "outputId": "7879b0aa-9528-4b6d-dea4-b692a1bb3f45"
      },
      "execution_count": 44,
      "outputs": [
        {
          "output_type": "stream",
          "name": "stdout",
          "text": [
            "(7224, 100, 100, 3)\n",
            "(7224, 6)\n",
            "(1194, 100, 100, 3)\n",
            "(1194, 6)\n"
          ]
        }
      ]
    },
    {
      "cell_type": "markdown",
      "source": [
        "## En este punto ya tendriamos todo listo para entrenar el modelo"
      ],
      "metadata": {
        "id": "GGc98PApHmUL"
      }
    },
    {
      "cell_type": "markdown",
      "source": [
        "# Modelo"
      ],
      "metadata": {
        "id": "3oWWT6ojAdmg"
      }
    },
    {
      "cell_type": "code",
      "source": [
        "model = Sequential()\n",
        "\n",
        "model.add(Conv2D(filters = 32, kernel_size = (5,5),padding = 'Same', \n",
        "                 activation ='relu', input_shape = (100,100,3)))\n",
        "model.add(Conv2D(filters = 32, kernel_size = (5,5),padding = 'Same', \n",
        "                 activation ='relu'))\n",
        "model.add(MaxPool2D(pool_size=(2,2)))\n",
        "model.add(Dropout(0.25))\n",
        "\n",
        "\n",
        "model.add(Conv2D(filters = 64, kernel_size = (3,3),padding = 'Same', \n",
        "                 activation ='relu'))\n",
        "model.add(Conv2D(filters = 64, kernel_size = (3,3),padding = 'Same', \n",
        "                 activation ='relu'))\n",
        "model.add(MaxPool2D(pool_size=(2,2), strides=(2,2)))\n",
        "model.add(Dropout(0.25))\n",
        "\n",
        "\n",
        "model.add(Flatten())\n",
        "model.add(Dense(256, activation = \"relu\"))\n",
        "model.add(Dropout(0.5))\n",
        "model.add(Dense(6, activation = \"softmax\"))"
      ],
      "metadata": {
        "id": "ZDOXHVNJ4Mdo"
      },
      "execution_count": 49,
      "outputs": []
    },
    {
      "cell_type": "code",
      "source": [
        "model.compile(loss = 'categorical_crossentropy',\n",
        "              optimizer = 'adam',\n",
        "              metrics = ['accuracy'])"
      ],
      "metadata": {
        "id": "_g-QFGbE4QIM"
      },
      "execution_count": 50,
      "outputs": []
    },
    {
      "cell_type": "code",
      "source": [
        "from tensorflow.keras.callbacks import EarlyStopping\n",
        "\n",
        "eS = EarlyStopping(monitor = 'loss',\n",
        "                   mode='min',\n",
        "                   patience = 5,\n",
        "                   verbose = 1,\n",
        "                   restore_best_weights = True)"
      ],
      "metadata": {
        "id": "gmeloJrp4T1T"
      },
      "execution_count": 51,
      "outputs": []
    },
    {
      "cell_type": "code",
      "source": [
        "history = model.fit(X_train,y_train, validation_split = 0.2, verbose=1, epochs = 20, callbacks=[eS])"
      ],
      "metadata": {
        "id": "CuZ7nIve4f81",
        "colab": {
          "base_uri": "https://localhost:8080/"
        },
        "outputId": "f46275ff-64d6-4fcc-f80b-9bdc522b448e"
      },
      "execution_count": 52,
      "outputs": [
        {
          "output_type": "stream",
          "name": "stdout",
          "text": [
            "Epoch 1/20\n",
            "181/181 [==============================] - 459s 3s/step - loss: 3.4628 - accuracy: 0.2641 - val_loss: 1.4571 - val_accuracy: 0.3889\n",
            "Epoch 2/20\n",
            "181/181 [==============================] - 458s 3s/step - loss: 1.3012 - accuracy: 0.4956 - val_loss: 1.2475 - val_accuracy: 0.5149\n",
            "Epoch 3/20\n",
            "181/181 [==============================] - 458s 3s/step - loss: 1.0446 - accuracy: 0.5951 - val_loss: 1.0112 - val_accuracy: 0.5986\n",
            "Epoch 4/20\n",
            "181/181 [==============================] - 460s 3s/step - loss: 0.8971 - accuracy: 0.6498 - val_loss: 0.9621 - val_accuracy: 0.6173\n",
            "Epoch 5/20\n",
            "181/181 [==============================] - 458s 3s/step - loss: 0.7885 - accuracy: 0.6961 - val_loss: 1.0388 - val_accuracy: 0.6007\n",
            "Epoch 6/20\n",
            "181/181 [==============================] - 457s 3s/step - loss: 0.7146 - accuracy: 0.7254 - val_loss: 0.9400 - val_accuracy: 0.6311\n",
            "Epoch 7/20\n",
            "181/181 [==============================] - 462s 3s/step - loss: 0.6592 - accuracy: 0.7455 - val_loss: 0.8820 - val_accuracy: 0.6644\n",
            "Epoch 8/20\n",
            "181/181 [==============================] - 458s 3s/step - loss: 0.5983 - accuracy: 0.7712 - val_loss: 0.8482 - val_accuracy: 0.6810\n",
            "Epoch 9/20\n",
            "181/181 [==============================] - 457s 3s/step - loss: 0.5842 - accuracy: 0.7892 - val_loss: 0.9460 - val_accuracy: 0.6747\n",
            "Epoch 10/20\n",
            "181/181 [==============================] - 456s 3s/step - loss: 0.5246 - accuracy: 0.8029 - val_loss: 0.8588 - val_accuracy: 0.6913\n",
            "Epoch 11/20\n",
            "181/181 [==============================] - 456s 3s/step - loss: 0.4593 - accuracy: 0.8287 - val_loss: 0.7996 - val_accuracy: 0.7183\n",
            "Epoch 12/20\n",
            "181/181 [==============================] - 457s 3s/step - loss: 0.4970 - accuracy: 0.8292 - val_loss: 0.9289 - val_accuracy: 0.6997\n",
            "Epoch 13/20\n",
            "181/181 [==============================] - 458s 3s/step - loss: 0.5112 - accuracy: 0.8187 - val_loss: 0.8322 - val_accuracy: 0.6782\n",
            "Epoch 14/20\n",
            "181/181 [==============================] - 457s 3s/step - loss: 0.3713 - accuracy: 0.8638 - val_loss: 0.8632 - val_accuracy: 0.7080\n",
            "Epoch 15/20\n",
            "181/181 [==============================] - 455s 3s/step - loss: 0.3202 - accuracy: 0.8835 - val_loss: 0.9001 - val_accuracy: 0.7135\n",
            "Epoch 16/20\n",
            "181/181 [==============================] - 457s 3s/step - loss: 0.3101 - accuracy: 0.8894 - val_loss: 0.9046 - val_accuracy: 0.7273\n",
            "Epoch 17/20\n",
            "181/181 [==============================] - 457s 3s/step - loss: 0.4454 - accuracy: 0.8581 - val_loss: 0.9325 - val_accuracy: 0.6990\n",
            "Epoch 18/20\n",
            "181/181 [==============================] - 456s 3s/step - loss: 0.2877 - accuracy: 0.8948 - val_loss: 1.1528 - val_accuracy: 0.7246\n",
            "Epoch 19/20\n",
            "181/181 [==============================] - 456s 3s/step - loss: 0.3034 - accuracy: 0.8969 - val_loss: 1.1143 - val_accuracy: 0.6740\n",
            "Epoch 20/20\n",
            "181/181 [==============================] - 455s 3s/step - loss: 0.2285 - accuracy: 0.9156 - val_loss: 1.0089 - val_accuracy: 0.7163\n"
          ]
        }
      ]
    },
    {
      "cell_type": "code",
      "source": [
        "history_dict = history.history\n",
        "acc      = history_dict['accuracy']\n",
        "val_acc  = history_dict['val_accuracy']\n",
        "loss     = history_dict['loss']\n",
        "val_loss = history_dict['val_loss']"
      ],
      "metadata": {
        "id": "lnrdxWhk4jnK"
      },
      "execution_count": 53,
      "outputs": []
    },
    {
      "cell_type": "code",
      "source": [
        "epochs = range(1, len(acc)+1, 1)\n",
        "\n",
        "plt.plot  (epochs, acc    , 'r--', label = 'Training acc')\n",
        "plt.plot  (epochs, val_acc, 'b'  , label = 'Validation acc')\n",
        "plt.ylabel('acc')\n",
        "plt.xlabel('epochs')\n",
        "\n",
        "plt.legend()\n",
        "plt.figure()\n",
        "plt.plot (epochs, loss    , 'r--', label = 'Trainig Loss')\n",
        "plt.plot (epochs, val_loss, 'b', label = 'Validation Loss')\n",
        "plt.title('Training and validation loss')\n",
        "plt.ylabel('loss')\n",
        "plt.xlabel('epochs')\n",
        "\n",
        "plt.legend()\n",
        "plt.figure()"
      ],
      "metadata": {
        "id": "qpXcZjkN4jgu",
        "colab": {
          "base_uri": "https://localhost:8080/",
          "height": 594
        },
        "outputId": "bcdc5051-2a1b-4ee8-98fe-357c77115383"
      },
      "execution_count": 54,
      "outputs": [
        {
          "output_type": "execute_result",
          "data": {
            "text/plain": [
              "<Figure size 432x288 with 0 Axes>"
            ]
          },
          "metadata": {},
          "execution_count": 54
        },
        {
          "output_type": "display_data",
          "data": {
            "text/plain": [
              "<Figure size 432x288 with 1 Axes>"
            ],
            "image/png": "[encoded data removed]"
          },
          "metadata": {
            "needs_background": "light"
          }
        },
        {
          "output_type": "display_data",
          "data": {
            "text/plain": [
              "<Figure size 432x288 with 1 Axes>"
            ],
            "image/png": "[encoded data removed]"
          },
          "metadata": {
            "needs_background": "light"
          }
        },
        {
          "output_type": "display_data",
          "data": {
            "text/plain": [
              "<Figure size 432x288 with 0 Axes>"
            ]
          },
          "metadata": {}
        }
      ]
    },
    {
      "cell_type": "code",
      "source": [
        "test_loss, test_acc = model.evaluate(X_test, y_test)\n",
        "print('Test Accuracy:',test_acc)"
      ],
      "metadata": {
        "id": "MPPWIq4C4t4-",
        "colab": {
          "base_uri": "https://localhost:8080/"
        },
        "outputId": "249bc6ef-ab6d-4b3b-e759-0de11394de2e"
      },
      "execution_count": 57,
      "outputs": [
        {
          "output_type": "stream",
          "name": "stdout",
          "text": [
            "38/38 [==============================] - 20s 515ms/step - loss: 4.2991 - accuracy: 0.5938\n",
            "Test Accuracy: 0.5938023328781128\n"
          ]
        }
      ]
    }
  ]
}