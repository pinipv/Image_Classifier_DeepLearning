{
  "nbformat": 4,
  "nbformat_minor": 0,
  "metadata": {
    "colab": {
      "name": "final.ipynb",
      "provenance": [],
      "collapsed_sections": [],
      "include_colab_link": true
    },
    "kernelspec": {
      "name": "python3",
      "display_name": "Python 3"
    },
    "language_info": {
      "name": "python"
    }
  },
  "cells": [
    {
      "cell_type": "markdown",
      "metadata": {
        "id": "view-in-github",
        "colab_type": "text"
      },
      "source": [
        "<a href=\"https://colab.research.google.com/github/pinipv/Image_Classifier_DeepLearning/blob/main/Final.ipynb\" target=\"_parent\"><img src=\"https://colab.research.google.com/assets/colab-badge.svg\" alt=\"Open In Colab\"/></a>"
      ]
    },
    {
      "cell_type": "code",
      "execution_count": null,
      "metadata": {
        "id": "yXvoWWAA2ezz"
      },
      "outputs": [],
      "source": [
        "import numpy as np\n",
        "import pandas as pd \n",
        "import seaborn as sns\n",
        "import matplotlib.pyplot as plt\n",
        "\n",
        "from skimage import io\n",
        "\n",
        "\n",
        "from keras.utils.np_utils import to_categorical # convert to one-hot-encoding\n",
        "from keras.models import Sequential\n",
        "from keras.layers import Dense, Dropout, Flatten, Conv2D, MaxPool2D\n",
        "\n",
        "import tensorflow as tf\n",
        "\n",
        "from keras.preprocessing.image import ImageDataGenerator\n"
      ]
    },
    {
      "cell_type": "markdown",
      "source": [
        "## Recojo las imagenes de los archivos(aprox. 500 de cada categoria)"
      ],
      "metadata": {
        "id": "kWP2eX7R6ceU"
      }
    },
    {
      "cell_type": "code",
      "source": [
        "from tensorflow.keras.preprocessing import image\n",
        "from google.colab import files\n",
        "import cv2\n",
        "\n",
        "\n",
        "def obtener_imagenes(etiqueta):\n",
        "      ### Esta variable contendrá las imagenes de base\n",
        "      imagenes = []\n",
        "      imagenes_base = []\n",
        "\n",
        "      y = []\n",
        "      uploades = files.upload()  #### Este método permite subir archivos a colab(carpeta content)\n",
        "\n",
        "      for fn in uploades.keys():\n",
        "          path = '/content/' + fn\n",
        "          img = image.load_img(path)\n",
        "\n",
        "          imagenes_base.append(img)\n",
        "\n",
        "      for i in range(0,len(imagenes_base)):\n",
        "                \n",
        "                #### obtenemos cada ruta de la imagen y la leemos guardando asi la imagen\n",
        "                ima = np.array(imagenes_base[i])\n",
        "                \n",
        "                #### Añadimos cara imagen al array de imagenes base    \n",
        "                image_resized = cv2.resize(ima, (100,100))  \n",
        "                imagenes.append(image_resized)  #.astype('float32')/255)    ##Las formatearemos mas adelante\n",
        "\n",
        "                #### Añadimos cada label de la imagen a la lista de labels(y) definitiva\n",
        "                y.append(str(etiqueta))\n",
        "                \n",
        "      #imagenes = np.array(imagenes)\n",
        "      #print(np.array(imagenes).shape)\n",
        "      #print(imagenes[0].shape)\n",
        "      return (imagenes, y)"
      ],
      "metadata": {
        "id": "QajS7AqJ3KUL"
      },
      "execution_count": null,
      "outputs": []
    },
    {
      "cell_type": "markdown",
      "source": [
        "### De cada set subido retiro 200 imagenes para usar como test, dejando 300 para hacer DataAugmenting "
      ],
      "metadata": {
        "id": "gGp0ekL36gnd"
      }
    },
    {
      "cell_type": "code",
      "source": [
        "def sacar_test(nparray, labels):\n",
        "  test = nparray[:199]     \n",
        "  train = np.delete(nparray,np.s_[:199],0)\n",
        "  test_labels = labels[:199]\n",
        "  train_labels = np.delete(labels, np.s_[:199],0)\n",
        "  return (train, test, train_labels, test_labels)\n"
      ],
      "metadata": {
        "id": "lv0jQ7126xiB"
      },
      "execution_count": null,
      "outputs": []
    },
    {
      "cell_type": "markdown",
      "source": [
        "## Data Augmenting"
      ],
      "metadata": {
        "id": "T8whzgK_90D4"
      }
    },
    {
      "cell_type": "code",
      "source": [
        "from tensorflow.keras.preprocessing.image import ImageDataGenerator\n",
        "\n",
        "\n",
        "train_datagen = ImageDataGenerator(\n",
        "    rescale = 1./255.,\n",
        "    rotation_range= 40,   ### Maximo valor de rotacion de la imagen\n",
        "    width_shift_range = 0.2,\n",
        "    height_shift_range = 0.2\n",
        ")"
      ],
      "metadata": {
        "id": "sqO0VVed3dqq"
      },
      "execution_count": null,
      "outputs": []
    },
    {
      "cell_type": "code",
      "source": [
        "from keras_preprocessing.image.utils import img_to_array\n",
        "import tensorflow as tf\n",
        "from tensorflow.keras import layers\n",
        "\n",
        "def obtener_copias(imagenes_base, etiqueta,copias):\n",
        "      lista_imagenes = []\n",
        "      y = []\n",
        "      generador = train_datagen\n",
        "      generador.fit(imagenes_base)\n",
        "      \n",
        "\n",
        "      for i in imagenes_base:  \n",
        "              imagen = np.array(i).reshape(-1,100,100,3)  \n",
        "              it = generador.flow( imagen , batch_size=1)     \n",
        "              #### Solo se crean las imagenes cuando se hace it.next()\n",
        "              for j in range(int(copias)):   #### Luego este rango determinará cuantas imágenes se crean\n",
        "                batch = it.next()\n",
        "                imag = batch[0]\n",
        "                imagenn= img_to_array(imag)\n",
        "\n",
        "                #### Reescalamos la imagen a un formato de (100 x 100)\n",
        "                IMG_SIZE = 100\n",
        "\n",
        "                resize_and_rescale = tf.keras.Sequential([\n",
        "                  layers.Resizing(IMG_SIZE, IMG_SIZE)\n",
        "                ])\n",
        "\n",
        "                result = resize_and_rescale(imagenn)\n",
        "\n",
        "            #### Añadimos la imagen y el label a las listas definitivas\n",
        "                lista_imagenes.append(result)\n",
        "                y.append(str(etiqueta))\n",
        "          \n",
        "      #### Devolvemos en formato tupla la lista con todas las imagenes y la tupla con todos los labels\n",
        "      return (lista_imagenes, y)"
      ],
      "metadata": {
        "id": "PKkLKOxK3WY8"
      },
      "execution_count": null,
      "outputs": []
    },
    {
      "cell_type": "code",
      "source": [
        "from sklearn.preprocessing import LabelEncoder\n",
        "\n",
        "def categorizar_labels(train_labs, test_labs):\n",
        "  y_encoded = LabelEncoder().fit_transform(train_labs)\n",
        "  train_categorical = tf.keras.utils.to_categorical(y_encoded)\n",
        "  y_encoded = LabelEncoder().transform(test_labs)\n",
        "  test_categorical = tf.keras.utils.to_categorical(y_encoded)\n",
        "\n",
        "  return (train_categorical, test_categorical)"
      ],
      "metadata": {
        "id": "_SrZy6CbA8BD"
      },
      "execution_count": null,
      "outputs": []
    },
    {
      "cell_type": "code",
      "source": [
        "from sklearn.utils import shuffle\n",
        "\n",
        "def barajar_train(dataset, labels, seed): \n",
        "\n",
        "    #### 'Barajamos' los array de imagenes y de labels\n",
        "\n",
        "    # ¿¿¿¿¿¿¿Necesario???????\n",
        "    shuffle_dataset = shuffle(dataset, random_state = int(seed))\n",
        "    shuffle_labels  = shuffle(labels, random_state = int(seed))\n",
        "    #\n",
        "    '''\n",
        "    a,b,c,d = np.vsplit(shuffle_dataset, 4)\n",
        "    e,f,g,h = np.vsplit(shuffle_labels, 4)\n",
        "    '''\n",
        "    train_dataset = shuffle_dataset#np.concatenate((a,b,c), axis=0)\n",
        "    #test_dataset  = d\n",
        "    train_labels  = shuffle_labels#np.concatenate((e,f,g), axis= 0)\n",
        "    #test_labels   = h\n",
        "\n",
        "    return (train_dataset, train_labels)"
      ],
      "metadata": {
        "id": "RcYCak-Q3pou"
      },
      "execution_count": null,
      "outputs": []
    },
    {
      "cell_type": "markdown",
      "source": [
        "# Preprocesado"
      ],
      "metadata": {
        "id": "g5Zn7hLSBdA_"
      }
    },
    {
      "cell_type": "markdown",
      "source": [
        "## Obtencion de imagenes"
      ],
      "metadata": {
        "id": "6lohrA2CB0R5"
      }
    },
    {
      "cell_type": "code",
      "source": [
        "airplanes, y_aviones = obtener_imagenes('airplane')\n",
        "airplanes = np.array(airplanes)"
      ],
      "metadata": {
        "id": "Gi02rVISBgVl"
      },
      "execution_count": null,
      "outputs": []
    },
    {
      "cell_type": "code",
      "source": [
        "car, y_car = obtener_imagenes('car')\n",
        "car = np.array(car)"
      ],
      "metadata": {
        "id": "FyCDiFDBBtdd"
      },
      "execution_count": null,
      "outputs": []
    },
    {
      "cell_type": "code",
      "source": [
        "cat, y_cat = obtener_imagenes('cat')\n",
        "cat = np.array(cat)"
      ],
      "metadata": {
        "id": "0Pb-4qt3Buvt"
      },
      "execution_count": null,
      "outputs": []
    },
    {
      "cell_type": "code",
      "source": [
        "dog, y_dog = obtener_imagenes('dog')\n",
        "dog = np.array(dog)"
      ],
      "metadata": {
        "id": "2loIAudVBv2J"
      },
      "execution_count": null,
      "outputs": []
    },
    {
      "cell_type": "code",
      "source": [
        "flower, y_flower = obtener_imagenes('flower')\n",
        "flower = np.array(flower)"
      ],
      "metadata": {
        "id": "qiJpTUviBxSe"
      },
      "execution_count": null,
      "outputs": []
    },
    {
      "cell_type": "code",
      "source": [
        "fruit, y_fruit = obtener_imagenes('fruit')\n",
        "fruit = np.array(fruit)"
      ],
      "metadata": {
        "id": "oaT5SF2BBxu2"
      },
      "execution_count": null,
      "outputs": []
    },
    {
      "cell_type": "markdown",
      "source": [
        "## Separar test de cada una"
      ],
      "metadata": {
        "id": "IadBdlKRB3hv"
      }
    },
    {
      "cell_type": "code",
      "source": [
        "train_air, test_air, train_labels_air, test_labels_air = sacar_test(airplanes,y_aviones)"
      ],
      "metadata": {
        "id": "UVPUONAuB3Ln"
      },
      "execution_count": null,
      "outputs": []
    },
    {
      "cell_type": "code",
      "source": [
        "train_car, test_car, train_labels_car, test_labels_car = sacar_test(car,y_car)"
      ],
      "metadata": {
        "id": "ovyd1LiBCK-Y"
      },
      "execution_count": null,
      "outputs": []
    },
    {
      "cell_type": "code",
      "source": [
        "train_cat, test_cat, train_labels_cat, test_labels_cat = sacar_test(cat,y_cat)"
      ],
      "metadata": {
        "id": "uGTqfZiECK0X"
      },
      "execution_count": null,
      "outputs": []
    },
    {
      "cell_type": "code",
      "source": [
        "train_dog, test_dog, train_labels_dog, test_labels_dog = sacar_test(dog,y_dog)"
      ],
      "metadata": {
        "id": "g5WTBrmlCKpY"
      },
      "execution_count": null,
      "outputs": []
    },
    {
      "cell_type": "code",
      "source": [
        "train_flower, test_flower, train_labels_flower, test_labels_flower = sacar_test(flower,y_flower)"
      ],
      "metadata": {
        "id": "9X9AWwyiCKZ5"
      },
      "execution_count": null,
      "outputs": []
    },
    {
      "cell_type": "code",
      "source": [
        "train_fruit, test_fruit, train_labels_fruit, test_labels_fruit = sacar_test(fruit,y_fruit)"
      ],
      "metadata": {
        "id": "h-1REY6_CKKI"
      },
      "execution_count": null,
      "outputs": []
    },
    {
      "cell_type": "markdown",
      "source": [
        "## Obtenemos las copias de cada una con Data Augmenting"
      ],
      "metadata": {
        "id": "HQyVASYLC1a6"
      }
    },
    {
      "cell_type": "code",
      "source": [
        "generacion_aviones, y_generacion_aviones = obtener_copias(train_air , 'airplane',3)"
      ],
      "metadata": {
        "id": "FTtgcBSAC5l8"
      },
      "execution_count": null,
      "outputs": []
    },
    {
      "cell_type": "code",
      "source": [
        "generacion_cars, y_generacion_cars = obtener_copias(train_car , 'car',3)"
      ],
      "metadata": {
        "id": "EXqau15gC6_z"
      },
      "execution_count": null,
      "outputs": []
    },
    {
      "cell_type": "code",
      "source": [
        "generacion_cat, y_generacion_cat = obtener_copias(train_cat , 'cat',3)"
      ],
      "metadata": {
        "id": "tViKtKxEC62O"
      },
      "execution_count": null,
      "outputs": []
    },
    {
      "cell_type": "code",
      "source": [
        "generacion_dog, y_generacion_dog = obtener_copias(train_dog , 'dog',3)"
      ],
      "metadata": {
        "id": "3_qOqw6SC6sr"
      },
      "execution_count": null,
      "outputs": []
    },
    {
      "cell_type": "code",
      "source": [
        "generacion_flower, y_generacion_flower = obtener_copias(train_flower , 'flower',3)"
      ],
      "metadata": {
        "id": "XTzeojInC6ik"
      },
      "execution_count": null,
      "outputs": []
    },
    {
      "cell_type": "code",
      "source": [
        "generacion_fruit, y_generacion_fruit = obtener_copias(train_fruit , 'fruit',3)"
      ],
      "metadata": {
        "id": "O-6dzmVZC6X_"
      },
      "execution_count": null,
      "outputs": []
    },
    {
      "cell_type": "markdown",
      "source": [
        "## Unimos los datos finales para train"
      ],
      "metadata": {
        "id": "CVsXng3vDd6m"
      }
    },
    {
      "cell_type": "code",
      "source": [
        "train_airplanef = np.concatenate((train_air, np.array(generacion_aviones)), axis=0)\n",
        "labels_airplanes = np.concatenate((train_labels_air, y_generacion_aviones), axis = 0)\n",
        "\n",
        "train_lbairplane = labels_airplanes.reshape(-1,1)"
      ],
      "metadata": {
        "id": "gsTTqhobEm9C"
      },
      "execution_count": null,
      "outputs": []
    },
    {
      "cell_type": "code",
      "source": [
        "train_carf = np.concatenate((train_car, np.array(generacion_cars)), axis=0)\n",
        "labels_cars = np.concatenate((train_labels_car, y_generacion_cars), axis = 0)\n",
        "\n",
        "train_lbcar = labels_cars.reshape(-1,1)"
      ],
      "metadata": {
        "id": "9ZLdBXC6Eqtd"
      },
      "execution_count": null,
      "outputs": []
    },
    {
      "cell_type": "code",
      "source": [
        "train_catf = np.concatenate((train_cat, np.array(generacion_cat)), axis=0)\n",
        "labels_cats = np.concatenate((train_labels_cat, y_generacion_cat), axis = 0)\n",
        "\n",
        "train_lbcat = labels_cats.reshape(-1,1)"
      ],
      "metadata": {
        "id": "yPGctJQ3EqkP"
      },
      "execution_count": null,
      "outputs": []
    },
    {
      "cell_type": "code",
      "source": [
        "train_dogf = np.concatenate((train_dog, np.array(generacion_dog)), axis=0)\n",
        "labels_dogs = np.concatenate((train_labels_dog, y_generacion_dog), axis = 0)\n",
        "\n",
        "train_lbdog = labels_dogs.reshape(-1,1)"
      ],
      "metadata": {
        "id": "IRdeuiMlEqZ6"
      },
      "execution_count": null,
      "outputs": []
    },
    {
      "cell_type": "code",
      "source": [
        "train_flowerf = np.concatenate((train_flower, np.array(generacion_flower)), axis=0)\n",
        "labels_flowers = np.concatenate((train_labels_flower, y_generacion_flower), axis = 0)\n",
        "\n",
        "train_lbflower = labels_flowers.reshape(-1,1)"
      ],
      "metadata": {
        "id": "1ljc7NN4EqON"
      },
      "execution_count": null,
      "outputs": []
    },
    {
      "cell_type": "code",
      "source": [
        "train_fruitf = np.concatenate((train_fruit, np.array(generacion_fruit)), axis=0)\n",
        "labels_fruits = np.concatenate((train_labels_fruit, y_generacion_fruit), axis = 0)\n",
        "\n",
        "train_lbfruit = labels_fruits.reshape(-1,1)"
      ],
      "metadata": {
        "id": "F3LQV8DuEp56"
      },
      "execution_count": null,
      "outputs": []
    },
    {
      "cell_type": "markdown",
      "source": [
        "### train , test, train_labels, test_labels"
      ],
      "metadata": {
        "id": "VK1ipf91GkQ1"
      }
    },
    {
      "cell_type": "markdown",
      "source": [
        "## Concatenamos todos los train  los test y sus labels y los shuffleamos"
      ],
      "metadata": {
        "id": "xisTWhVWTMvZ"
      }
    },
    {
      "cell_type": "code",
      "source": [
        "train =  np.concatenate((train_airplanef, train_carf, train_catf, train_dogf, train_flowerf, train_fruitf), axis=0)\n",
        "train_labels = np.concatenate((train_lbairplane, train_lbcar, train_lbcat, train_lbdog, train_lbflower, train_lbfruit))\n",
        "\n",
        "X_train, y_train = barajar_train(train, train_labels, 42)"
      ],
      "metadata": {
        "id": "NIDwcyUXTSHA"
      },
      "execution_count": null,
      "outputs": []
    },
    {
      "cell_type": "code",
      "source": [
        "test = np.concatenate((test_air, test_car, test_car, test_dog, test_flower, test_fruit))\n",
        "test_labels = np.concatenate((test_labels_air, test_labels_car, test_labels_cat, test_labels_dog, test_labels_flower, test_labels_fruit), axis =0)\n",
        "\n",
        "X_test, y_test = barajar_train(test, test_labels, 42)"
      ],
      "metadata": {
        "id": "-4lRhKxkViAC"
      },
      "execution_count": null,
      "outputs": []
    },
    {
      "cell_type": "markdown",
      "source": [
        "## En este punto tenemos las imagenes para train, para test(todo ya separado), y sus respectivos labels(sin categorizar)"
      ],
      "metadata": {
        "id": "VWUMTfZaGJF_"
      }
    },
    {
      "cell_type": "code",
      "source": [
        "from sklearn.preprocessing import LabelEncoder\n",
        "\n",
        "def categorizar_labels(train_labs, test_labs):\n",
        "  y_encoded = LabelEncoder().fit_transform(train_labs)\n",
        "  train_categorical = tf.keras.utils.to_categorical(y_encoded)\n",
        "  y_encoded = LabelEncoder().fit_transform(test_labs)\n",
        "  test_categorical = tf.keras.utils.to_categorical(y_encoded)\n",
        "\n",
        "  return (train_categorical, test_categorical)"
      ],
      "metadata": {
        "id": "NNkEf7orZcyq"
      },
      "execution_count": null,
      "outputs": []
    },
    {
      "cell_type": "code",
      "source": [
        "y_train, y_test = categorizar_labels(y_train, y_test)"
      ],
      "metadata": {
        "colab": {
          "base_uri": "https://localhost:8080/"
        },
        "id": "PNJ5dIS2Z7PV",
        "outputId": "2eeeebdf-d908-4987-ba5b-31b3278fb226"
      },
      "execution_count": null,
      "outputs": [
        {
          "output_type": "stream",
          "name": "stderr",
          "text": [
            "/usr/local/lib/python3.7/dist-packages/sklearn/preprocessing/_label.py:115: DataConversionWarning: A column-vector y was passed when a 1d array was expected. Please change the shape of y to (n_samples, ), for example using ravel().\n",
            "  y = column_or_1d(y, warn=True)\n"
          ]
        }
      ]
    },
    {
      "cell_type": "code",
      "source": [
        "print(X_train.shape)\n",
        "print(y_train.shape)\n",
        "print(X_test.shape)\n",
        "print(y_test.shape)"
      ],
      "metadata": {
        "colab": {
          "base_uri": "https://localhost:8080/"
        },
        "id": "O9imLao2VCzn",
        "outputId": "aac639ec-5a25-4368-87c5-7c73548b74f1"
      },
      "execution_count": null,
      "outputs": [
        {
          "output_type": "stream",
          "name": "stdout",
          "text": [
            "(7224, 100, 100, 3)\n",
            "(7224, 6)\n",
            "(1194, 100, 100, 3)\n",
            "(1194, 6)\n"
          ]
        }
      ]
    },
    {
      "cell_type": "markdown",
      "source": [
        "## En este punto ya tendriamos todo listo para entrenar el modelo"
      ],
      "metadata": {
        "id": "GGc98PApHmUL"
      }
    },
    {
      "cell_type": "markdown",
      "source": [
        "# Modelo"
      ],
      "metadata": {
        "id": "3oWWT6ojAdmg"
      }
    },
    {
      "cell_type": "code",
      "source": [
        "model = Sequential()\n",
        "\n",
        "model.add(Conv2D(filters = 32, kernel_size = (5,5),padding = 'Same', \n",
        "                 activation ='relu', input_shape = (100,100,3)))\n",
        "model.add(Conv2D(filters = 32, kernel_size = (5,5),padding = 'Same', \n",
        "                 activation ='relu'))\n",
        "model.add(MaxPool2D(pool_size=(2,2)))\n",
        "model.add(Dropout(0.25))\n",
        "\n",
        "\n",
        "model.add(Conv2D(filters = 64, kernel_size = (3,3),padding = 'Same', \n",
        "                 activation ='relu'))\n",
        "model.add(Conv2D(filters = 64, kernel_size = (3,3),padding = 'Same', \n",
        "                 activation ='relu'))\n",
        "model.add(MaxPool2D(pool_size=(2,2), strides=(2,2)))\n",
        "model.add(Dropout(0.25))\n",
        "\n",
        "\n",
        "\n",
        "# Cambio aqui #\n",
        "model.add(Conv2D(filters = 128, kernel_size = (3,3),padding = 'Same', \n",
        "                 activation ='relu'))\n",
        "model.add(Conv2D(filters = 128, kernel_size = (3,3),padding = 'Same', \n",
        "                 activation ='relu'))\n",
        "model.add(MaxPool2D(pool_size=(2,2), strides=(2,2)))\n",
        "model.add(Dropout(0.25))\n",
        "\n",
        "\n",
        "\n",
        "model.add(Flatten())\n",
        "model.add(Dense(256, activation = \"relu\"))\n",
        "model.add(Dropout(0.5))\n",
        "model.add(Dense(6, activation = \"softmax\"))"
      ],
      "metadata": {
        "id": "ZDOXHVNJ4Mdo"
      },
      "execution_count": null,
      "outputs": []
    },
    {
      "cell_type": "code",
      "source": [
        "adam = tf.keras.optimizers.Adam(learning_rate=0.001)"
      ],
      "metadata": {
        "id": "vkGUVXg4blNc"
      },
      "execution_count": null,
      "outputs": []
    },
    {
      "cell_type": "code",
      "source": [
        "model.compile(loss = 'categorical_crossentropy',\n",
        "              # Cambio aqui #\n",
        "              optimizer = adam , #'adam',\n",
        "              metrics = ['accuracy', tf.keras.metrics.OneHotIoU(num_classes=6, target_class_ids=[1]), tf.keras.metrics.CategoricalAccuracy()])"
      ],
      "metadata": {
        "id": "_g-QFGbE4QIM"
      },
      "execution_count": null,
      "outputs": []
    },
    {
      "cell_type": "code",
      "source": [
        "from tensorflow.keras.callbacks import EarlyStopping\n",
        "\n",
        "eS = EarlyStopping(monitor = 'loss',\n",
        "                   mode='min',\n",
        "                   patience = 5,\n",
        "                   verbose = 1,\n",
        "                   restore_best_weights = True)"
      ],
      "metadata": {
        "id": "gmeloJrp4T1T"
      },
      "execution_count": null,
      "outputs": []
    },
    {
      "cell_type": "code",
      "source": [
        "history = model.fit(X_train,y_train, validation_split = 0.2, verbose=1, epochs = 30, callbacks=[eS])"
      ],
      "metadata": {
        "id": "CuZ7nIve4f81",
        "colab": {
          "base_uri": "https://localhost:8080/"
        },
        "outputId": "aef218d3-8b11-412e-90f8-b0229cadc112"
      },
      "execution_count": null,
      "outputs": [
        {
          "output_type": "stream",
          "name": "stdout",
          "text": [
            "Epoch 1/30\n",
            "181/181 [==============================] - 536s 3s/step - loss: 1.6116 - accuracy: 0.3231 - one_hot_io_u_1: 0.2961 - categorical_accuracy: 0.3231 - val_loss: 1.3944 - val_accuracy: 0.4388 - val_one_hot_io_u_1: 0.4030 - val_categorical_accuracy: 0.4388\n",
            "Epoch 2/30\n",
            "181/181 [==============================] - 534s 3s/step - loss: 1.2869 - accuracy: 0.4888 - one_hot_io_u_1: 0.4204 - categorical_accuracy: 0.4888 - val_loss: 1.1399 - val_accuracy: 0.5356 - val_one_hot_io_u_1: 0.4772 - val_categorical_accuracy: 0.5356\n",
            "Epoch 3/30\n",
            "181/181 [==============================] - 533s 3s/step - loss: 1.0099 - accuracy: 0.6001 - one_hot_io_u_1: 0.5165 - categorical_accuracy: 0.6001 - val_loss: 1.0429 - val_accuracy: 0.5799 - val_one_hot_io_u_1: 0.5163 - val_categorical_accuracy: 0.5799\n",
            "Epoch 4/30\n",
            "181/181 [==============================] - 534s 3s/step - loss: 0.8984 - accuracy: 0.6510 - one_hot_io_u_1: 0.5936 - categorical_accuracy: 0.6510 - val_loss: 0.8519 - val_accuracy: 0.6574 - val_one_hot_io_u_1: 0.5741 - val_categorical_accuracy: 0.6574\n",
            "Epoch 5/30\n",
            "181/181 [==============================] - 534s 3s/step - loss: 0.7628 - accuracy: 0.7038 - one_hot_io_u_1: 0.6692 - categorical_accuracy: 0.7038 - val_loss: 0.8749 - val_accuracy: 0.6478 - val_one_hot_io_u_1: 0.6187 - val_categorical_accuracy: 0.6478\n",
            "Epoch 6/30\n",
            "181/181 [==============================] - 534s 3s/step - loss: 0.7034 - accuracy: 0.7330 - one_hot_io_u_1: 0.6754 - categorical_accuracy: 0.7330 - val_loss: 0.7878 - val_accuracy: 0.6685 - val_one_hot_io_u_1: 0.6448 - val_categorical_accuracy: 0.6685\n",
            "Epoch 7/30\n",
            "181/181 [==============================] - 532s 3s/step - loss: 0.7820 - accuracy: 0.7091 - one_hot_io_u_1: 0.6858 - categorical_accuracy: 0.7091 - val_loss: 0.8543 - val_accuracy: 0.6623 - val_one_hot_io_u_1: 0.6182 - val_categorical_accuracy: 0.6623\n",
            "Epoch 8/30\n",
            "181/181 [==============================] - 533s 3s/step - loss: 0.5659 - accuracy: 0.7792 - one_hot_io_u_1: 0.7417 - categorical_accuracy: 0.7792 - val_loss: 0.7207 - val_accuracy: 0.7190 - val_one_hot_io_u_1: 0.6331 - val_categorical_accuracy: 0.7190\n",
            "Epoch 9/30\n",
            "181/181 [==============================] - 536s 3s/step - loss: 0.4895 - accuracy: 0.8107 - one_hot_io_u_1: 0.7797 - categorical_accuracy: 0.8107 - val_loss: 0.7687 - val_accuracy: 0.7080 - val_one_hot_io_u_1: 0.6484 - val_categorical_accuracy: 0.7080\n",
            "Epoch 10/30\n",
            "181/181 [==============================] - 533s 3s/step - loss: 0.4429 - accuracy: 0.8320 - one_hot_io_u_1: 0.8054 - categorical_accuracy: 0.8320 - val_loss: 0.7176 - val_accuracy: 0.7280 - val_one_hot_io_u_1: 0.6643 - val_categorical_accuracy: 0.7280\n",
            "Epoch 11/30\n",
            "181/181 [==============================] - 532s 3s/step - loss: 0.3874 - accuracy: 0.8431 - one_hot_io_u_1: 0.8247 - categorical_accuracy: 0.8431 - val_loss: 0.6770 - val_accuracy: 0.7495 - val_one_hot_io_u_1: 0.6644 - val_categorical_accuracy: 0.7495\n",
            "Epoch 12/30\n",
            "181/181 [==============================] - 533s 3s/step - loss: 0.3731 - accuracy: 0.8621 - one_hot_io_u_1: 0.8383 - categorical_accuracy: 0.8621 - val_loss: 0.7554 - val_accuracy: 0.7287 - val_one_hot_io_u_1: 0.6431 - val_categorical_accuracy: 0.7287\n",
            "Epoch 13/30\n",
            "181/181 [==============================] - 531s 3s/step - loss: 0.3267 - accuracy: 0.8768 - one_hot_io_u_1: 0.8562 - categorical_accuracy: 0.8768 - val_loss: 0.7110 - val_accuracy: 0.7488 - val_one_hot_io_u_1: 0.6969 - val_categorical_accuracy: 0.7488\n",
            "Epoch 14/30\n",
            "181/181 [==============================] - 533s 3s/step - loss: 0.2942 - accuracy: 0.8929 - one_hot_io_u_1: 0.8820 - categorical_accuracy: 0.8929 - val_loss: 0.8031 - val_accuracy: 0.7121 - val_one_hot_io_u_1: 0.6573 - val_categorical_accuracy: 0.7121\n",
            "Epoch 15/30\n",
            "181/181 [==============================] - 532s 3s/step - loss: 0.2601 - accuracy: 0.9092 - one_hot_io_u_1: 0.8959 - categorical_accuracy: 0.9092 - val_loss: 0.8938 - val_accuracy: 0.7398 - val_one_hot_io_u_1: 0.7090 - val_categorical_accuracy: 0.7398\n",
            "Epoch 16/30\n",
            "181/181 [==============================] - 533s 3s/step - loss: 0.2514 - accuracy: 0.9131 - one_hot_io_u_1: 0.9048 - categorical_accuracy: 0.9131 - val_loss: 0.7317 - val_accuracy: 0.7668 - val_one_hot_io_u_1: 0.6756 - val_categorical_accuracy: 0.7668\n",
            "Epoch 17/30\n",
            "181/181 [==============================] - 534s 3s/step - loss: 0.2892 - accuracy: 0.8989 - one_hot_io_u_1: 0.8685 - categorical_accuracy: 0.8989 - val_loss: 0.7030 - val_accuracy: 0.7682 - val_one_hot_io_u_1: 0.7077 - val_categorical_accuracy: 0.7682\n",
            "Epoch 18/30\n",
            "181/181 [==============================] - 534s 3s/step - loss: 0.2343 - accuracy: 0.9140 - one_hot_io_u_1: 0.9106 - categorical_accuracy: 0.9140 - val_loss: 0.8839 - val_accuracy: 0.7301 - val_one_hot_io_u_1: 0.7027 - val_categorical_accuracy: 0.7301\n",
            "Epoch 19/30\n",
            "181/181 [==============================] - 534s 3s/step - loss: 0.2451 - accuracy: 0.9147 - one_hot_io_u_1: 0.8875 - categorical_accuracy: 0.9147 - val_loss: 0.8229 - val_accuracy: 0.7239 - val_one_hot_io_u_1: 0.6716 - val_categorical_accuracy: 0.7239\n",
            "Epoch 20/30\n",
            "181/181 [==============================] - 539s 3s/step - loss: 0.3176 - accuracy: 0.9045 - one_hot_io_u_1: 0.9009 - categorical_accuracy: 0.9045 - val_loss: 0.7739 - val_accuracy: 0.7266 - val_one_hot_io_u_1: 0.6787 - val_categorical_accuracy: 0.7266\n",
            "Epoch 21/30\n",
            "181/181 [==============================] - 533s 3s/step - loss: 0.2151 - accuracy: 0.9268 - one_hot_io_u_1: 0.9222 - categorical_accuracy: 0.9268 - val_loss: 0.7263 - val_accuracy: 0.7626 - val_one_hot_io_u_1: 0.6992 - val_categorical_accuracy: 0.7626\n",
            "Epoch 22/30\n",
            "181/181 [==============================] - 534s 3s/step - loss: 0.2504 - accuracy: 0.9176 - one_hot_io_u_1: 0.8935 - categorical_accuracy: 0.9176 - val_loss: 0.7714 - val_accuracy: 0.7522 - val_one_hot_io_u_1: 0.7000 - val_categorical_accuracy: 0.7522\n",
            "Epoch 23/30\n",
            "181/181 [==============================] - 541s 3s/step - loss: 0.2898 - accuracy: 0.9040 - one_hot_io_u_1: 0.8757 - categorical_accuracy: 0.9040 - val_loss: 0.7960 - val_accuracy: 0.7606 - val_one_hot_io_u_1: 0.7117 - val_categorical_accuracy: 0.7606\n",
            "Epoch 24/30\n",
            "181/181 [==============================] - 541s 3s/step - loss: 0.1673 - accuracy: 0.9403 - one_hot_io_u_1: 0.9231 - categorical_accuracy: 0.9403 - val_loss: 0.8548 - val_accuracy: 0.7723 - val_one_hot_io_u_1: 0.6812 - val_categorical_accuracy: 0.7723\n",
            "Epoch 25/30\n",
            "181/181 [==============================] - 542s 3s/step - loss: 0.1472 - accuracy: 0.9491 - one_hot_io_u_1: 0.9330 - categorical_accuracy: 0.9491 - val_loss: 0.9596 - val_accuracy: 0.7758 - val_one_hot_io_u_1: 0.7082 - val_categorical_accuracy: 0.7758\n",
            "Epoch 26/30\n",
            "181/181 [==============================] - 539s 3s/step - loss: 0.1770 - accuracy: 0.9445 - one_hot_io_u_1: 0.9345 - categorical_accuracy: 0.9445 - val_loss: 0.8141 - val_accuracy: 0.7696 - val_one_hot_io_u_1: 0.7154 - val_categorical_accuracy: 0.7696\n",
            "Epoch 27/30\n",
            "181/181 [==============================] - 537s 3s/step - loss: 0.3047 - accuracy: 0.9117 - one_hot_io_u_1: 0.8880 - categorical_accuracy: 0.9117 - val_loss: 0.6709 - val_accuracy: 0.7516 - val_one_hot_io_u_1: 0.6754 - val_categorical_accuracy: 0.7516\n",
            "Epoch 28/30\n",
            "181/181 [==============================] - 538s 3s/step - loss: 0.1584 - accuracy: 0.9491 - one_hot_io_u_1: 0.9373 - categorical_accuracy: 0.9491 - val_loss: 0.7590 - val_accuracy: 0.7578 - val_one_hot_io_u_1: 0.6968 - val_categorical_accuracy: 0.7578\n",
            "Epoch 29/30\n",
            "181/181 [==============================] - 538s 3s/step - loss: 0.1146 - accuracy: 0.9618 - one_hot_io_u_1: 0.9578 - categorical_accuracy: 0.9618 - val_loss: 0.9617 - val_accuracy: 0.7716 - val_one_hot_io_u_1: 0.6838 - val_categorical_accuracy: 0.7716\n",
            "Epoch 30/30\n",
            "181/181 [==============================] - 538s 3s/step - loss: 0.1703 - accuracy: 0.9445 - one_hot_io_u_1: 0.9164 - categorical_accuracy: 0.9445 - val_loss: 0.8011 - val_accuracy: 0.7619 - val_one_hot_io_u_1: 0.7088 - val_categorical_accuracy: 0.7619\n"
          ]
        }
      ]
    },
    {
      "cell_type": "code",
      "source": [
        "history_dict = history.history\n",
        "acc      = history_dict['accuracy']\n",
        "val_acc  = history_dict['val_accuracy']\n",
        "loss     = history_dict['loss']\n",
        "val_loss = history_dict['val_loss']"
      ],
      "metadata": {
        "id": "lnrdxWhk4jnK"
      },
      "execution_count": null,
      "outputs": []
    },
    {
      "cell_type": "code",
      "source": [
        "epochs = range(1, len(acc)+1, 1)\n",
        "\n",
        "plt.plot  (epochs, acc    , 'r--', label = 'Training acc')\n",
        "plt.plot  (epochs, val_acc, 'b'  , label = 'Validation acc')\n",
        "plt.ylabel('acc')\n",
        "plt.xlabel('epochs')\n",
        "\n",
        "plt.legend()\n",
        "plt.figure()\n",
        "plt.plot (epochs, loss    , 'r--', label = 'Trainig Loss')\n",
        "plt.plot (epochs, val_loss, 'b', label = 'Validation Loss')\n",
        "plt.title('Training and validation loss')\n",
        "plt.ylabel('loss')\n",
        "plt.xlabel('epochs')\n",
        "\n",
        "plt.legend()\n",
        "plt.figure()"
      ],
      "metadata": {
        "id": "qpXcZjkN4jgu",
        "colab": {
          "base_uri": "https://localhost:8080/",
          "height": 592
        },
        "outputId": "95deb6f7-b0aa-4bbf-ed29-d460378b8f70"
      },
      "execution_count": null,
      "outputs": [
        {
          "output_type": "execute_result",
          "data": {
            "text/plain": [
              "<Figure size 432x288 with 0 Axes>"
            ]
          },
          "metadata": {},
          "execution_count": 53
        },
        {
          "output_type": "display_data",
          "data": {
            "text/plain": [
              "<Figure size 432x288 with 1 Axes>"
            ],
            "image/png": "[encoded data removed]"
          },
          "metadata": {
            "needs_background": "light"
          }
        },
        {
          "output_type": "display_data",
          "data": {
            "text/plain": [
              "<Figure size 432x288 with 1 Axes>"
            ],
            "image/png": "[encoded data removed]"
          },
          "metadata": {
            "needs_background": "light"
          }
        },
        {
          "output_type": "display_data",
          "data": {
            "text/plain": [
              "<Figure size 432x288 with 0 Axes>"
            ]
          },
          "metadata": {}
        }
      ]
    },
    {
      "cell_type": "code",
      "source": [
        "test_loss= model.evaluate(X_test, y_test)\n",
        "#print('Test Accuracy:',test_acc)"
      ],
      "metadata": {
        "id": "MPPWIq4C4t4-",
        "colab": {
          "base_uri": "https://localhost:8080/"
        },
        "outputId": "e9d6a1d3-7e7c-4ff1-9873-570d5bc2fdae"
      },
      "execution_count": null,
      "outputs": [
        {
          "output_type": "stream",
          "name": "stdout",
          "text": [
            "38/38 [==============================] - 25s 638ms/step - loss: 2.3157 - accuracy: 0.6466 - one_hot_io_u_1: 0.4249 - categorical_accuracy: 0.6466\n"
          ]
        }
      ]
    },
    {
      "cell_type": "code",
      "source": [
        "test_loss"
      ],
      "metadata": {
        "colab": {
          "base_uri": "https://localhost:8080/"
        },
        "id": "a_g5_JMdulOs",
        "outputId": "63860f6d-f401-4411-ac2d-5d2c2ef48051"
      },
      "execution_count": null,
      "outputs": [
        {
          "output_type": "execute_result",
          "data": {
            "text/plain": [
              "[2.315715789794922,\n",
              " 0.6465661525726318,\n",
              " 0.42487046122550964,\n",
              " 0.6465661525726318]"
            ]
          },
          "metadata": {},
          "execution_count": 59
        }
      ]
    },
    {
      "cell_type": "code",
      "source": [
        "model.save('content/modelo.h5')"
      ],
      "metadata": {
        "id": "SL3frW6LzCui"
      },
      "execution_count": null,
      "outputs": []
    }
  ]
}