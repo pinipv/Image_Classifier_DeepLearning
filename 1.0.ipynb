{
  "nbformat": 4,
  "nbformat_minor": 0,
  "metadata": {
    "colab": {
      "name": "Copia de Copia de clasificacion_imagenes.ipynb",
      "provenance": [],
      "collapsed_sections": [
        "nQs1a5t40k9P",
        "VKdAVkZtlPDf"
      ],
      "include_colab_link": true
    },
    "kernelspec": {
      "name": "python3",
      "display_name": "Python 3"
    },
    "language_info": {
      "name": "python"
    }
  },
  "cells": [
    {
      "cell_type": "markdown",
      "metadata": {
        "id": "view-in-github",
        "colab_type": "text"
      },
      "source": [
        "<a href=\"https://colab.research.google.com/github/pinipv/DeepLearning-LearningPropio/blob/main/Copia_de_Copia_de_clasificacion_imagenes.ipynb\" target=\"_parent\"><img src=\"https://colab.research.google.com/assets/colab-badge.svg\" alt=\"Open In Colab\"/></a>"
      ]
    },
    {
      "cell_type": "code",
      "execution_count": 2,
      "metadata": {
        "id": "Sk8WUqaWMCUM"
      },
      "outputs": [],
      "source": [
        "import numpy as np # linear algebra\n",
        "import pandas as pd # data processing, CSV file I/O (e.g. pd.read_csv)\n",
        "import seaborn as sns\n",
        "import matplotlib.pyplot as plt\n",
        "\n",
        "from os import listdir\n",
        "from skimage import io\n",
        "\n",
        "\n",
        "\n",
        "from sklearn.model_selection import train_test_split\n",
        "from sklearn.metrics import confusion_matrix\n",
        "\n",
        "\n",
        "\n",
        "import itertools\n",
        "\n",
        "from keras.utils.np_utils import to_categorical # convert to one-hot-encoding\n",
        "from keras.models import Sequential\n",
        "from keras.layers import Dense, Dropout, Flatten, Conv2D, MaxPool2D\n",
        "\n",
        "import tensorflow as tf\n",
        "\n",
        "from keras.preprocessing.image import ImageDataGenerator\n",
        "from keras.callbacks import ReduceLROnPlateau\n"
      ]
    },
    {
      "cell_type": "code",
      "source": [
        "!unrar x -Y \"/content/data.rar\" \"/content/imageness\""
      ],
      "metadata": {
        "id": "kav3VvV09wPG"
      },
      "execution_count": null,
      "outputs": []
    },
    {
      "cell_type": "code",
      "source": [
        "import cv2\n",
        "path = '/content/imageness/data/'\n",
        "directories = listdir(path)\n",
        "\n",
        "imagenes = []\n",
        "labels= []\n",
        "\n",
        "#### para cada directorio dentro de data listamos su interior(imagenes)\n",
        "for directori in directories:\n",
        "\n",
        "#### listamos cada imagen\n",
        "    for i in range(0,len(listdir(path + directori))):\n",
        "        \n",
        "#### obtenemos cada ruta de la imagen y la leemos guardando asi la imagen\n",
        "        image = cv2.imread(path + directori + '/' + listdir(path + directori)[i])\n",
        "        \n",
        "#### Añadimos cara imagen al array junto con su etiqueta en formato tupla    \n",
        "        image_resized = cv2.resize(image, (32,32))  \n",
        "        imagenes.append(np.array(image_resized)) \n",
        "        labels.append(str(directori))\n",
        "        \n",
        "        ####plt.imshow(image,vmin=0,vmax=1)\n",
        "    \n",
        "\n"
      ],
      "metadata": {
        "id": "yBcyZdTd_Lie"
      },
      "execution_count": null,
      "outputs": []
    },
    {
      "cell_type": "code",
      "source": [
        "X = np.array(imagenes)\n",
        "y = np.array(labels)"
      ],
      "metadata": {
        "id": "FV9C0165oJSd"
      },
      "execution_count": null,
      "outputs": []
    },
    {
      "cell_type": "code",
      "source": [
        "print(X.shape)\n",
        "print(y.shape)"
      ],
      "metadata": {
        "colab": {
          "base_uri": "https://localhost:8080/"
        },
        "id": "MWBnquJuoUnu",
        "outputId": "40dae18a-5c96-4b72-af86-8668c2f513e6"
      },
      "execution_count": null,
      "outputs": [
        {
          "output_type": "stream",
          "name": "stdout",
          "text": [
            "(6899, 32, 32, 3)\n",
            "(6899,)\n"
          ]
        }
      ]
    },
    {
      "cell_type": "code",
      "source": [
        "g = sns.countplot(y)"
      ],
      "metadata": {
        "colab": {
          "base_uri": "https://localhost:8080/",
          "height": 320
        },
        "id": "bzskojJeEBpf",
        "outputId": "73593275-c933-44de-f9f3-252f13213090"
      },
      "execution_count": null,
      "outputs": [
        {
          "output_type": "stream",
          "name": "stderr",
          "text": [
            "/usr/local/lib/python3.7/dist-packages/seaborn/_decorators.py:43: FutureWarning: Pass the following variable as a keyword arg: x. From version 0.12, the only valid positional argument will be `data`, and passing other arguments without an explicit keyword will result in an error or misinterpretation.\n",
            "  FutureWarning\n"
          ]
        },
        {
          "output_type": "display_data",
          "data": {
            "text/plain": [
              "<Figure size 432x288 with 1 Axes>"
            ],
            "image/png": "[encoded data removed]"
          },
          "metadata": {
            "needs_background": "light"
          }
        }
      ]
    },
    {
      "cell_type": "code",
      "source": [
        "X_standarized = X.astype('float32')/255\n",
        "\n",
        "from sklearn.preprocessing import LabelEncoder\n",
        "\n",
        "\n",
        "y_encoded = LabelEncoder().fit_transform(y)\n",
        "y_categorical = tf.keras.utils.to_categorical(y_encoded)"
      ],
      "metadata": {
        "id": "YLNq6kxuoeuu"
      },
      "execution_count": null,
      "outputs": []
    },
    {
      "cell_type": "code",
      "source": [
        "print(X_standarized.shape)\n",
        "print(y_categorical.shape)"
      ],
      "metadata": {
        "colab": {
          "base_uri": "https://localhost:8080/"
        },
        "id": "zGZEmKw6pOpY",
        "outputId": "eb68dc62-843c-4ed4-ca4a-0c436e16f39c"
      },
      "execution_count": null,
      "outputs": [
        {
          "output_type": "stream",
          "name": "stdout",
          "text": [
            "(6899, 32, 32, 3)\n",
            "(6899, 8)\n"
          ]
        }
      ]
    },
    {
      "cell_type": "code",
      "source": [
        "X_train, X_test, y_train, y_test = train_test_split(X_standarized, y_categorical, test_size=0.2, random_state=42)"
      ],
      "metadata": {
        "id": "xNl3fHVGFKah"
      },
      "execution_count": null,
      "outputs": []
    },
    {
      "cell_type": "code",
      "source": [
        "classes = y_train.unique()\n",
        "coding= {}\n",
        "j=0\n",
        "for i in classes:\n",
        "  coding[i]=j\n",
        "  j+=1\n",
        "coding"
      ],
      "metadata": {
        "colab": {
          "base_uri": "https://localhost:8080/"
        },
        "id": "eFXvWDu7G32n",
        "outputId": "5e990d58-9434-49e5-edf9-e84636e1c9b5"
      },
      "execution_count": null,
      "outputs": [
        {
          "output_type": "execute_result",
          "data": {
            "text/plain": [
              "{'airplane': 2,\n",
              " 'car': 3,\n",
              " 'cat': 4,\n",
              " 'dog': 0,\n",
              " 'flower': 5,\n",
              " 'fruit': 1,\n",
              " 'motorbike': 7,\n",
              " 'person': 6}"
            ]
          },
          "metadata": {},
          "execution_count": 8
        }
      ]
    },
    {
      "cell_type": "code",
      "source": [
        "print(X_train.shape)\n",
        "print(X_test.shape)\n",
        "print(y_train.shape)\n",
        "print(y_test.shape)"
      ],
      "metadata": {
        "colab": {
          "base_uri": "https://localhost:8080/"
        },
        "id": "tvqFZmo6Ob7E",
        "outputId": "3db071c8-8e15-4ff8-c7d5-463e058ac21f"
      },
      "execution_count": null,
      "outputs": [
        {
          "output_type": "stream",
          "name": "stdout",
          "text": [
            "(5519, 32, 32, 3)\n",
            "(1380, 32, 32, 3)\n",
            "(5519, 8)\n",
            "(1380, 8)\n"
          ]
        }
      ]
    },
    {
      "cell_type": "code",
      "source": [
        "# Set the CNN model \n",
        "# my CNN architechture is In -> [[Conv2D->relu]*2 -> MaxPool2D -> Dropout]*2 -> Flatten -> Dense -> Dropout -> Out\n",
        "\n",
        "model = Sequential()\n",
        "\n",
        "model.add(Conv2D(filters = 32, kernel_size = (5,5),padding = 'Same', \n",
        "                 activation ='relu', input_shape = (100,100,3)))\n",
        "model.add(Conv2D(filters = 32, kernel_size = (5,5),padding = 'Same', \n",
        "                 activation ='relu'))\n",
        "model.add(MaxPool2D(pool_size=(2,2)))\n",
        "model.add(Dropout(0.25))\n",
        "\n",
        "\n",
        "model.add(Conv2D(filters = 64, kernel_size = (3,3),padding = 'Same', \n",
        "                 activation ='relu'))\n",
        "model.add(Conv2D(filters = 64, kernel_size = (3,3),padding = 'Same', \n",
        "                 activation ='relu'))\n",
        "model.add(MaxPool2D(pool_size=(2,2), strides=(2,2)))\n",
        "model.add(Dropout(0.25))\n",
        "\n",
        "\n",
        "model.add(Flatten())\n",
        "model.add(Dense(256, activation = \"relu\"))\n",
        "model.add(Dropout(0.5))\n",
        "model.add(Dense(4, activation = \"softmax\"))"
      ],
      "metadata": {
        "id": "HMfsTpQIPPGp"
      },
      "execution_count": 53,
      "outputs": []
    },
    {
      "cell_type": "code",
      "source": [
        "model.compile(loss = 'categorical_crossentropy',\n",
        "              optimizer = 'adam',\n",
        "              metrics = ['accuracy'])"
      ],
      "metadata": {
        "id": "vReONRI4pheo"
      },
      "execution_count": 54,
      "outputs": []
    },
    {
      "cell_type": "code",
      "source": [
        "from tensorflow.keras.callbacks import EarlyStopping\n",
        "\n",
        "eS = EarlyStopping(monitor = 'loss',\n",
        "                   mode='min',\n",
        "                   patience = 5,\n",
        "                   verbose = 1,\n",
        "                   restore_best_weights = True)"
      ],
      "metadata": {
        "id": "PhJanJJnyJP4"
      },
      "execution_count": 55,
      "outputs": []
    },
    {
      "cell_type": "code",
      "source": [
        "history = model.fit(X_train,y_train, validation_split = 0.2, verbose=1, epochs = 25, callbacks=[eS])"
      ],
      "metadata": {
        "colab": {
          "base_uri": "https://localhost:8080/"
        },
        "id": "JM1JVBxnSEmX",
        "outputId": "83ee7766-e938-4aad-d0e8-1b0944fc4d5d"
      },
      "execution_count": null,
      "outputs": [
        {
          "output_type": "stream",
          "name": "stdout",
          "text": [
            "Epoch 1/25\n",
            "138/138 [==============================] - 48s 344ms/step - loss: 1.2403 - accuracy: 0.5472 - val_loss: 0.6647 - val_accuracy: 0.7681\n",
            "Epoch 2/25\n",
            "138/138 [==============================] - 45s 326ms/step - loss: 0.6027 - accuracy: 0.7875 - val_loss: 0.4284 - val_accuracy: 0.8379\n",
            "Epoch 3/25\n",
            "138/138 [==============================] - 44s 320ms/step - loss: 0.4525 - accuracy: 0.8378 - val_loss: 0.4639 - val_accuracy: 0.8333\n",
            "Epoch 4/25\n",
            "138/138 [==============================] - 44s 316ms/step - loss: 0.3795 - accuracy: 0.8593 - val_loss: 0.3115 - val_accuracy: 0.8696\n",
            "Epoch 5/25\n",
            "138/138 [==============================] - 43s 314ms/step - loss: 0.3252 - accuracy: 0.8786 - val_loss: 0.3044 - val_accuracy: 0.8813\n",
            "Epoch 6/25\n",
            "138/138 [==============================] - 43s 314ms/step - loss: 0.2685 - accuracy: 0.9046 - val_loss: 0.3018 - val_accuracy: 0.8832\n",
            "Epoch 7/25\n",
            "138/138 [==============================] - 45s 325ms/step - loss: 0.2469 - accuracy: 0.9051 - val_loss: 0.2827 - val_accuracy: 0.8949\n",
            "Epoch 8/25\n",
            "138/138 [==============================] - 43s 315ms/step - loss: 0.1915 - accuracy: 0.9246 - val_loss: 0.2621 - val_accuracy: 0.8940\n",
            "Epoch 9/25\n",
            "138/138 [==============================] - 43s 314ms/step - loss: 0.1783 - accuracy: 0.9307 - val_loss: 0.3109 - val_accuracy: 0.8832\n",
            "Epoch 10/25\n",
            "138/138 [==============================] - 43s 311ms/step - loss: 0.1803 - accuracy: 0.9354 - val_loss: 0.2582 - val_accuracy: 0.8976\n",
            "Epoch 11/25\n",
            "138/138 [==============================] - 43s 313ms/step - loss: 0.1397 - accuracy: 0.9497 - val_loss: 0.3163 - val_accuracy: 0.8913\n",
            "Epoch 12/25\n",
            "138/138 [==============================] - 43s 312ms/step - loss: 0.1509 - accuracy: 0.9456 - val_loss: 0.3592 - val_accuracy: 0.8768\n",
            "Epoch 13/25\n",
            "138/138 [==============================] - 44s 322ms/step - loss: 0.1355 - accuracy: 0.9522 - val_loss: 0.2857 - val_accuracy: 0.9121\n",
            "Epoch 14/25\n",
            "138/138 [==============================] - 44s 317ms/step - loss: 0.1031 - accuracy: 0.9601 - val_loss: 0.3264 - val_accuracy: 0.9004\n",
            "Epoch 15/25\n",
            "138/138 [==============================] - 44s 319ms/step - loss: 0.1058 - accuracy: 0.9619 - val_loss: 0.3082 - val_accuracy: 0.9058\n",
            "Epoch 16/25\n",
            "138/138 [==============================] - 43s 314ms/step - loss: 0.1147 - accuracy: 0.9567 - val_loss: 0.3123 - val_accuracy: 0.9094\n",
            "Epoch 17/25\n",
            "138/138 [==============================] - 43s 312ms/step - loss: 0.0919 - accuracy: 0.9681 - val_loss: 0.3444 - val_accuracy: 0.9013\n",
            "Epoch 18/25\n",
            "138/138 [==============================] - 43s 311ms/step - loss: 0.0832 - accuracy: 0.9721 - val_loss: 0.4656 - val_accuracy: 0.8768\n",
            "Epoch 19/25\n",
            "138/138 [==============================] - 44s 320ms/step - loss: 0.0941 - accuracy: 0.9683 - val_loss: 0.3742 - val_accuracy: 0.8986\n",
            "Epoch 20/25\n",
            "138/138 [==============================] - 43s 315ms/step - loss: 0.0984 - accuracy: 0.9649 - val_loss: 0.3276 - val_accuracy: 0.9067\n",
            "Epoch 21/25\n",
            "138/138 [==============================] - 43s 312ms/step - loss: 0.0688 - accuracy: 0.9780 - val_loss: 0.3425 - val_accuracy: 0.9049\n",
            "Epoch 22/25\n",
            "138/138 [==============================] - 43s 314ms/step - loss: 0.0824 - accuracy: 0.9728 - val_loss: 0.3656 - val_accuracy: 0.9022\n",
            "Epoch 23/25\n",
            "138/138 [==============================] - 44s 317ms/step - loss: 0.0520 - accuracy: 0.9817 - val_loss: 0.3662 - val_accuracy: 0.9040\n",
            "Epoch 24/25\n",
            "138/138 [==============================] - 44s 320ms/step - loss: 0.0615 - accuracy: 0.9794 - val_loss: 0.4290 - val_accuracy: 0.8922\n",
            "Epoch 25/25\n",
            "138/138 [==============================] - 44s 319ms/step - loss: 0.0781 - accuracy: 0.9758 - val_loss: 0.3806 - val_accuracy: 0.9121\n"
          ]
        }
      ]
    },
    {
      "cell_type": "code",
      "source": [
        "fig, ax = plt.subplots(figsize=(20,8))\n",
        "sns.lineplot(x = history.epoch, y = history.history['loss'])\n",
        "sns.lineplot(x = history.epoch, y = history.history['val_loss'])\n",
        "ax.set_title('Learning Curve (Loss)')\n",
        "ax.set_ylabel('Loss')\n",
        "ax.set_xlabel('Epoch')\n",
        "ax.set_ylim(0,0.5)\n",
        "ax.legend(['train','val'], loc = ' best')\n",
        "plt.show()"
      ],
      "metadata": {
        "colab": {
          "base_uri": "https://localhost:8080/",
          "height": 753
        },
        "id": "JHBhOHx5VkbM",
        "outputId": "3285bf3f-669b-4870-ff62-d8948b9c27a0"
      },
      "execution_count": null,
      "outputs": [
        {
          "output_type": "stream",
          "name": "stderr",
          "text": [
            "/usr/local/lib/python3.7/dist-packages/ipykernel_launcher.py:8: MatplotlibDeprecationWarning: Unrecognized location ' best'. Falling back on 'best'; valid locations are\n",
            "\tbest\n",
            "\tupper right\n",
            "\tupper left\n",
            "\tlower left\n",
            "\tlower right\n",
            "\tright\n",
            "\tcenter left\n",
            "\tcenter right\n",
            "\tlower center\n",
            "\tupper center\n",
            "\tcenter\n",
            "This will raise an exception in 3.3.\n",
            "  \n"
          ]
        },
        {
          "output_type": "display_data",
          "data": {
            "text/plain": [
              "<Figure size 1440x576 with 1 Axes>"
            ],
            "image/png": "[encoded data removed]"
          },
          "metadata": {
            "needs_background": "light"
          }
        }
      ]
    },
    {
      "cell_type": "code",
      "source": [
        "prediccion = model.evaluate(X_test, y_test)"
      ],
      "metadata": {
        "colab": {
          "base_uri": "https://localhost:8080/"
        },
        "id": "BH92A8rouDdY",
        "outputId": "a9008534-6206-4c52-df43-2e744e04e0c0"
      },
      "execution_count": null,
      "outputs": [
        {
          "output_type": "stream",
          "name": "stdout",
          "text": [
            "44/44 [==============================] - 3s 71ms/step - loss: 0.4405 - accuracy: 0.8884\n"
          ]
        }
      ]
    },
    {
      "cell_type": "markdown",
      "source": [
        "0.88 con sigmoid igual con softmax"
      ],
      "metadata": {
        "id": "CSl5dKSLbIB6"
      }
    },
    {
      "cell_type": "code",
      "source": [
        "prediccion[1]*100"
      ],
      "metadata": {
        "colab": {
          "base_uri": "https://localhost:8080/"
        },
        "id": "qRZr72WIuTWs",
        "outputId": "9058dc69-1b8a-4a93-c88a-2e1928d4106d"
      },
      "execution_count": null,
      "outputs": [
        {
          "output_type": "execute_result",
          "data": {
            "text/plain": [
              "88.84057998657227"
            ]
          },
          "metadata": {},
          "execution_count": 22
        }
      ]
    },
    {
      "cell_type": "markdown",
      "source": [
        "# Hasta este punto queda un módelo simple, rudo y poco optimizado. Que además presenta overfitting"
      ],
      "metadata": {
        "id": "kwagOY2q0Rwp"
      }
    },
    {
      "cell_type": "markdown",
      "source": [
        "### Recogemos de nuevo la lectura de imagenes y labels"
      ],
      "metadata": {
        "id": "nQs1a5t40k9P"
      }
    },
    {
      "cell_type": "code",
      "source": [
        "X = np.array(imagenes)\n",
        "y = np.array(labels)"
      ],
      "metadata": {
        "id": "ISC0XXdF0a8h"
      },
      "execution_count": null,
      "outputs": []
    },
    {
      "cell_type": "code",
      "source": [
        "#### Generar imágenes desde el directorio\n",
        "\n",
        "'''\n",
        "from tensorflow.keras.preprocessing.image import ImageDataGenerator\n",
        "\n",
        "imag = ImageDataGenerator( rescale = 1.0/255.)\n",
        "imagens = imag.flow_from_directory(imagen_dir, batch_size = 20, class_mode = 'binary'¿? , target_size = (100,100))\n",
        "'''\n"
      ],
      "metadata": {
        "id": "UmAfx4YE4EFM"
      },
      "execution_count": null,
      "outputs": []
    },
    {
      "cell_type": "code",
      "source": [
        ""
      ],
      "metadata": {
        "colab": {
          "base_uri": "https://localhost:8080/"
        },
        "id": "bvgOHDYB4T6b",
        "outputId": "c08ca9dd-ec10-4bcf-80f3-2a5e0c44f334"
      },
      "execution_count": null,
      "outputs": [
        {
          "output_type": "execute_result",
          "data": {
            "text/plain": [
              "<keras.preprocessing.image.ImageDataGenerator at 0x7f18b58f9ed0>"
            ]
          },
          "metadata": {},
          "execution_count": 7
        }
      ]
    },
    {
      "cell_type": "markdown",
      "source": [
        "### Estandarizamos los 'pixeles' de las imágenes y categorizamos las 'labels'"
      ],
      "metadata": {
        "id": "vai1MOUb0ppP"
      }
    },
    {
      "cell_type": "code",
      "source": [
        "X_standarized = X.astype('float32')/255\n",
        "\n",
        "from sklearn.preprocessing import LabelEncoder\n",
        "\n",
        "### Esto tendremos que hacerlo despues del data_augmentin\n",
        "y_encoded = LabelEncoder().fit_transform(y)\n",
        "y_categorical = tf.keras.utils.to_categorical(y_encoded)"
      ],
      "metadata": {
        "id": "Kw9A1j860jZI"
      },
      "execution_count": null,
      "outputs": []
    },
    {
      "cell_type": "markdown",
      "source": [
        "### Modelo"
      ],
      "metadata": {
        "id": "Fgyja2M82CvZ"
      }
    },
    {
      "cell_type": "code",
      "source": [
        "from keras.layers.pooling import MaxPooling2D\n",
        "model = Sequential()\n",
        "model.add(Conv2D(32, (3,3), activation = 'relu', input_shape = (100,100,3)))\n",
        "model.add(MaxPooling2D(2,2))\n",
        "model.add(Conv2D(64, (3,3), activation = 'relu'))\n",
        "model.add(MaxPooling2D(2,2))\n",
        "model.add(Conv2D(128, (3,3), activation = 'relu'))\n",
        "model.add(MaxPooling2D(2,2))\n",
        "model.add(Conv2D(128, (3,3), activation = 'relu'))\n",
        "model.add(MaxPooling2D(2,2))\n",
        "model.add(Flatten())\n",
        "model.add(Dense(512, activation = 'relu'))\n",
        "model.add(Dense(4, activation = 'sigmoid'))"
      ],
      "metadata": {
        "id": "LIrqesW62CX3"
      },
      "execution_count": 34,
      "outputs": []
    },
    {
      "cell_type": "code",
      "source": [
        "model.summary()"
      ],
      "metadata": {
        "id": "qc1p5yVY3Lms"
      },
      "execution_count": null,
      "outputs": []
    },
    {
      "cell_type": "code",
      "source": [
        "from tensorflow.keras.optimizers import RMSprop\n",
        "\n",
        "\n",
        "model.compile(optimizer = RMSprop(lr = 0.001),\n",
        "              loss = 'binary_crossentropy',\n",
        "              metrics = ['acc'])"
      ],
      "metadata": {
        "id": "AvSy_rGS3NKE",
        "colab": {
          "base_uri": "https://localhost:8080/"
        },
        "outputId": "25b0fae8-b83e-41f6-aaa4-2adde80117c6"
      },
      "execution_count": 35,
      "outputs": [
        {
          "output_type": "stream",
          "name": "stderr",
          "text": [
            "/usr/local/lib/python3.7/dist-packages/keras/optimizer_v2/rmsprop.py:130: UserWarning: The `lr` argument is deprecated, use `learning_rate` instead.\n",
            "  super(RMSprop, self).__init__(name, **kwargs)\n"
          ]
        }
      ]
    },
    {
      "cell_type": "code",
      "source": [
        "### Agrupación de paquetes de imágenes\n",
        "'''batch_size = 20  \n",
        "\n",
        "steps_per_epoch = imagenes_train.n // batch_size  ### .n dará, supongo el numero de imágenes\n",
        "validation_steps = imagenes_validation.n // batch_size \n",
        "\n",
        "history= model.fit(\n",
        "    imagenes_train,\n",
        "    steps_per_epoch= steps_per_epoch,\n",
        "    epochs = 100,\n",
        "    validation_data = imagenes_validation,\n",
        "    validation_steps = validation_steps,\n",
        "    verbose = 2\n",
        ")\n",
        "'''"
      ],
      "metadata": {
        "id": "J0qIdWGe45wn"
      },
      "execution_count": null,
      "outputs": []
    },
    {
      "cell_type": "code",
      "source": [
        "history = model.fit(...)    ### los '...' son porque está sin rellenar"
      ],
      "metadata": {
        "id": "5aQ0nRsh6H2g"
      },
      "execution_count": null,
      "outputs": []
    },
    {
      "cell_type": "markdown",
      "source": [
        "## Visualizar comportamiento del entrenamiento"
      ],
      "metadata": {
        "id": "pw-Owwxq6eCf"
      }
    },
    {
      "cell_type": "code",
      "source": [
        "history.history.keys()"
      ],
      "metadata": {
        "id": "frgOX3txf2u5",
        "outputId": "1365b607-fc57-4db9-cc02-bc09cdab2f4b",
        "colab": {
          "base_uri": "https://localhost:8080/"
        }
      },
      "execution_count": 61,
      "outputs": [
        {
          "output_type": "execute_result",
          "data": {
            "text/plain": [
              "dict_keys(['loss', 'accuracy', 'val_loss', 'val_accuracy'])"
            ]
          },
          "metadata": {},
          "execution_count": 61
        }
      ]
    },
    {
      "cell_type": "code",
      "source": [
        "\n",
        "history_dict = history.history\n",
        "acc      = history_dict['accuracy']\n",
        "val_acc  = history_dict['val_accuracy']\n",
        "loss     = history_dict['loss']\n",
        "val_loss = history_dict['val_loss']"
      ],
      "metadata": {
        "id": "lNlRmL4N6hmc"
      },
      "execution_count": 62,
      "outputs": []
    },
    {
      "cell_type": "code",
      "source": [
        "test_loss, test_acc = model.evaluate(test, test_lab)\n",
        "print('Test Accuracy:',test_acc)"
      ],
      "metadata": {
        "id": "VLcGdLiI7xlF",
        "colab": {
          "base_uri": "https://localhost:8080/"
        },
        "outputId": "efa835ea-0a20-41e1-c3f2-6cd004a64940"
      },
      "execution_count": 58,
      "outputs": [
        {
          "output_type": "stream",
          "name": "stdout",
          "text": [
            "57/57 [==============================] - 30s 530ms/step - loss: 1.0284 - accuracy: 0.6389\n",
            "Test Accuracy: 0.6388583779335022\n"
          ]
        }
      ]
    },
    {
      "cell_type": "markdown",
      "source": [
        "## Mejores formas de prevenir el overfitting\n",
        "\n",
        "- #### Dropout(obviar aleatoriamente ciertas neuronas en cada época)\n",
        "- #### Regularización de pesos L1 o L2(se añaden a nivel de capa con kerne_regularizer con keras.regularizers.l1(r) o keras.regularizers.l2(r), siendo r es un float que controla la regularización aplicada\n",
        "- #### Data Augmentation(Expuesta abajo)\n",
        "- #### Transfer Learning(Utilizar modelos ya entrenados previamente con otros datos"
      ],
      "metadata": {
        "id": "G_wO3RS_8Dk8"
      }
    },
    {
      "cell_type": "markdown",
      "source": [
        "#### Data Augmentation\n",
        "##### Aumentar 'artificialmente' la cantidad de datos generando mas imágenes a partir de las que están en posesion(rotandolas, girándolas, moviendo el eje horizontal o vertical de la imagen, etc)\n",
        "\n",
        "\n",
        "##### Esto solo se hará en los datos de entrenamiento, no en test ni en validacion"
      ],
      "metadata": {
        "id": "Raap3oFt85mm"
      }
    },
    {
      "cell_type": "code",
      "source": [
        "from tensorflow.keras.preprocessing.image import ImageDataGenerator\n",
        "\n",
        "\n",
        "train_datagen = ImageDataGenerator(\n",
        "    rescale = 1./255.,\n",
        "    rotation_range= 40,   ### Maximo valor de rotacion de la imagen\n",
        "    width_shift_range = 0.2,\n",
        "    height_shift_range = 0.2\n",
        ")\n",
        "\n"
      ],
      "metadata": {
        "id": "KuOKefYx8DGh"
      },
      "execution_count": 3,
      "outputs": []
    },
    {
      "cell_type": "markdown",
      "source": [
        "## Aqui generamos imagenes adicionales a partir de cada imagen"
      ],
      "metadata": {
        "id": "AVg9dIWvabyn"
      }
    },
    {
      "cell_type": "markdown",
      "source": [
        "##### Este codigo da como resultado final imagenes en formato tensor 3D de (100, 100, 3)"
      ],
      "metadata": {
        "id": "fB2lZY78dibq"
      }
    },
    {
      "cell_type": "code",
      "source": [
        "from keras_preprocessing.image.utils import img_to_array\n",
        "from numpy.lib.shape_base import expand_dims\n",
        "from google.colab import files\n",
        "from tensorflow.keras.preprocessing import image\n",
        "\n",
        "from tensorflow.keras import layers\n",
        "\n",
        "\n",
        "def Augmentation():\n",
        "\n",
        "  uploades = files.upload()  #### Este método permite subir archivos a colab(carpeta content)\n",
        "  lista_imagenes=[]\n",
        "\n",
        "  for fn in uploades.keys():\n",
        "    path = '/content/' + fn\n",
        "    img = image.load_img(path)\n",
        "    data = image.img_to_array(img)\n",
        "    samples = expand_dims(data, 0)\n",
        "\n",
        "    generador = train_datagen\n",
        "\n",
        "    #### .flow devuelve una tupla con(x,y) siendo x la imagen e y la label o etiqueta((En caso de pasar tambien un argumento y con las labels))\n",
        "    it = generador.flow(samples, batch_size=1, save_to_dir='/content/g/')\n",
        "    #### Solo se crean las imagenes cuando se hace it.next()\n",
        "    for i in range(3):   #### Luego este rango determinará cuantas imágenes se crean\n",
        "      batch = it.next()\n",
        "      imag = batch[0]\n",
        "      imagenn= img_to_array(imag)\n",
        "\n",
        "      #### Reescalamos la imagen a un formato de (100 x 100)\n",
        "      IMG_SIZE = 100\n",
        "\n",
        "      resize_and_rescale = tf.keras.Sequential([\n",
        "        layers.Resizing(IMG_SIZE, IMG_SIZE)\n",
        "      ])\n",
        "\n",
        "      result = resize_and_rescale(imagenn)\n",
        "      lista_imagenes.append(result)\n",
        "  return lista_imagenes\n",
        "  \n",
        "  \n"
      ],
      "metadata": {
        "id": "3wkWQstrMVOf"
      },
      "execution_count": null,
      "outputs": []
    },
    {
      "cell_type": "code",
      "source": [
        "from keras_preprocessing.image.utils import img_to_array\n",
        "from numpy.lib.shape_base import expand_dims\n",
        "from google.colab import files\n",
        "from tensorflow.keras.preprocessing import image\n",
        "\n",
        "from tensorflow.keras import layers\n",
        "import cv2\n",
        "\n",
        "path = '/content/imageness/data/'\n",
        "#directories = listdir(path)\n",
        "\n",
        "def Augmentation(path,directories,copias):\n",
        "\n",
        "  ### Esta variable contendra mis imagenes\n",
        "  lista_imagenes = []\n",
        "  ### Esta contendra las labels equivalente\n",
        "  y = []\n",
        "\n",
        " \n",
        "\n",
        "  #### para cada directorio dentro de data listamos su interior(imagenes)\n",
        "  for directori in directories:\n",
        "      ### Esta variable contendrá las imagenes de base\n",
        "      imagenes = []\n",
        "      #### listamos cada imagen\n",
        "      for i in range(0,len(listdir(path + directori))):\n",
        "          \n",
        "          #### obtenemos cada ruta de la imagen y la leemos guardando asi la imagen\n",
        "          image = cv2.imread(path + directori + '/' + listdir(path + directori)[i])\n",
        "          \n",
        "          #### Añadimos cara imagen al array de imagenes base    \n",
        "          image_resized = cv2.resize(image, (100,100))  \n",
        "          imagenes.append(np.array(image_resized)) \n",
        "\n",
        "          #### Añadimos cada label de la imagen a la lista de labels(y) definitiva\n",
        "          y.append(str(directori))\n",
        "          \n",
        "      imagenes = np.array(imagenes)\n",
        "\n",
        "      ### Agregamos a la lista definitiva las imagenes base estandarizadas de un directorio\n",
        "      lista_imagenes.append((np.array(imagenes).astype('float32')/255))\n",
        "        \n",
        "      for i in imagenes:\n",
        "        \n",
        "          generador = train_datagen\n",
        "          generador.fit(imagenes)\n",
        "          it = generador.flow(imagenes, batch_size=1, save_to_dir='/content/'+str(directori)+'/')\n",
        "          #### Solo se crean las imagenes cuando se hace it.next()\n",
        "          for i in range(int(copias)):   #### Luego este rango determinará cuantas imágenes se crean\n",
        "            batch = it.next()\n",
        "            imag = batch[0]\n",
        "            imagenn= img_to_array(imag)\n",
        "\n",
        "            #### Reescalamos la imagen a un formato de (100 x 100)\n",
        "            IMG_SIZE = 100\n",
        "\n",
        "            resize_and_rescale = tf.keras.Sequential([\n",
        "              layers.Resizing(IMG_SIZE, IMG_SIZE)\n",
        "            ])\n",
        "\n",
        "            result = resize_and_rescale(imagenn)\n",
        "\n",
        "        #### Añadimos la imagen y el label a las listas definitivas\n",
        "            lista_imagenes.append(result)\n",
        "            y.append(str(directori))\n",
        "      \n",
        "  #### Devolvemos en formato tupla la lista con todas las imagenes y la tupla con todos los labels\n",
        "  \n",
        "  return (lista_imagenes,y)\n",
        "    \n",
        "  "
      ],
      "metadata": {
        "id": "oRY6NEOBuR2j"
      },
      "execution_count": null,
      "outputs": []
    },
    {
      "cell_type": "code",
      "source": [
        "(X_augmentate, y_augmentate) = Augmentation(path, directories, 3)"
      ],
      "metadata": {
        "id": "CZ8IlIb7kdP3"
      },
      "execution_count": null,
      "outputs": []
    },
    {
      "cell_type": "markdown",
      "source": [
        "# Vamos a hacerlo separado por directorios"
      ],
      "metadata": {
        "id": "uG32VQQBkOis"
      }
    },
    {
      "cell_type": "code",
      "source": [
        "from tensorflow.keras.preprocessing import image\n",
        "\n",
        "### Esta variable contendrá las imagenes de base\n",
        "imagenes = []\n",
        "lista_imagenes= []\n",
        "y = []\n",
        "uploades = files.upload()  #### Este método permite subir archivos a colab(carpeta content)\n",
        "\n",
        "\n",
        "for fn in uploades.keys():\n",
        "    path = '/content/' + fn\n",
        "    img = image.load_img(path)\n",
        "\n",
        "    imagenes.append(img)\n",
        "\n",
        "for i in range(0,len(imagenes)):\n",
        "          \n",
        "          #### obtenemos cada ruta de la imagen y la leemos guardando asi la imagen\n",
        "          ima = np.array(imagenes[i])\n",
        "          \n",
        "          #### Añadimos cara imagen al array de imagenes base    \n",
        "          image_resized = cv2.resize(ima, (100,100))  \n",
        "          imagenes.append(np.array(image_resized)) \n",
        "\n",
        "          #### Añadimos cada label de la imagen a la lista de labels(y) definitiva\n",
        "          y.append(str('airplane'))\n",
        "          \n",
        "imagenes = np.array(imagenes)\n",
        "print(imagenes)\n",
        "\n",
        "      ### Agregamos a la lista definitiva las imagenes base estandarizadas de un directorio\n",
        "lista_imagenes.append(imagenes.astype('float32')/255)\n",
        "       \n",
        "for i in imagenes:\n",
        "        \n",
        "          generador = train_datagen\n",
        "          generador.fit(imagenes)\n",
        "          it = generador.flow(imagenes, batch_size=1, save_to_dir='/content/'+str('airplan')+'/')\n",
        "          #### Solo se crean las imagenes cuando se hace it.next()\n",
        "          for i in range(int(3)):   #### Luego este rango determinará cuantas imágenes se crean\n",
        "            batch = it.next()\n",
        "            imag = batch[0]\n",
        "            imagenn= img_to_array(imag)\n",
        "\n",
        "            #### Reescalamos la imagen a un formato de (100 x 100)\n",
        "            IMG_SIZE = 100\n",
        "\n",
        "            resize_and_rescale = tf.keras.Sequential([\n",
        "              layers.Resizing(IMG_SIZE, IMG_SIZE)\n",
        "            ])\n",
        "\n",
        "            result = resize_and_rescale(imagenn)\n",
        "\n",
        "        #### Añadimos la imagen y el label a las listas definitivas\n",
        "            lista_imagenes.append(result)\n",
        "            y.append(str('airplane'))\n",
        "      \n",
        "  #### Devolvemos en formato tupla la lista con todas las imagenes y la tupla con todos los labels\n",
        "  \n",
        "\n",
        "    "
      ],
      "metadata": {
        "id": "Q0bHuK91kOKq"
      },
      "execution_count": null,
      "outputs": []
    },
    {
      "cell_type": "code",
      "source": [
        "from tensorflow.keras.preprocessing import image\n",
        "from google.colab import files\n",
        "import numpy as np\n",
        "import cv2\n",
        "\n",
        "\n",
        "def obtener_imagenes(etiqueta):\n",
        "      ### Esta variable contendrá las imagenes de base\n",
        "      imagenes = []\n",
        "      imagenes_base = []\n",
        "\n",
        "      y = []\n",
        "      uploades = files.upload()  #### Este método permite subir archivos a colab(carpeta content)\n",
        "\n",
        "      for fn in uploades.keys():\n",
        "          path = '/content/' + fn\n",
        "          img = image.load_img(path)\n",
        "\n",
        "          imagenes_base.append(img)\n",
        "\n",
        "      for i in range(0,len(imagenes_base)):\n",
        "                \n",
        "                #### obtenemos cada ruta de la imagen y la leemos guardando asi la imagen\n",
        "                ima = np.array(imagenes_base[i])\n",
        "                \n",
        "                #### Añadimos cara imagen al array de imagenes base    \n",
        "                image_resized = cv2.resize(ima, (100,100))  \n",
        "                imagenes.append(image_resized)  #.astype('float32')/255)    ##Las formatearemos mas adelante\n",
        "\n",
        "                #### Añadimos cada label de la imagen a la lista de labels(y) definitiva\n",
        "                y.append(str(etiqueta))\n",
        "                \n",
        "      #imagenes = np.array(imagenes)\n",
        "      #print(np.array(imagenes).shape)\n",
        "      #print(imagenes[0].shape)\n",
        "      return (imagenes, y)\n",
        "\n",
        "      \n",
        "       "
      ],
      "metadata": {
        "id": "iRbMWTqCrBAF"
      },
      "execution_count": 5,
      "outputs": []
    },
    {
      "cell_type": "code",
      "source": [
        "#### Deberia transformar todos en nparray?¿?¿?¿?"
      ],
      "metadata": {
        "id": "ioNj5P8pBJ9s"
      },
      "execution_count": null,
      "outputs": []
    },
    {
      "cell_type": "code",
      "source": [
        "airplanes, y_aviones = obtener_imagenes('airplane')\n",
        "airplanes = np.array(airplanes)"
      ],
      "metadata": {
        "id": "_zET-FI_2Pz-"
      },
      "execution_count": null,
      "outputs": []
    },
    {
      "cell_type": "code",
      "source": [
        "car, y_car = obtener_imagenes('car')\n",
        "car = np.array(car)\n"
      ],
      "metadata": {
        "id": "MbgdfxCo3ADT"
      },
      "execution_count": null,
      "outputs": []
    },
    {
      "cell_type": "code",
      "source": [
        "cat, y_cat = obtener_imagenes('cat')\n",
        "cat = np.array(cat)"
      ],
      "metadata": {
        "id": "ZxVPM_2RAMiJ"
      },
      "execution_count": null,
      "outputs": []
    },
    {
      "cell_type": "code",
      "source": [
        "dog, y_dog = obtener_imagenes('dog')\n",
        "dog = np.array(dog)\n"
      ],
      "metadata": {
        "id": "j5XlYtOrAOUO"
      },
      "execution_count": null,
      "outputs": []
    },
    {
      "cell_type": "code",
      "source": [
        "flower, y_flower = obtener_imagenes('flower')\n",
        "flower = np.array(flower)"
      ],
      "metadata": {
        "id": "lxnaw3pNAONB"
      },
      "execution_count": null,
      "outputs": []
    },
    {
      "cell_type": "code",
      "source": [
        "fruit, y_fruit = obtener_imagenes('fruit')\n",
        "fruit = np.array(fruit)\n"
      ],
      "metadata": {
        "id": "R2LyUnK8AOGh"
      },
      "execution_count": null,
      "outputs": []
    },
    {
      "cell_type": "code",
      "source": [
        "motorbike, y_motorbike = obtener_imagenes('motorbike')\n",
        "motorkibe = np.array(motorbike)"
      ],
      "metadata": {
        "id": "Cca-cOIZAOAS"
      },
      "execution_count": null,
      "outputs": []
    },
    {
      "cell_type": "code",
      "source": [
        "person, y_person = obtener_imagenes('person')\n",
        "person = np.array(person)"
      ],
      "metadata": {
        "id": "mPsY2vqFAN5Z"
      },
      "execution_count": null,
      "outputs": []
    },
    {
      "cell_type": "code",
      "source": [
        "#### Deberia de sacar al menos 200 o 300 registros de cada uno para usar en test"
      ],
      "metadata": {
        "id": "qgoaIHndq1vl"
      },
      "execution_count": null,
      "outputs": []
    },
    {
      "cell_type": "code",
      "source": [
        ""
      ],
      "metadata": {
        "id": "QhZyCAaZq1rM"
      },
      "execution_count": null,
      "outputs": []
    },
    {
      "cell_type": "code",
      "source": [
        ""
      ],
      "metadata": {
        "id": "7kzaFZdrq1os"
      },
      "execution_count": null,
      "outputs": []
    },
    {
      "cell_type": "code",
      "source": [
        ""
      ],
      "metadata": {
        "id": "o-eAHhOSq1kl"
      },
      "execution_count": null,
      "outputs": []
    },
    {
      "cell_type": "code",
      "source": [
        "from keras_preprocessing.image.utils import img_to_array\n",
        "import tensorflow as tf\n",
        "from tensorflow.keras import layers\n",
        "\n",
        "def obtener_copias(imagenes_base, etiqueta,copias):\n",
        "      lista_imagenes = []\n",
        "      y = []\n",
        "      generador = train_datagen\n",
        "      generador.fit(imagenes_base)\n",
        "      \n",
        "\n",
        "      for i in imagenes_base:  \n",
        "              imagen = np.array(i).reshape(-1,100,100,3)  \n",
        "              it = generador.flow( imagen , batch_size=1)     \n",
        "              #### Solo se crean las imagenes cuando se hace it.next()\n",
        "              for j in range(int(copias)):   #### Luego este rango determinará cuantas imágenes se crean\n",
        "                batch = it.next()\n",
        "                imag = batch[0]\n",
        "                imagenn= img_to_array(imag)\n",
        "\n",
        "                #### Reescalamos la imagen a un formato de (100 x 100)\n",
        "                IMG_SIZE = 100\n",
        "\n",
        "                resize_and_rescale = tf.keras.Sequential([\n",
        "                  layers.Resizing(IMG_SIZE, IMG_SIZE)\n",
        "                ])\n",
        "\n",
        "                result = resize_and_rescale(imagenn)\n",
        "\n",
        "            #### Añadimos la imagen y el label a las listas definitivas\n",
        "                lista_imagenes.append(result)\n",
        "                y.append(str(etiqueta))\n",
        "          \n",
        "      #### Devolvemos en formato tupla la lista con todas las imagenes y la tupla con todos los labels\n",
        "      return (lista_imagenes, y)"
      ],
      "metadata": {
        "id": "o83LRv8nAhwS"
      },
      "execution_count": 10,
      "outputs": []
    },
    {
      "cell_type": "code",
      "source": [
        "airplanes.shape"
      ],
      "metadata": {
        "colab": {
          "base_uri": "https://localhost:8080/"
        },
        "id": "xeQgRBJfCWpa",
        "outputId": "f8df9b9c-711e-4f86-df2a-03fb5bbeeab0"
      },
      "execution_count": null,
      "outputs": [
        {
          "output_type": "execute_result",
          "data": {
            "text/plain": [
              "(3, 100, 100, 3)"
            ]
          },
          "metadata": {},
          "execution_count": 20
        }
      ]
    },
    {
      "cell_type": "code",
      "source": [
        "import matplotlib.pyplot as plt\n",
        "\n",
        "generacion_aviones, y_generacion_aviones = obtener_copias(airplanes , 'airplane',3)\n",
        "\n"
      ],
      "metadata": {
        "id": "gJKRR355BuAP"
      },
      "execution_count": 11,
      "outputs": []
    },
    {
      "cell_type": "code",
      "source": [
        "generacion_cars, y_generacion_cars = obtener_copias(car, 'car', 3)"
      ],
      "metadata": {
        "id": "5QoaX5DMuL19"
      },
      "execution_count": 12,
      "outputs": []
    },
    {
      "cell_type": "code",
      "source": [
        "generacion_cats, y_generacion_cats = obtener_copias(cat, 'cat', 3)"
      ],
      "metadata": {
        "id": "3ibyIiNrmpx1"
      },
      "execution_count": 13,
      "outputs": []
    },
    {
      "cell_type": "code",
      "source": [
        "generacion_dogs, y_generacion_dogs = obtener_copias(dog, 'dog', 3)"
      ],
      "metadata": {
        "id": "gRLZXJ0mmprI"
      },
      "execution_count": 14,
      "outputs": []
    },
    {
      "cell_type": "code",
      "source": [
        "generacion_flower, y_generacion_flower = obtener_copias(flower, 'flower', 3)"
      ],
      "metadata": {
        "id": "XgdAQkt_mpkq"
      },
      "execution_count": 16,
      "outputs": []
    },
    {
      "cell_type": "code",
      "source": [
        "generacion_fruit, y_generacion_fruit = obtener_copias(fruit, 'fruit', 3)"
      ],
      "metadata": {
        "id": "5uJlRxLRmpeQ"
      },
      "execution_count": 17,
      "outputs": []
    },
    {
      "cell_type": "code",
      "source": [
        "generacion_motorbike, y_generacion_motorbike = obtener_copias(motorbike, 'motorbike', 3)"
      ],
      "metadata": {
        "id": "jYwlQMQ1mpWa"
      },
      "execution_count": 18,
      "outputs": []
    },
    {
      "cell_type": "code",
      "source": [
        "generacion_person, y_generacion_person = obtener_copias(person, 'person', 3)"
      ],
      "metadata": {
        "id": "LG5UjVFKmnUg"
      },
      "execution_count": 19,
      "outputs": []
    },
    {
      "cell_type": "code",
      "source": [
        "np.array(generacion_aviones).shape"
      ],
      "metadata": {
        "colab": {
          "base_uri": "https://localhost:8080/"
        },
        "id": "fzoncsmWedR4",
        "outputId": "bef8ce77-5dd7-49dc-a573-e654ab66fd3f"
      },
      "execution_count": null,
      "outputs": [
        {
          "output_type": "execute_result",
          "data": {
            "text/plain": [
              "(2181, 100, 100, 3)"
            ]
          },
          "metadata": {},
          "execution_count": 15
        }
      ]
    },
    {
      "cell_type": "code",
      "source": [
        "avf = np.concatenate((airplanes, np.array(generacion_aviones)), axis=0)\n",
        "labels_airplanes = np.concatenate((y_aviones, y_generacion_aviones), axis = 0)\n",
        "lba = labels_airplanes.reshape(-1,1)"
      ],
      "metadata": {
        "id": "-A8L5Wk7B5yu"
      },
      "execution_count": 15,
      "outputs": []
    },
    {
      "cell_type": "code",
      "source": [
        "carsf= np.concatenate((car, np.array(generacion_cars)), axis = 0)\n",
        "labels_cars = np.concatenate((y_car, y_generacion_cars), axis = 0)\n",
        "lbcars = labels_cars.reshape(-1,1)"
      ],
      "metadata": {
        "id": "rh0lfmxRuONu"
      },
      "execution_count": 16,
      "outputs": []
    },
    {
      "cell_type": "code",
      "source": [
        "catsf = np.concatenate((cat, np.array(generacion_cats)), axis=0)\n",
        "labels_cats = np.concatenate((y_cat,np.array(y_generacion_cats)), axis=0)\n",
        "lbcats = labels_cats.reshape(-1,1)"
      ],
      "metadata": {
        "id": "iPevGtvjnc3E"
      },
      "execution_count": 17,
      "outputs": []
    },
    {
      "cell_type": "code",
      "source": [
        "dogsf = np.concatenate((dog, np.array(generacion_dogs)), axis=0)\n",
        "labels_dogs = np.concatenate((y_dog,np.array(y_generacion_dogs)), axis=0)\n",
        "lbdogs = labels_dogs.reshape(-1,1)"
      ],
      "metadata": {
        "id": "WPl5RQZIn2uL"
      },
      "execution_count": 18,
      "outputs": []
    },
    {
      "cell_type": "code",
      "source": [
        "flowersf = np.concatenate((flower, np.array(generacion_flower)), axis=0)\n",
        "labels_flowers = np.concatenate((y_flower,np.array(y_generacion_flower)), axis=0)\n",
        "lbflowers = labels_flowers.reshape(-1,1)"
      ],
      "metadata": {
        "id": "WT0atQEGn2m6"
      },
      "execution_count": 26,
      "outputs": []
    },
    {
      "cell_type": "code",
      "source": [
        "fruitsf = np.concatenate((fruit, np.array(generacion_fruit)), axis=0)\n",
        "labels_fruits = np.concatenate((y_fruit,np.array(y_generacion_fruit)), axis=0)\n",
        "lbfruits = labels_fruits.reshape(-1,1)"
      ],
      "metadata": {
        "id": "ZfOTntKcn2gO"
      },
      "execution_count": 27,
      "outputs": []
    },
    {
      "cell_type": "code",
      "source": [
        "motorbikesf = np.concatenate((motorbike, np.array(generacion_motorbike)), axis=0)\n",
        "labels_motorbikes = np.concatenate((y_motorbike,np.array(y_generacion_motorbike)), axis=0)\n",
        "lbmotorbikes = labels_motorbikes.reshape(-1,1)"
      ],
      "metadata": {
        "id": "cVlrBjSZn2Zv"
      },
      "execution_count": 28,
      "outputs": []
    },
    {
      "cell_type": "code",
      "source": [
        "personsf = np.concatenate((person, np.array(generacion_person)), axis=0)\n",
        "labels_persons = np.concatenate((y_person,np.array(y_generacion_person)), axis=0)\n",
        "lbpersons = labels_persons.reshape(-1,1)"
      ],
      "metadata": {
        "id": "FctTFUvMn2Tg"
      },
      "execution_count": 29,
      "outputs": []
    },
    {
      "cell_type": "code",
      "source": [
        "from sklearn.utils import shuffle\n",
        "\n",
        "def separar_train_test_labels(dataset, labels, seed): \n",
        "\n",
        "    #### 'Barajamos' los array de imagenes y de labels\n",
        "    shuffle_dataset = shuffle(dataset, random_state = int(seed))\n",
        "    shuffle_labels  = shuffle(labels, random_state = int(seed))\n",
        "\n",
        "    a,b,c,d = np.vsplit(shuffle_dataset, 4)\n",
        "    e,f,g,h = np.vsplit(shuffle_labels, 4)\n",
        "\n",
        "    train_dataset = np.concatenate((a,b,c), axis=0)\n",
        "    test_dataset  = d\n",
        "    train_labels  = np.concatenate((e,f,g), axis= 0)\n",
        "    test_labels   = h\n",
        "\n",
        "    return (train_dataset, test_dataset, train_labels, test_labels)\n"
      ],
      "metadata": {
        "id": "SuUGqfy-eoZ5"
      },
      "execution_count": 19,
      "outputs": []
    },
    {
      "cell_type": "markdown",
      "source": [
        "#### Desarrollo funcion separar_train_test_labels"
      ],
      "metadata": {
        "id": "VKdAVkZtlPDf"
      }
    },
    {
      "cell_type": "code",
      "source": [
        "from sklearn.utils import shuffle\n",
        "\n",
        "#### 'Barajamos' los array de imagenes y de labels\n",
        "tta = shuffle(avf, random_state = 42)\n",
        "labavi = shuffle(lba, random_state = 42)"
      ],
      "metadata": {
        "id": "gpBUAuX4iyX0"
      },
      "execution_count": null,
      "outputs": []
    },
    {
      "cell_type": "code",
      "source": [
        "#### Los partimos en 4 para dedicar 3/4 a train y 1/4 a test\n",
        "a,b,c,d = np.vsplit(tta, 4)\n",
        "e,f,g,h = np.vsplit(labavi, 4)\n"
      ],
      "metadata": {
        "id": "RriaTY41f4QQ"
      },
      "execution_count": null,
      "outputs": []
    },
    {
      "cell_type": "code",
      "source": [
        "#### Los juntamos segun esa relacion\n",
        "\n",
        "train_aviones = np.concatenate((a,b,c), axis=0)\n",
        "test_aviones  = d\n",
        "labels_train_aviones = np.concatenate((e,f,g), axis= 0)\n",
        "labels_test_aviones  = h"
      ],
      "metadata": {
        "id": "FY9ugYBeiDmR"
      },
      "execution_count": null,
      "outputs": []
    },
    {
      "cell_type": "markdown",
      "source": [
        "## Seguimos"
      ],
      "metadata": {
        "id": "_Bo-mXRLlVZI"
      }
    },
    {
      "cell_type": "code",
      "source": [
        "train_aviones, test_aviones, labels_train_aviones, labels_test_aviones = separar_train_test_labels(avf, lba, 42)"
      ],
      "metadata": {
        "id": "kWCnKmxElZeZ"
      },
      "execution_count": 20,
      "outputs": []
    },
    {
      "cell_type": "code",
      "source": [
        "train_cars, test_cars, labels_train_cars, labels_test_cars = separar_train_test_labels(carsf, lbcars, 40)"
      ],
      "metadata": {
        "id": "3T3wxiUqu3fy"
      },
      "execution_count": 21,
      "outputs": []
    },
    {
      "cell_type": "code",
      "source": [
        "train_cats, test_cats, labels_train_cats, labels_test_cats = separar_train_test_labels(catsf, lbcats, 0)"
      ],
      "metadata": {
        "id": "bf5-ti5fpEKF"
      },
      "execution_count": 22,
      "outputs": []
    },
    {
      "cell_type": "code",
      "source": [
        "train_dogs, test_dogs, labels_train_dogs, labels_test_dogs = separar_train_test_labels(dogsf, lbdogs, 2)"
      ],
      "metadata": {
        "id": "j_pzKlbqpEFD"
      },
      "execution_count": 23,
      "outputs": []
    },
    {
      "cell_type": "code",
      "source": [
        "train_flowers, test_flowers, labels_train_flowers, labels_test_flowers = separar_train_test_labels(flowersf, lbflowers, 6)"
      ],
      "metadata": {
        "id": "eO6avZVhpD_v"
      },
      "execution_count": 35,
      "outputs": []
    },
    {
      "cell_type": "code",
      "source": [
        "train_fruits, test_fruits, labels_train_fruits, labels_test_fruits = separar_train_test_labels(fruitsf, lbfruits, 9)"
      ],
      "metadata": {
        "id": "c0IxJPadpD7D"
      },
      "execution_count": 36,
      "outputs": []
    },
    {
      "cell_type": "code",
      "source": [
        "train_motorbikes, test_motorbikes, labels_train_motorbikes, labels_test_motorbikes = separar_train_test_labels(motorbikesf, lbmotorbikes, 40)"
      ],
      "metadata": {
        "id": "MeMXPMIzpD2E"
      },
      "execution_count": 37,
      "outputs": []
    },
    {
      "cell_type": "code",
      "source": [
        "train_persons, test_persons, labels_train_persons, labels_test_persons = separar_train_test_labels(personsf, lbpersons, 40)"
      ],
      "metadata": {
        "colab": {
          "base_uri": "https://localhost:8080/",
          "height": 183
        },
        "id": "NMQfe9BppDwr",
        "outputId": "d7bb9d6d-ffcf-442a-da8c-b997c4d97cae"
      },
      "execution_count": 1,
      "outputs": [
        {
          "output_type": "error",
          "ename": "NameError",
          "evalue": "ignored",
          "traceback": [
            "\u001b[0;31m---------------------------------------------------------------------------\u001b[0m",
            "\u001b[0;31mNameError\u001b[0m                                 Traceback (most recent call last)",
            "\u001b[0;32m<ipython-input-1-8eb00971d0e4>\u001b[0m in \u001b[0;36m<module>\u001b[0;34m()\u001b[0m\n\u001b[0;32m----> 1\u001b[0;31m \u001b[0mtrain_persons\u001b[0m\u001b[0;34m,\u001b[0m \u001b[0mtest_persons\u001b[0m\u001b[0;34m,\u001b[0m \u001b[0mlabels_train_persons\u001b[0m\u001b[0;34m,\u001b[0m \u001b[0mlabels_test_persons\u001b[0m \u001b[0;34m=\u001b[0m \u001b[0mseparar_train_test_labels\u001b[0m\u001b[0;34m(\u001b[0m\u001b[0mpersonsf\u001b[0m\u001b[0;34m,\u001b[0m \u001b[0mlbpersons\u001b[0m\u001b[0;34m,\u001b[0m \u001b[0;36m40\u001b[0m\u001b[0;34m)\u001b[0m\u001b[0;34m\u001b[0m\u001b[0;34m\u001b[0m\u001b[0m\n\u001b[0m",
            "\u001b[0;31mNameError\u001b[0m: name 'separar_train_test_labels' is not defined"
          ]
        }
      ]
    },
    {
      "cell_type": "code",
      "source": [
        "train_aviones.shape\n",
        "labels_train_aviones.shape"
      ],
      "metadata": {
        "colab": {
          "base_uri": "https://localhost:8080/"
        },
        "id": "ZiDSaP02nAtR",
        "outputId": "6b943ba8-1656-4cbb-b07d-8edade510eb6"
      },
      "execution_count": null,
      "outputs": [
        {
          "output_type": "execute_result",
          "data": {
            "text/plain": [
              "(2181, 100, 100, 3)"
            ]
          },
          "metadata": {},
          "execution_count": 58
        }
      ]
    },
    {
      "cell_type": "code",
      "source": [
        "from sklearn.preprocessing import LabelEncoder\n",
        "from sklearn.utils import shuffle\n",
        "\n",
        "def train_test_split(datasets_train, datasets_test, train_labels, test_labels):   #### Dataset y labels serian listas con todos los dataset y todos los labels\n",
        "  train = datasets_train[0]\n",
        "  test  = datasets_test[0]\n",
        "  train_lab = train_labels[0]\n",
        "  test_lab  = test_labels[0]\n",
        "\n",
        "  for i in range(1, len(datasets_train)):\n",
        "    train = np.concatenate((train, datasets_train[i]), axis = 0)\n",
        "  for i in range(1, len(datasets_test)):\n",
        "    test  = np.concatenate((test, datasets_test[i]),  axis = 0)\n",
        "  for i in range(1, len(train_labels)):\n",
        "    train_lab = np.concatenate((train_lab, train_labels[i]), axis = 0)\n",
        "  for i in range(1, len(test_labels)):\n",
        "    test_lab  = np.concatenate((test_lab, test_labels[i]),  axis = 0)\n",
        "\n",
        "\n",
        "  train_lab_encoded = LabelEncoder().fit_transform(train_lab)\n",
        "  train_lab_categorical = tf.keras.utils.to_categorical(train_lab_encoded)\n",
        "\n",
        "  test_lab_encoded = LabelEncoder().fit_transform(test_lab)\n",
        "  test_lab_categorical = tf.keras.utils.to_categorical(test_lab_encoded)\n",
        "\n",
        "\n",
        "  shuffle_train = shuffle(train, random_state = 42)\n",
        "  shuffle_train_lab = shuffle(train_lab_categorical, random_state = 42)\n",
        "  return (shuffle_train,shuffle_train_lab, test, test_lab_categorical)\n",
        "\n"
      ],
      "metadata": {
        "id": "8IyrBDPZlsCJ"
      },
      "execution_count": 40,
      "outputs": []
    },
    {
      "cell_type": "code",
      "source": [
        "train, train_lab, test, test_lab = train_test_split([train_aviones,train_cars,train_cats, train_dogs],[test_aviones,test_cars,test_cats, test_dogs],[labels_train_aviones,labels_train_cars,labels_train_cats,labels_train_dogs],[labels_test_aviones,labels_test_cars,labels_test_cats,labels_test_dogs])"
      ],
      "metadata": {
        "id": "mv51k2nroulA",
        "colab": {
          "base_uri": "https://localhost:8080/"
        },
        "outputId": "852f152e-9422-43ac-ce53-501d70914ca3"
      },
      "execution_count": 41,
      "outputs": [
        {
          "output_type": "stream",
          "name": "stderr",
          "text": [
            "/usr/local/lib/python3.7/dist-packages/sklearn/preprocessing/_label.py:115: DataConversionWarning: A column-vector y was passed when a 1d array was expected. Please change the shape of y to (n_samples, ), for example using ravel().\n",
            "  y = column_or_1d(y, warn=True)\n"
          ]
        }
      ]
    },
    {
      "cell_type": "code",
      "source": [
        "print(train.shape)\n",
        "print(train_lab.shape)\n",
        "print(test.shape)\n",
        "print(test_lab.shape)"
      ],
      "metadata": {
        "colab": {
          "base_uri": "https://localhost:8080/"
        },
        "id": "IL9epabEv8I8",
        "outputId": "70d9bb93-b378-4124-cf13-cfd105102248"
      },
      "execution_count": 42,
      "outputs": [
        {
          "output_type": "stream",
          "name": "stdout",
          "text": [
            "(5466, 100, 100, 3)\n",
            "(5466, 4)\n",
            "(1822, 100, 100, 3)\n",
            "(1822, 4)\n"
          ]
        }
      ]
    },
    {
      "cell_type": "code",
      "source": [
        "train.shape[0]"
      ],
      "metadata": {
        "colab": {
          "base_uri": "https://localhost:8080/"
        },
        "id": "TkkVElKHwp4T",
        "outputId": "92529c0d-5dbc-46cc-a8e3-7d4dfa269699"
      },
      "execution_count": null,
      "outputs": [
        {
          "output_type": "execute_result",
          "data": {
            "text/plain": [
              "5085"
            ]
          },
          "metadata": {},
          "execution_count": 89
        }
      ]
    },
    {
      "cell_type": "code",
      "source": [
        "batch = 40\n",
        "steps_per_epoch = train.shape[0] // batch\n",
        "history= model.fit(\n",
        "    train,\n",
        "    train_lab,\n",
        "    steps_per_epoch= steps_per_epoch,\n",
        "    batch_size = batch,\n",
        "    epochs = 9,\n",
        "    validation_split = 0.2,\n",
        "    verbose = 1\n",
        ")"
      ],
      "metadata": {
        "id": "KcuOaPstwhJK"
      },
      "execution_count": null,
      "outputs": []
    },
    {
      "cell_type": "code",
      "source": [
        "history = model.fit(train,train_lab, validation_split = 0.2, verbose=1, epochs = 10, callbacks=[eS])"
      ],
      "metadata": {
        "id": "xfMxD3agRDes",
        "outputId": "3e112bbb-ae51-41e6-d297-0c69bf4d7556",
        "colab": {
          "base_uri": "https://localhost:8080/"
        }
      },
      "execution_count": 56,
      "outputs": [
        {
          "output_type": "stream",
          "name": "stdout",
          "text": [
            "Epoch 1/10\n",
            "137/137 [==============================] - 366s 3s/step - loss: 4.2376 - accuracy: 0.2768 - val_loss: 1.3180 - val_accuracy: 0.3675\n",
            "Epoch 2/10\n",
            "137/137 [==============================] - 355s 3s/step - loss: 1.2566 - accuracy: 0.3973 - val_loss: 1.1707 - val_accuracy: 0.4817\n",
            "Epoch 3/10\n",
            "137/137 [==============================] - 357s 3s/step - loss: 1.0963 - accuracy: 0.5140 - val_loss: 1.0377 - val_accuracy: 0.5402\n",
            "Epoch 4/10\n",
            "137/137 [==============================] - 354s 3s/step - loss: 0.9832 - accuracy: 0.5654 - val_loss: 1.0189 - val_accuracy: 0.5174\n",
            "Epoch 5/10\n",
            "137/137 [==============================] - 355s 3s/step - loss: 0.8867 - accuracy: 0.6109 - val_loss: 0.9297 - val_accuracy: 0.5777\n",
            "Epoch 6/10\n",
            "137/137 [==============================] - 356s 3s/step - loss: 0.8242 - accuracy: 0.6423 - val_loss: 0.9346 - val_accuracy: 0.5932\n",
            "Epoch 7/10\n",
            "137/137 [==============================] - 352s 3s/step - loss: 0.7318 - accuracy: 0.6850 - val_loss: 0.9125 - val_accuracy: 0.6033\n",
            "Epoch 8/10\n",
            "137/137 [==============================] - 352s 3s/step - loss: 0.6433 - accuracy: 0.7294 - val_loss: 0.9365 - val_accuracy: 0.6307\n",
            "Epoch 9/10\n",
            "137/137 [==============================] - 353s 3s/step - loss: 0.6059 - accuracy: 0.7594 - val_loss: 0.9187 - val_accuracy: 0.6408\n",
            "Epoch 10/10\n",
            "137/137 [==============================] - 355s 3s/step - loss: 0.5219 - accuracy: 0.7889 - val_loss: 1.0461 - val_accuracy: 0.6188\n"
          ]
        }
      ]
    },
    {
      "cell_type": "code",
      "source": [
        "history"
      ],
      "metadata": {
        "colab": {
          "base_uri": "https://localhost:8080/"
        },
        "id": "RJZ0jnRz5035",
        "outputId": "df312dc2-a3f9-472c-9459-cef714b812c2"
      },
      "execution_count": null,
      "outputs": [
        {
          "output_type": "execute_result",
          "data": {
            "text/plain": [
              "<keras.callbacks.History at 0x7f98da422050>"
            ]
          },
          "metadata": {},
          "execution_count": 107
        }
      ]
    },
    {
      "cell_type": "code",
      "source": [
        "epochs = range(1, len(acc)+1, 1)\n",
        "\n",
        "plt.plot  (epochs, acc    , 'r--', label = 'Training acc')\n",
        "plt.plot  (epochs, val_acc, 'b'  , label = 'Validation acc')\n",
        "plt.ylabel('acc')\n",
        "plt.xlabel('epochs')\n",
        "\n",
        "plt.legend()\n",
        "plt.figure()\n",
        "plt.plot (epochs, loss    , 'r--', label = 'Trainig Loss')\n",
        "plt.plot (epochs, val_loss, 'b', label = 'Validation Loss')\n",
        "plt.title('Training and validation loss')\n",
        "plt.ylabel('loss')\n",
        "plt.xlabel('epochs')\n",
        "\n",
        "plt.legend()\n",
        "plt.figure()"
      ],
      "metadata": {
        "id": "gdsHsgeZ6b68",
        "colab": {
          "base_uri": "https://localhost:8080/",
          "height": 592
        },
        "outputId": "852125e3-9c71-4844-8910-4a1c46d4974e"
      },
      "execution_count": 63,
      "outputs": [
        {
          "output_type": "execute_result",
          "data": {
            "text/plain": [
              "<Figure size 432x288 with 0 Axes>"
            ]
          },
          "metadata": {},
          "execution_count": 63
        },
        {
          "output_type": "display_data",
          "data": {
            "text/plain": [
              "<Figure size 432x288 with 1 Axes>"
            ],
            "image/png": "[encoded data removed]"
          },
          "metadata": {
            "needs_background": "light"
          }
        },
        {
          "output_type": "display_data",
          "data": {
            "text/plain": [
              "<Figure size 432x288 with 1 Axes>"
            ],
            "image/png": "[encoded data removed]"
          },
          "metadata": {
            "needs_background": "light"
          }
        },
        {
          "output_type": "display_data",
          "data": {
            "text/plain": [
              "<Figure size 432x288 with 0 Axes>"
            ]
          },
          "metadata": {}
        }
      ]
    }
  ]
}